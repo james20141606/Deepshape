{
 "cells": [
  {
   "cell_type": "code",
   "execution_count": 1,
   "metadata": {},
   "outputs": [
    {
     "name": "stdout",
     "output_type": "stream",
     "text": [
      "/home/chenxupeng/projects/deepshape\n"
     ]
    }
   ],
   "source": [
    "cd /home/chenxupeng/projects/deepshape/"
   ]
  },
  {
   "cell_type": "code",
   "execution_count": 2,
   "metadata": {},
   "outputs": [
    {
     "name": "stderr",
     "output_type": "stream",
     "text": [
      "/home/chenxupeng/apps/anaconda2/lib/python2.7/site-packages/h5py/__init__.py:36: FutureWarning: Conversion of the second argument of issubdtype from `float` to `np.floating` is deprecated. In future, it will be treated as `np.float64 == np.dtype(float).type`.\n",
      "  from ._conv import register_converters as _register_converters\n",
      "Using TensorFlow backend.\n"
     ]
    }
   ],
   "source": [
    "import sys,os,errno,gc\n",
    "sys.path.append('bin')\n",
    "import numpy as np\n",
    "import argparse, sys, os, errno\n",
    "from glob import glob\n",
    "import pandas as pd\n",
    "import h5py\n",
    "from tqdm import tqdm\n",
    "import keras as K\n",
    "from keras.callbacks import EarlyStopping\n",
    "from rnnseq2seq import *\n",
    "from keras.optimizers import Adam\n",
    "from keras.callbacks import ModelCheckpoint\n",
    "import tensorflow as tf\n",
    "os.environ[\"CUDA_DEVICE_ORDER\"] = \"PCI_BUS_ID\" # so the IDs match nvidia-smi\n",
    "os.environ[\"CUDA_VISIBLE_DEVICES\"] = '4'\n",
    "import tensorflow as tf\n",
    "from keras.models import load_model\n",
    "from keras.utils.generic_utils import get_custom_objects"
   ]
  },
  {
   "cell_type": "code",
   "execution_count": 3,
   "metadata": {},
   "outputs": [
    {
     "name": "stderr",
     "output_type": "stream",
     "text": [
      "100%|██████████| 540/540 [00:00<00:00, 1150.03it/s]\n"
     ]
    }
   ],
   "source": [
    "ic_shape = {}\n",
    "with h5py.File('known/known.h5') as f:\n",
    "    for i in tqdm(range(540)):\n",
    "        ic_shape[i] = f['known'][f['start'][i]:f['end'][i]]\n",
    "    icshape = np.array([value for (key,value) in ic_shape.iteritems()])\n",
    "    name = f['name'][:]"
   ]
  },
  {
   "cell_type": "code",
   "execution_count": 14,
   "metadata": {},
   "outputs": [],
   "source": [
    "def Model(model_path):\n",
    "    #prepare for model to predict\n",
    "    model = seq2seq_model('4',en_depth =4, de_depth =5,dep=4,hid_dim = 10,lr=0.05)\n",
    "    model.load_weights(model_path)\n",
    "    return model\n",
    "model = Model('output/rnnseq2seq_model4_weights.hdf5')"
   ]
  },
  {
   "cell_type": "code",
   "execution_count": 6,
   "metadata": {},
   "outputs": [],
   "source": [
    "seq1d = {}\n",
    "with h5py.File('known/1dseq') as f:\n",
    "    for i in range(540):\n",
    "        seq1d[i] = f[str(i)][:]"
   ]
  },
  {
   "cell_type": "code",
   "execution_count": 33,
   "metadata": {},
   "outputs": [
    {
     "data": {
      "text/plain": [
       "(358, 128, 4)"
      ]
     },
     "execution_count": 33,
     "metadata": {},
     "output_type": "execute_result"
    }
   ],
   "source": [
    "seq1d[0].shape"
   ]
  },
  {
   "cell_type": "code",
   "execution_count": 22,
   "metadata": {},
   "outputs": [
    {
     "data": {
      "text/plain": [
       "(357,)"
      ]
     },
     "execution_count": 22,
     "metadata": {},
     "output_type": "execute_result"
    }
   ],
   "source": [
    "icshape[0].shape"
   ]
  },
  {
   "cell_type": "code",
   "execution_count": 26,
   "metadata": {},
   "outputs": [],
   "source": [
    "data =model.predict(seq1d[0])"
   ]
  },
  {
   "cell_type": "code",
   "execution_count": 27,
   "metadata": {},
   "outputs": [
    {
     "data": {
      "text/plain": [
       "(358, 128, 1)"
      ]
     },
     "execution_count": 27,
     "metadata": {},
     "output_type": "execute_result"
    }
   ],
   "source": [
    "data.shape"
   ]
  },
  {
   "cell_type": "code",
   "execution_count": 29,
   "metadata": {},
   "outputs": [
    {
     "data": {
      "text/plain": [
       "(358, 128)"
      ]
     },
     "execution_count": 29,
     "metadata": {},
     "output_type": "execute_result"
    }
   ],
   "source": [
    "data[:,:,0].shape"
   ]
  },
  {
   "cell_type": "code",
   "execution_count": 32,
   "metadata": {},
   "outputs": [
    {
     "name": "stderr",
     "output_type": "stream",
     "text": [
      "\r",
      "  0%|          | 0/540 [00:00<?, ?it/s]"
     ]
    },
    {
     "ename": "ValueError",
     "evalue": "operands could not be broadcast together with shapes (358,) (357,) ",
     "output_type": "error",
     "traceback": [
      "\u001b[0;31m---------------------------------------------------------------------------\u001b[0m",
      "\u001b[0;31mValueError\u001b[0m                                Traceback (most recent call last)",
      "\u001b[0;32m<ipython-input-32-a080084d2659>\u001b[0m in \u001b[0;36m<module>\u001b[0;34m()\u001b[0m\n\u001b[1;32m     38\u001b[0m             \u001b[0;32mwith\u001b[0m \u001b[0mh5py\u001b[0m\u001b[0;34m.\u001b[0m\u001b[0mFile\u001b[0m\u001b[0;34m(\u001b[0m\u001b[0msave_path\u001b[0m\u001b[0;34m+\u001b[0m\u001b[0;34m'wholeprediction.hdf5'\u001b[0m\u001b[0;34m)\u001b[0m \u001b[0;32mas\u001b[0m \u001b[0mm\u001b[0m\u001b[0;34m:\u001b[0m\u001b[0;34m\u001b[0m\u001b[0m\n\u001b[1;32m     39\u001b[0m                 \u001b[0mm\u001b[0m\u001b[0;34m.\u001b[0m\u001b[0mcreate_dataset\u001b[0m\u001b[0;34m(\u001b[0m\u001b[0mstr\u001b[0m\u001b[0;34m(\u001b[0m\u001b[0mi\u001b[0m\u001b[0;34m)\u001b[0m\u001b[0;34m,\u001b[0m\u001b[0mdata\u001b[0m \u001b[0;34m=\u001b[0m \u001b[0mpredictval\u001b[0m\u001b[0;34m)\u001b[0m\u001b[0;34m\u001b[0m\u001b[0m\n\u001b[0;32m---> 40\u001b[0;31m         \u001b[0macc\u001b[0m\u001b[0;34m[\u001b[0m\u001b[0mi\u001b[0m\u001b[0;34m]\u001b[0m \u001b[0;34m=\u001b[0m \u001b[0mcalculate_acc\u001b[0m\u001b[0;34m(\u001b[0m\u001b[0mpredictval\u001b[0m\u001b[0;34m[\u001b[0m\u001b[0;34m:\u001b[0m\u001b[0;34m,\u001b[0m\u001b[0;34m:\u001b[0m\u001b[0;34m,\u001b[0m\u001b[0;36m0\u001b[0m\u001b[0;34m]\u001b[0m\u001b[0;34m,\u001b[0m \u001b[0micshape\u001b[0m\u001b[0;34m[\u001b[0m\u001b[0mi\u001b[0m\u001b[0;34m]\u001b[0m\u001b[0;34m)\u001b[0m\u001b[0;34m\u001b[0m\u001b[0m\n\u001b[0m\u001b[1;32m     41\u001b[0m         \u001b[0;32mwith\u001b[0m \u001b[0mh5py\u001b[0m\u001b[0;34m.\u001b[0m\u001b[0mFile\u001b[0m\u001b[0;34m(\u001b[0m\u001b[0msave_path\u001b[0m\u001b[0;34m)\u001b[0m \u001b[0;32mas\u001b[0m \u001b[0mt\u001b[0m\u001b[0;34m:\u001b[0m\u001b[0;34m\u001b[0m\u001b[0m\n\u001b[1;32m     42\u001b[0m             \u001b[0mt\u001b[0m\u001b[0;34m.\u001b[0m\u001b[0mcreate_dataset\u001b[0m\u001b[0;34m(\u001b[0m\u001b[0mstr\u001b[0m\u001b[0;34m(\u001b[0m\u001b[0mi\u001b[0m\u001b[0;34m)\u001b[0m\u001b[0;34m,\u001b[0m\u001b[0mdata\u001b[0m \u001b[0;34m=\u001b[0m \u001b[0macc\u001b[0m\u001b[0;34m[\u001b[0m\u001b[0mi\u001b[0m\u001b[0;34m]\u001b[0m\u001b[0;34m)\u001b[0m\u001b[0;34m\u001b[0m\u001b[0m\n",
      "\u001b[0;32m<ipython-input-32-a080084d2659>\u001b[0m in \u001b[0;36mcalculate_acc\u001b[0;34m(array, true_score)\u001b[0m\n\u001b[1;32m     26\u001b[0m         \u001b[0;32melse\u001b[0m\u001b[0;34m:\u001b[0m\u001b[0;34m\u001b[0m\u001b[0m\n\u001b[1;32m     27\u001b[0m             \u001b[0mscore\u001b[0m\u001b[0;34m[\u001b[0m\u001b[0mi\u001b[0m\u001b[0;34m]\u001b[0m \u001b[0;34m=\u001b[0m \u001b[0;36m1\u001b[0m\u001b[0;34m\u001b[0m\u001b[0m\n\u001b[0;32m---> 28\u001b[0;31m     \u001b[0macc\u001b[0m \u001b[0;34m=\u001b[0m \u001b[0mfloat\u001b[0m\u001b[0;34m(\u001b[0m\u001b[0mnp\u001b[0m\u001b[0;34m.\u001b[0m\u001b[0mwhere\u001b[0m\u001b[0;34m(\u001b[0m\u001b[0mnp\u001b[0m\u001b[0;34m.\u001b[0m\u001b[0mabs\u001b[0m\u001b[0;34m(\u001b[0m\u001b[0mscore\u001b[0m\u001b[0;34m-\u001b[0m\u001b[0mtrue_score\u001b[0m\u001b[0;34m)\u001b[0m \u001b[0;34m==\u001b[0m\u001b[0;36m0\u001b[0m\u001b[0;34m)\u001b[0m\u001b[0;34m[\u001b[0m\u001b[0;36m0\u001b[0m\u001b[0;34m]\u001b[0m\u001b[0;34m.\u001b[0m\u001b[0mshape\u001b[0m\u001b[0;34m[\u001b[0m\u001b[0;36m0\u001b[0m\u001b[0;34m]\u001b[0m\u001b[0;34m)\u001b[0m\u001b[0;34m/\u001b[0m\u001b[0mfloat\u001b[0m\u001b[0;34m(\u001b[0m\u001b[0mshape\u001b[0m\u001b[0;34m)\u001b[0m\u001b[0;34m\u001b[0m\u001b[0m\n\u001b[0m\u001b[1;32m     29\u001b[0m     \u001b[0;32mreturn\u001b[0m \u001b[0macc\u001b[0m\u001b[0;34m\u001b[0m\u001b[0m\n\u001b[1;32m     30\u001b[0m \u001b[0;34m\u001b[0m\u001b[0m\n",
      "\u001b[0;31mValueError\u001b[0m: operands could not be broadcast together with shapes (358,) (357,) "
     ]
    }
   ],
   "source": [
    "count =540\n",
    "save_path = 'output/acc/rnnseq2seq_model4_weights'\n",
    "def calculate_acc(array,true_score):\n",
    "    '''\n",
    "        an array of shape (length)*128\n",
    "        对齐并且求中间每个位置的平均\n",
    "        return shape*shape+128\n",
    "        '''\n",
    "    shape = array.shape[0]\n",
    "    new = np.ndarray([shape,shape+128])\n",
    "    for i in range(shape):\n",
    "        new[i] = np.concatenate((np.concatenate((np.zeros(i),array[i])),np.zeros(shape-i)))\n",
    "    score_vector = np.sum(new,axis = 0)[64:-64].astype('float')  #vector  shape\n",
    "    #这里要分情况！ 长度 64 128为界限  count_vector不一样\n",
    "    #64以下 每个位置被算长度次\n",
    "    if shape <=64:\n",
    "        count_vector = np.repeat(shape,shape)\n",
    "    if shape >=128:\n",
    "        count_vector = np.concatenate((np.concatenate((np.arange(65,129),np.repeat(128,shape-128))),~np.arange(65,129) +193))\n",
    "    if shape >64 and shape <128:\n",
    "        count_vector = np.concatenate((np.concatenate((np.arange(65,shape+1),np.repeat(shape,128-shape))),~np.arange(65,shape+1) +shape+1 +65))\n",
    "    score = score_vector/count_vector\n",
    "    for i in range(shape):\n",
    "        if score[i] <0.5:\n",
    "            score[i] = 0\n",
    "        else:\n",
    "            score[i] = 1\n",
    "    acc = float(np.where(np.abs(score-true_score) ==0)[0].shape[0])/float(shape)\n",
    "    return acc\n",
    "\n",
    "acc= {}\n",
    "predict_result = {}\n",
    "with h5py.File('known/1dseq') as f:\n",
    "    for i in tqdm(range(count)):\n",
    "        images = f[str(i)][:]\n",
    "        predictval = model.predict(images)\n",
    "        if True:\n",
    "            with h5py.File(save_path+'wholeprediction.hdf5') as m:\n",
    "                m.create_dataset(str(i),data = predictval)\n",
    "        acc[i] = calculate_acc(predictval[:,:,0], icshape[i])\n",
    "        with h5py.File(save_path) as t:\n",
    "            t.create_dataset(str(i),data = acc[i])\n",
    "acc = np.array([val for (key,val) in acc.iteritems()])\n",
    "np.savetxt(save_path+'_eachseq.txt',acc)\n",
    "\n",
    "category = np.ndarray([count]).astype('S')\n",
    "for i in range(count):\n",
    "    category[i] = name[i].split('_')[0]\n",
    "name_list = np.unique(category,)\n",
    "acc_cate = {}\n",
    "for j in range(10):\n",
    "    acc_cate[name_list[j]] = []\n",
    "    for i in range(count):\n",
    "        if category[i] ==name_list[j]:\n",
    "            acc_cate[name_list[j]].append(acc[i])\n",
    "table = pd.DataFrame([10])\n",
    "for i in range(10):\n",
    "    table[i] =  sum(acc_cate[name_list[i]])/len(acc_cate[name_list[i]])\n",
    "table = table.T\n",
    "table = table.set_index(name_list)\n",
    "table.columns = ['rnn_model']\n",
    "#table['2d_model_restrict'] = np.array(pd.read_csv('known/accuracy/acc_1.30_3')['2d_model'])\n",
    "table['dense'] = ['0.597','0.684','0.628','0.634','0.587','0.524','0.578','0.563','0.555','0.602']\n",
    "table = table.round(3)"
   ]
  },
  {
   "cell_type": "code",
   "execution_count": null,
   "metadata": {},
   "outputs": [],
   "source": []
  }
 ],
 "metadata": {
  "kernelspec": {
   "display_name": "Python 2",
   "language": "python",
   "name": "python2"
  },
  "language_info": {
   "codemirror_mode": {
    "name": "ipython",
    "version": 2
   },
   "file_extension": ".py",
   "mimetype": "text/x-python",
   "name": "python",
   "nbconvert_exporter": "python",
   "pygments_lexer": "ipython2",
   "version": "2.7.14"
  }
 },
 "nbformat": 4,
 "nbformat_minor": 2
}
