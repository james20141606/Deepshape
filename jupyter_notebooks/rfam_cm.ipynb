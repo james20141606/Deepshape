{
 "cells": [
  {
   "cell_type": "code",
   "execution_count": 1,
   "metadata": {},
   "outputs": [
    {
     "name": "stdout",
     "output_type": "stream",
     "text": [
      "Populating the interactive namespace from numpy and matplotlib\n"
     ]
    }
   ],
   "source": [
    "%pylab inline"
   ]
  },
  {
   "cell_type": "code",
   "execution_count": 40,
   "metadata": {},
   "outputs": [
    {
     "name": "stdout",
     "output_type": "stream",
     "text": [
      "/home/shibinbin/ibme/projects/Deepfold2\n"
     ]
    }
   ],
   "source": [
    "cd .."
   ]
  },
  {
   "cell_type": "code",
   "execution_count": 41,
   "metadata": {},
   "outputs": [],
   "source": [
    "import pandas as pd"
   ]
  },
  {
   "cell_type": "code",
   "execution_count": 42,
   "metadata": {},
   "outputs": [
    {
     "data": {
      "text/html": [
       "<div>\n",
       "<style scoped>\n",
       "    .dataframe tbody tr th:only-of-type {\n",
       "        vertical-align: middle;\n",
       "    }\n",
       "\n",
       "    .dataframe tbody tr th {\n",
       "        vertical-align: top;\n",
       "    }\n",
       "\n",
       "    .dataframe thead th {\n",
       "        text-align: right;\n",
       "    }\n",
       "</style>\n",
       "<table border=\"1\" class=\"dataframe\">\n",
       "  <thead>\n",
       "    <tr style=\"text-align: right;\">\n",
       "      <th></th>\n",
       "      <th>idx</th>\n",
       "      <th>name</th>\n",
       "      <th>accession</th>\n",
       "      <th>nseq</th>\n",
       "      <th>eff_nseq</th>\n",
       "      <th>clen</th>\n",
       "      <th>W</th>\n",
       "      <th>bps</th>\n",
       "      <th>bifs</th>\n",
       "      <th>model</th>\n",
       "      <th>rel_entropy_cm</th>\n",
       "      <th>rel_entropy_hmm</th>\n",
       "    </tr>\n",
       "  </thead>\n",
       "  <tbody>\n",
       "    <tr>\n",
       "      <th>0</th>\n",
       "      <td>1</td>\n",
       "      <td>5S_rRNA</td>\n",
       "      <td>RF00001</td>\n",
       "      <td>712</td>\n",
       "      <td>7.35</td>\n",
       "      <td>119.0</td>\n",
       "      <td>194</td>\n",
       "      <td>34</td>\n",
       "      <td>1</td>\n",
       "      <td>cm</td>\n",
       "      <td>0.590</td>\n",
       "      <td>0.370</td>\n",
       "    </tr>\n",
       "    <tr>\n",
       "      <th>1</th>\n",
       "      <td>2</td>\n",
       "      <td>5_8S_rRNA</td>\n",
       "      <td>RF00002</td>\n",
       "      <td>61</td>\n",
       "      <td>3.62</td>\n",
       "      <td>154.0</td>\n",
       "      <td>203</td>\n",
       "      <td>25</td>\n",
       "      <td>3</td>\n",
       "      <td>cm</td>\n",
       "      <td>0.590</td>\n",
       "      <td>0.471</td>\n",
       "    </tr>\n",
       "    <tr>\n",
       "      <th>2</th>\n",
       "      <td>3</td>\n",
       "      <td>U1</td>\n",
       "      <td>RF00003</td>\n",
       "      <td>100</td>\n",
       "      <td>4.43</td>\n",
       "      <td>166.0</td>\n",
       "      <td>197</td>\n",
       "      <td>40</td>\n",
       "      <td>3</td>\n",
       "      <td>cm</td>\n",
       "      <td>0.590</td>\n",
       "      <td>0.390</td>\n",
       "    </tr>\n",
       "    <tr>\n",
       "      <th>3</th>\n",
       "      <td>4</td>\n",
       "      <td>U2</td>\n",
       "      <td>RF00004</td>\n",
       "      <td>208</td>\n",
       "      <td>5.46</td>\n",
       "      <td>193.0</td>\n",
       "      <td>229</td>\n",
       "      <td>45</td>\n",
       "      <td>4</td>\n",
       "      <td>cm</td>\n",
       "      <td>0.590</td>\n",
       "      <td>0.398</td>\n",
       "    </tr>\n",
       "    <tr>\n",
       "      <th>4</th>\n",
       "      <td>5</td>\n",
       "      <td>tRNA</td>\n",
       "      <td>RF00005</td>\n",
       "      <td>954</td>\n",
       "      <td>67.04</td>\n",
       "      <td>71.0</td>\n",
       "      <td>259</td>\n",
       "      <td>21</td>\n",
       "      <td>2</td>\n",
       "      <td>cm</td>\n",
       "      <td>0.793</td>\n",
       "      <td>0.453</td>\n",
       "    </tr>\n",
       "  </tbody>\n",
       "</table>\n",
       "</div>"
      ],
      "text/plain": [
       "   idx       name accession  nseq  eff_nseq   clen    W  bps  bifs model  \\\n",
       "0    1    5S_rRNA   RF00001   712      7.35  119.0  194   34     1    cm   \n",
       "1    2  5_8S_rRNA   RF00002    61      3.62  154.0  203   25     3    cm   \n",
       "2    3         U1   RF00003   100      4.43  166.0  197   40     3    cm   \n",
       "3    4         U2   RF00004   208      5.46  193.0  229   45     4    cm   \n",
       "4    5       tRNA   RF00005   954     67.04   71.0  259   21     2    cm   \n",
       "\n",
       "   rel_entropy_cm  rel_entropy_hmm  \n",
       "0           0.590            0.370  \n",
       "1           0.590            0.471  \n",
       "2           0.590            0.390  \n",
       "3           0.590            0.398  \n",
       "4           0.793            0.453  "
      ]
     },
     "execution_count": 42,
     "metadata": {},
     "output_type": "execute_result"
    }
   ],
   "source": [
    "rfam_cmstat = pd.read_table('../../data/Rfam/13.0/Rfam.cmstat.txt', \n",
    "              comment='#', sep='\\s+', header=None,\n",
    "              names=['idx', 'name', 'accession', 'nseq', 'eff_nseq', 'clen', 'W', 'bps', 'bifs', 'model',\n",
    "                     'rel_entropy_cm', 'rel_entropy_hmm'])\n",
    "rfam_cmstat.loc[rfam_cmstat['rel_entropy_cm'] == '-', 'rel_entropy_cm'] = 'nan'\n",
    "rfam_cmstat['rel_entropy_cm'] = rfam_cmstat['rel_entropy_cm'].astype('float')\n",
    "#rfam_cmstat.loc[rfam_cmstat['rel_entropy_hmm'] == '-', 'rel_entropy_hmm'] = 'nan'\n",
    "#rfam_cmstat['rel_entropy_hmm'] = rfam_cmstat['rel_entropy_hmm'].astype('float')\n",
    "rfam_cmstat['clen'] = rfam_cmstat['clen'].astype(np.float64)\n",
    "rfam_cmstat.head()"
   ]
  },
  {
   "cell_type": "code",
   "execution_count": 35,
   "metadata": {},
   "outputs": [
    {
     "data": {
      "text/plain": [
       "Text(0,0.5,'counts')"
      ]
     },
     "execution_count": 35,
     "metadata": {},
     "output_type": "execute_result"
    },
    {
     "data": {
      "image/png": "[encoded data removed]",
      "text/plain": [
       "<matplotlib.figure.Figure at 0x7f795772e588>"
      ]
     },
     "metadata": {},
     "output_type": "display_data"
    }
   ],
   "source": [
    "fig, axes = plt.subplots(1, 3, figsize=(18, 4))\n",
    "axes[0].hist(rfam_cmstat['clen'].dropna(), bins=100)\n",
    "axes[0].set_xlabel('clen')\n",
    "axes[0].set_ylabel('counts')\n",
    "axes[1].hist(rfam_cmstat['rel_entropy_cm'].dropna(), bins=100)\n",
    "axes[1].set_xlabel('rel_entropy_cm')\n",
    "axes[1].set_ylabel('counts')\n",
    "axes[2].hist(rfam_cmstat['rel_entropy_hmm'].dropna(), bins=100)\n",
    "axes[2].set_xlabel('rel_entropy_hmm')\n",
    "axes[2].set_ylabel('counts')"
   ]
  },
  {
   "cell_type": "code",
   "execution_count": 44,
   "metadata": {},
   "outputs": [
    {
     "data": {
      "text/html": [
       "<div>\n",
       "<style scoped>\n",
       "    .dataframe tbody tr th:only-of-type {\n",
       "        vertical-align: middle;\n",
       "    }\n",
       "\n",
       "    .dataframe tbody tr th {\n",
       "        vertical-align: top;\n",
       "    }\n",
       "\n",
       "    .dataframe thead th {\n",
       "        text-align: right;\n",
       "    }\n",
       "</style>\n",
       "<table border=\"1\" class=\"dataframe\">\n",
       "  <thead>\n",
       "    <tr style=\"text-align: right;\">\n",
       "      <th></th>\n",
       "      <th>idx</th>\n",
       "      <th>name</th>\n",
       "      <th>accession</th>\n",
       "      <th>nseq</th>\n",
       "      <th>eff_nseq</th>\n",
       "      <th>clen</th>\n",
       "      <th>W</th>\n",
       "      <th>bps</th>\n",
       "      <th>bifs</th>\n",
       "      <th>model</th>\n",
       "      <th>rel_entropy_cm</th>\n",
       "      <th>rel_entropy_hmm</th>\n",
       "    </tr>\n",
       "  </thead>\n",
       "  <tbody>\n",
       "    <tr>\n",
       "      <th>0</th>\n",
       "      <td>1</td>\n",
       "      <td>5S_rRNA</td>\n",
       "      <td>RF00001</td>\n",
       "      <td>712</td>\n",
       "      <td>7.35</td>\n",
       "      <td>119.0</td>\n",
       "      <td>194</td>\n",
       "      <td>34</td>\n",
       "      <td>1</td>\n",
       "      <td>cm</td>\n",
       "      <td>0.590</td>\n",
       "      <td>0.370</td>\n",
       "    </tr>\n",
       "    <tr>\n",
       "      <th>4</th>\n",
       "      <td>5</td>\n",
       "      <td>tRNA</td>\n",
       "      <td>RF00005</td>\n",
       "      <td>954</td>\n",
       "      <td>67.04</td>\n",
       "      <td>71.0</td>\n",
       "      <td>259</td>\n",
       "      <td>21</td>\n",
       "      <td>2</td>\n",
       "      <td>cm</td>\n",
       "      <td>0.793</td>\n",
       "      <td>0.453</td>\n",
       "    </tr>\n",
       "    <tr>\n",
       "      <th>5</th>\n",
       "      <td>6</td>\n",
       "      <td>Vault</td>\n",
       "      <td>RF00006</td>\n",
       "      <td>73</td>\n",
       "      <td>4.46</td>\n",
       "      <td>101.0</td>\n",
       "      <td>302</td>\n",
       "      <td>19</td>\n",
       "      <td>0</td>\n",
       "      <td>cm</td>\n",
       "      <td>0.590</td>\n",
       "      <td>0.469</td>\n",
       "    </tr>\n",
       "    <tr>\n",
       "      <th>7</th>\n",
       "      <td>8</td>\n",
       "      <td>Hammerhead_3</td>\n",
       "      <td>RF00008</td>\n",
       "      <td>82</td>\n",
       "      <td>8.62</td>\n",
       "      <td>58.0</td>\n",
       "      <td>293</td>\n",
       "      <td>15</td>\n",
       "      <td>1</td>\n",
       "      <td>cm</td>\n",
       "      <td>0.961</td>\n",
       "      <td>0.722</td>\n",
       "    </tr>\n",
       "    <tr>\n",
       "      <th>13</th>\n",
       "      <td>14</td>\n",
       "      <td>DsrA</td>\n",
       "      <td>RF00014</td>\n",
       "      <td>5</td>\n",
       "      <td>1.25</td>\n",
       "      <td>85.0</td>\n",
       "      <td>103</td>\n",
       "      <td>29</td>\n",
       "      <td>2</td>\n",
       "      <td>cm</td>\n",
       "      <td>0.669</td>\n",
       "      <td>0.371</td>\n",
       "    </tr>\n",
       "  </tbody>\n",
       "</table>\n",
       "</div>"
      ],
      "text/plain": [
       "    idx          name accession  nseq  eff_nseq   clen    W  bps  bifs model  \\\n",
       "0     1       5S_rRNA   RF00001   712      7.35  119.0  194   34     1    cm   \n",
       "4     5          tRNA   RF00005   954     67.04   71.0  259   21     2    cm   \n",
       "5     6         Vault   RF00006    73      4.46  101.0  302   19     0    cm   \n",
       "7     8  Hammerhead_3   RF00008    82      8.62   58.0  293   15     1    cm   \n",
       "13   14          DsrA   RF00014     5      1.25   85.0  103   29     2    cm   \n",
       "\n",
       "    rel_entropy_cm  rel_entropy_hmm  \n",
       "0            0.590            0.370  \n",
       "4            0.793            0.453  \n",
       "5            0.590            0.469  \n",
       "7            0.961            0.722  \n",
       "13           0.669            0.371  "
      ]
     },
     "execution_count": 44,
     "metadata": {},
     "output_type": "execute_result"
    }
   ],
   "source": [
    "rfam_cmstat_sel = rfam_cmstat.query('50 < clen < 150')\n",
    "rfam_cmstat_sel['name'].to_csv('metadata/rfam_selected_ids.txt', index=False, header=False)\n",
    "rfam_cmstat_sel.head()"
   ]
  },
  {
   "cell_type": "code",
   "execution_count": null,
   "metadata": {},
   "outputs": [],
   "source": []
  }
 ],
 "metadata": {
  "kernelspec": {
   "display_name": "Python 3",
   "language": "python",
   "name": "python3"
  },
  "language_info": {
   "codemirror_mode": {
    "name": "ipython",
    "version": 3
   },
   "file_extension": ".py",
   "mimetype": "text/x-python",
   "name": "python",
   "nbconvert_exporter": "python",
   "pygments_lexer": "ipython3",
   "version": "3.6.4"
  },
  "latex_envs": {
   "LaTeX_envs_menu_present": true,
   "autoclose": false,
   "autocomplete": true,
   "bibliofile": "biblio.bib",
   "cite_by": "apalike",
   "current_citInitial": 1,
   "eqLabelWithNumbers": true,
   "eqNumInitial": 1,
   "hotkeys": {
    "equation": "Ctrl-E",
    "itemize": "Ctrl-I"
   },
   "labels_anchors": false,
   "latex_user_defs": false,
   "report_style_numbering": false,
   "user_envs_cfg": false
  }
 },
 "nbformat": 4,
 "nbformat_minor": 2
}
