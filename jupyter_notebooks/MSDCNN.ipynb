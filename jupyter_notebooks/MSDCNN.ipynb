{
 "cells": [
  {
   "cell_type": "code",
   "execution_count": 44,
   "metadata": {},
   "outputs": [
    {
     "name": "stdout",
     "output_type": "stream",
     "text": [
      "/home/chenxupeng/projects/deepshape\n"
     ]
    }
   ],
   "source": [
    "cd /home/chenxupeng/projects/deepshape/"
   ]
  },
  {
   "cell_type": "code",
   "execution_count": 50,
   "metadata": {},
   "outputs": [
    {
     "name": "stdout",
     "output_type": "stream",
     "text": [
      "Populating the interactive namespace from numpy and matplotlib\n"
     ]
    }
   ],
   "source": [
    "%pylab inline\n",
    "import warnings\n",
    "warnings.filterwarnings('ignore')\n",
    "import numpy as np\n",
    "import argparse, sys, os, errno\n",
    "from glob import glob\n",
    "import pandas as pd\n",
    "import matplotlib.pyplot as plt\n",
    "from keras.layers import Conv2D\n",
    "from keras.models import Model\n",
    "from keras.layers import Input, Activation\n",
    "from keras.layers import add, concatenate\n",
    "import seaborn as sns\n",
    "import h5py\n",
    "import keras as K\n",
    "from keras.callbacks import TensorBoard\n",
    "from keras.callbacks import EarlyStopping\n",
    "from keras.initializers import RandomNormal\n",
    "from keras.callbacks import ModelCheckpoint\n",
    "from keras.utils.vis_utils import model_to_dot \n",
    "from IPython.display import SVG \n",
    "from keras.utils import plot_model\n",
    "from keras.callbacks import EarlyStopping\n",
    "from msdcnn import *\n",
    "from keras.optimizers import Adam\n",
    "from keras.callbacks import ModelCheckpoint\n",
    "import tensorflow as tf\n",
    "import matplotlib.pyplot as plt\n",
    "os.environ[\"CUDA_DEVICE_ORDER\"] = \"PCI_BUS_ID\" # so the IDs match nvidia-smi\n",
    "os.environ[\"CUDA_VISIBLE_DEVICES\"] = \"0\"\n",
    "import tensorflow as tf\n",
    "from keras.backend.tensorflow_backend import set_session\n",
    "config = tf.ConfigProto()\n",
    "config.gpu_options.per_process_gpu_memory_fraction = 0.99\n",
    "set_session(tf.Session(config=config))"
   ]
  },
  {
   "cell_type": "code",
   "execution_count": 54,
   "metadata": {},
   "outputs": [],
   "source": [
    "model = msdcnnmet(num_layers=16, nc_in=3, nc_out=1)\n",
    "optim = Adam()\n",
    "model.compile(optimizer=optim, loss=CrossEntropyLoss(model,10), metrics=[binary_accuracy_with_nan,binary_crossentropy_with_nan,MSE(model)])\n",
    "#model.summary()"
   ]
  },
  {
   "cell_type": "code",
   "execution_count": null,
   "metadata": {},
   "outputs": [],
   "source": [
    "#model.layers[-8].output\n",
    "#model.get_layer(index = -8).output\n",
    "#plot_model(model,to_file='models/modelstructure/msdcnn.png',show_shapes=True,show_layer_names=True)"
   ]
  },
  {
   "cell_type": "code",
   "execution_count": 56,
   "metadata": {},
   "outputs": [
    {
     "data": {
      "text/plain": [
       "(100, 256)"
      ]
     },
     "execution_count": 56,
     "metadata": {},
     "output_type": "execute_result"
    }
   ],
   "source": [
    "number = 100\n",
    "with h5py.File('/home/chenxupeng/projects/deepshape/data/new/train_0') as f:\n",
    "    images_train = f['train_images'][:number]\n",
    "#with h5py.File('/home/chenxupeng/projects/deepshape/data/new/test_0') as f:\n",
    "    #images_test= f['test_images'][:number]\n",
    "with h5py.File('/home/chenxupeng/projects/deepshape/data/new/Spitale_2015_invivo_CDS_0.1') as f:\n",
    "    y_train = f['y_train'][:number]\n",
    "    #y_test = f['y_test'][:number]\n",
    "y_train = np.concatenate([y_train,y_train],axis = 1)\n",
    "#y_test= np.concatenate([y_test,y_test],axis = 1)\n",
    "#y size 256\n",
    "y_train.shape"
   ]
  },
  {
   "cell_type": "code",
   "execution_count": 63,
   "metadata": {},
   "outputs": [],
   "source": [
    "#callbacks = [model_checkpoint]\n",
    "model_checkpoint = ModelCheckpoint('output/msdcnn_3.12.hdf5', monitor='binary_accuracy_with_nan', save_best_only=True)\n",
    "#EarlyStopping(monitor=binary_accuracy_with_nan, patience=10, verbose=0)\n",
    "def Model(images_train,y_train,cv,seq_counts):\n",
    "    model.fit(images_train, y_train, batch_size=32, nb_epoch=5,\n",
    "              verbose=1, shuffle=True,validation_split=0.2,\n",
    "              callbacks=[model_checkpoint,EarlyStopping(monitor='CrossEntropyLoss', patience=10, verbose=0),TensorBoard(log_dir='/home/chenxupeng/projects/deepshape/output/tensorboard/unet/log_dir')])\n",
    "    model.save('output/msdcnn_3.12.hdf5')"
   ]
  },
  {
   "cell_type": "code",
   "execution_count": 64,
   "metadata": {},
   "outputs": [
    {
     "name": "stdout",
     "output_type": "stream",
     "text": [
      "Train on 80 samples, validate on 20 samples\n",
      "Epoch 1/5\n",
      "80/80 [==============================] - 5s 60ms/step - loss: 7.2670 - binary_accuracy_with_nan: 0.5044 - binary_crossentropy_with_nan: 7.2033 - MSE: 0.0064 - val_loss: 5.9683 - val_binary_accuracy_with_nan: 0.6045 - val_binary_crossentropy_with_nan: 5.8832 - val_MSE: 0.0085\n",
      "Epoch 2/5\n",
      "80/80 [==============================] - 5s 59ms/step - loss: 7.0765 - binary_accuracy_with_nan: 0.5051 - binary_crossentropy_with_nan: 6.9747 - MSE: 0.0102 - val_loss: 5.8819 - val_binary_accuracy_with_nan: 0.6045 - val_binary_crossentropy_with_nan: 5.7473 - val_MSE: 0.0135\n",
      "Epoch 3/5\n",
      "80/80 [==============================] - 5s 59ms/step - loss: 6.8555 - binary_accuracy_with_nan: 0.5054 - binary_crossentropy_with_nan: 6.6938 - MSE: 0.0162 - val_loss: 5.8132 - val_binary_accuracy_with_nan: 0.6045 - val_binary_crossentropy_with_nan: 5.6021 - val_MSE: 0.0211\n",
      "Epoch 4/5\n",
      "80/80 [==============================] - 5s 58ms/step - loss: 6.5995 - binary_accuracy_with_nan: 0.5040 - binary_crossentropy_with_nan: 6.3468 - MSE: 0.0253 - val_loss: 5.6846 - val_binary_accuracy_with_nan: 0.6045 - val_binary_crossentropy_with_nan: 5.3598 - val_MSE: 0.0325\n",
      "Epoch 5/5\n",
      "80/80 [==============================] - 5s 58ms/step - loss: 6.2760 - binary_accuracy_with_nan: 0.5048 - binary_crossentropy_with_nan: 5.8868 - MSE: 0.0389 - val_loss: 5.5172 - val_binary_accuracy_with_nan: 0.6045 - val_binary_crossentropy_with_nan: 5.0171 - val_MSE: 0.0500\n"
     ]
    }
   ],
   "source": [
    "for i in range(1):\n",
    "    Model(images_train[:number,:,:,:],y_train[:number,:],i,number)"
   ]
  },
  {
   "cell_type": "code",
   "execution_count": null,
   "metadata": {},
   "outputs": [],
   "source": []
  },
  {
   "cell_type": "code",
   "execution_count": null,
   "metadata": {},
   "outputs": [],
   "source": []
  },
  {
   "cell_type": "code",
   "execution_count": null,
   "metadata": {},
   "outputs": [],
   "source": []
  },
  {
   "cell_type": "code",
   "execution_count": null,
   "metadata": {},
   "outputs": [],
   "source": []
  },
  {
   "cell_type": "code",
   "execution_count": null,
   "metadata": {},
   "outputs": [],
   "source": []
  },
  {
   "cell_type": "code",
   "execution_count": null,
   "metadata": {},
   "outputs": [],
   "source": []
  },
  {
   "cell_type": "code",
   "execution_count": null,
   "metadata": {},
   "outputs": [],
   "source": []
  },
  {
   "cell_type": "code",
   "execution_count": null,
   "metadata": {},
   "outputs": [],
   "source": []
  },
  {
   "cell_type": "code",
   "execution_count": null,
   "metadata": {},
   "outputs": [],
   "source": []
  },
  {
   "cell_type": "code",
   "execution_count": null,
   "metadata": {},
   "outputs": [],
   "source": []
  },
  {
   "cell_type": "markdown",
   "metadata": {},
   "source": [
    "def draw_structure(num_layers):\n",
    "    input_layer = Input(shape=(128, 128, 3))\n",
    "    output_layer, msd_layers = mixed_scaled_dense_network(input_layer, num_layers)\n",
    "    model = Model(inputs=[input_layer], outputs=[output_layer])\n",
    "    dot = model_to_dot(model, show_shapes=True, show_layer_names=True)\n",
    "    dot.set_rankdir('same')\n",
    "    with open('models/model_%s.dot'%(str(num_layers)), 'w') as f:\n",
    "        f.write(dot.to_string())\n",
    "    os.system('dot -Tpdf -o models/model.pdf models/model.dot')\n",
    "def draw_structure(num_layers):\n",
    "    input_layer = Input(shape=(128, 128, 3))\n",
    "    output_layer, msd_layers = mixed_scaled_dense_network(input_layer,num_layers)\n",
    "    model = Model(inputs=[input_layer], outputs=[output_layer])\n",
    "                           plot_model(model,to_file='models/modelstructure/model_%s.png'(str(num_layers)),show_shapes=True,show_layer_names=True)\n",
    "for i in range(32):\n",
    "    draw_structure(i)"
   ]
  }
 ],
 "metadata": {
  "kernelspec": {
   "display_name": "Python 2",
   "language": "python",
   "name": "python2"
  },
  "language_info": {
   "codemirror_mode": {
    "name": "ipython",
    "version": 2
   },
   "file_extension": ".py",
   "mimetype": "text/x-python",
   "name": "python",
   "nbconvert_exporter": "python",
   "pygments_lexer": "ipython2",
   "version": "2.7.14"
  }
 },
 "nbformat": 4,
 "nbformat_minor": 2
}
