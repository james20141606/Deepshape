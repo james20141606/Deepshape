{
 "cells": [
  {
   "cell_type": "code",
   "execution_count": 3,
   "metadata": {},
   "outputs": [
    {
     "name": "stdout",
     "output_type": "stream",
     "text": [
      "/home/chenxupeng/projects/deepshape\n"
     ]
    }
   ],
   "source": [
    "cd /home/chenxupeng/projects/deepshape/"
   ]
  },
  {
   "cell_type": "code",
   "execution_count": 4,
   "metadata": {},
   "outputs": [
    {
     "name": "stdout",
     "output_type": "stream",
     "text": [
      "Populating the interactive namespace from numpy and matplotlib\n"
     ]
    }
   ],
   "source": [
    "import warnings\n",
    "warnings.filterwarnings('ignore')\n",
    "from scipy.stats import pearsonr\n",
    "%pylab inline\n",
    "import argparse, sys, os, errno\n",
    "sys.path.append('bin')\n",
    "import numpy as np\n",
    "import h5py\n",
    "from Bio import SeqIO\n",
    "from Bio.Seq import Seq\n",
    "from Bio.SeqRecord import SeqRecord\n",
    "import numpy as np\n",
    "from glob import glob\n",
    "import pandas as pd\n",
    "import matplotlib.pyplot as plt\n",
    "import seaborn as sns\n",
    "import h5py\n",
    "from tqdm import tqdm"
   ]
  },
  {
   "cell_type": "code",
   "execution_count": null,
   "metadata": {},
   "outputs": [],
   "source": [
    "import keras as K\n",
    "import seaborn as sns\n",
    "from keras.callbacks import TensorBoard\n",
    "from keras.callbacks import EarlyStopping\n",
    "from keras.optimizers import Adam\n",
    "from keras.callbacks import ModelCheckpoint\n",
    "import tensorflow as tf\n",
    "import matplotlib.pyplot as plt\n",
    "os.environ[\"CUDA_DEVICE_ORDER\"] = \"PCI_BUS_ID\" # so the IDs match nvidia-smi\n",
    "os.environ[\"CUDA_VISIBLE_DEVICES\"] = \"5\"\n",
    "import tensorflow as tf\n",
    "from keras.backend.tensorflow_backend import set_session\n",
    "config = tf.ConfigProto()\n",
    "config.gpu_options.per_process_gpu_memory_fraction = 0.99\n",
    "set_session(tf.Session(config=config))\n",
    "from keras.models import load_model\n",
    "from keras.utils.generic_utils import get_custom_objects\n",
    "from unet_128_model_row_column import *"
   ]
  },
  {
   "cell_type": "markdown",
   "metadata": {},
   "source": [
    "# prepare data \n",
    "pictures_540  <br>\n",
    "and use final_acc.py to test models <br>\n",
    "note to change save path!"
   ]
  },
  {
   "cell_type": "code",
   "execution_count": null,
   "metadata": {},
   "outputs": [],
   "source": [
    "ic_shape = {}\n",
    "with h5py.File('known/known.h5') as f:\n",
    "    for i in tqdm(range(540)):\n",
    "        ic_shape[i] = f['known'][f['start'][i]:f['end'][i]]\n",
    "    icshape = np.array([value for (key,value) in ic_shape.iteritems()])\n",
    "    name = f['name'][:]\n",
    "with h5py.File('known/known.h5') as f:\n",
    "    names = f['name'][:]\n",
    "record_dict = SeqIO.to_dict(SeqIO.parse(\"known/sequences.fa\", \"fasta\"))\n",
    "sequences = {}\n",
    "for i in range(540):\n",
    "    sequences[i] = record_dict[names[i]].seq.tostring()\n",
    "class Onehot(object):\n",
    "    def __init__(self, alphabet='ATCG'):\n",
    "        self.transtable = np.zeros(128, np.int64)\n",
    "        self.transtable[[ord(a) for a in alphabet]] = range(len(alphabet))\n",
    "        self.alphabet = np.frombuffer(alphabet, np.int8)\n",
    "    def encode(self, seq):\n",
    "        seq_int = self.transtable[np.frombuffer(seq, np.int8)]\n",
    "        encoded = np.zeros((len(seq), len(self.alphabet)), np.int8)\n",
    "        encoded[np.r_[:len(seq)], seq_int] = 1\n",
    "        return encoded\n",
    "    def decode(self, a):\n",
    "        return self.alphabet[np.argmax(a, axis=1)].tostring()\n",
    "onehot = Onehot()\n",
    "\n",
    "fillarr = np.repeat(0.25,64*4).reshape(-1,4)\n",
    "\n",
    "imshow(np.repeat(onehot.encode(sequences[0]),50).reshape(-1,200))\n",
    "imshow(np.repeat(np.concatenate((fillarr,onehot.encode(sequences[0]),fillarr)),50).reshape(-1,200))\n",
    "onehotarr = {}\n",
    "for i in range(540):\n",
    "    onehotarr[i] = np.concatenate((fillarr,onehot.encode(sequences[i]),fillarr))\n",
    "def getfrag(data):\n",
    "    '''\n",
    "    data: length*4\n",
    "    frag number: length-128+1\n",
    "    '''\n",
    "    number = data.shape[0]-128+1\n",
    "    arr = np.ndarray([number,128,4])\n",
    "    for i in range(number):\n",
    "        arr[i] = data[i:i+128]\n",
    "    return arr\n",
    "\n",
    "frags ={}\n",
    "for i in range(540):\n",
    "    frags[i] = getfrag(onehotarr[i])\n",
    "    \n",
    "def convert_to_image(x):\n",
    "    m = (np.repeat(x, 4, axis=1)[np.newaxis, :, :]*np.tile(x, 4)[:, np.newaxis, :])\n",
    "    return m\n",
    "with h5py.File('known/pictures_540') as f:\n",
    "    for i in tqdm(range(540)):\n",
    "        datarr = np.ndarray([len(frags[i]),128,128,16])\n",
    "        for j in range(len(frags[i])):\n",
    "            datarr[j] = convert_to_image(frags[i][j])\n",
    "        f.create_dataset(str(i),data=datarr)\n",
    "#known/pictures_540\n",
    "#每个 str(i) 里存着一条序列的所有片段的图片\n",
    "frags ={}\n",
    "with h5py.File('known/pictures_540') as f:\n",
    "    with h5py.File('known/pictures_540_1') as t:\n",
    "        for i in tqdm(range(540)):\n",
    "            frags[i] =  f[str(i)][:]\n",
    "            t.create_dataset(str(i),data = f[str(i)][:-1])"
   ]
  },
  {
   "cell_type": "code",
   "execution_count": 7,
   "metadata": {},
   "outputs": [
    {
     "data": {
      "text/html": [
       "<div>\n",
       "<style scoped>\n",
       "    .dataframe tbody tr th:only-of-type {\n",
       "        vertical-align: middle;\n",
       "    }\n",
       "\n",
       "    .dataframe tbody tr th {\n",
       "        vertical-align: top;\n",
       "    }\n",
       "\n",
       "    .dataframe thead th {\n",
       "        text-align: right;\n",
       "    }\n",
       "</style>\n",
       "<table border=\"1\" class=\"dataframe\">\n",
       "  <thead>\n",
       "    <tr style=\"text-align: right;\">\n",
       "      <th></th>\n",
       "      <th>Unnamed: 0</th>\n",
       "      <th>2d_model</th>\n",
       "      <th>dense</th>\n",
       "    </tr>\n",
       "  </thead>\n",
       "  <tbody>\n",
       "    <tr>\n",
       "      <th>0</th>\n",
       "      <td>16s</td>\n",
       "      <td>0.511</td>\n",
       "      <td>0.597</td>\n",
       "    </tr>\n",
       "    <tr>\n",
       "      <th>1</th>\n",
       "      <td>23s</td>\n",
       "      <td>0.425</td>\n",
       "      <td>0.684</td>\n",
       "    </tr>\n",
       "    <tr>\n",
       "      <th>2</th>\n",
       "      <td>5s</td>\n",
       "      <td>0.479</td>\n",
       "      <td>0.628</td>\n",
       "    </tr>\n",
       "    <tr>\n",
       "      <th>3</th>\n",
       "      <td>RNaseP</td>\n",
       "      <td>0.471</td>\n",
       "      <td>0.634</td>\n",
       "    </tr>\n",
       "    <tr>\n",
       "      <th>4</th>\n",
       "      <td>grp1</td>\n",
       "      <td>0.488</td>\n",
       "      <td>0.587</td>\n",
       "    </tr>\n",
       "    <tr>\n",
       "      <th>5</th>\n",
       "      <td>grp2</td>\n",
       "      <td>0.577</td>\n",
       "      <td>0.524</td>\n",
       "    </tr>\n",
       "    <tr>\n",
       "      <th>6</th>\n",
       "      <td>srp</td>\n",
       "      <td>0.468</td>\n",
       "      <td>0.578</td>\n",
       "    </tr>\n",
       "    <tr>\n",
       "      <th>7</th>\n",
       "      <td>tRNA</td>\n",
       "      <td>0.474</td>\n",
       "      <td>0.563</td>\n",
       "    </tr>\n",
       "    <tr>\n",
       "      <th>8</th>\n",
       "      <td>telomerase</td>\n",
       "      <td>0.519</td>\n",
       "      <td>0.555</td>\n",
       "    </tr>\n",
       "    <tr>\n",
       "      <th>9</th>\n",
       "      <td>tmRNA</td>\n",
       "      <td>0.490</td>\n",
       "      <td>0.602</td>\n",
       "    </tr>\n",
       "  </tbody>\n",
       "</table>\n",
       "</div>"
      ],
      "text/plain": [
       "   Unnamed: 0  2d_model  dense\n",
       "0         16s     0.511  0.597\n",
       "1         23s     0.425  0.684\n",
       "2          5s     0.479  0.628\n",
       "3      RNaseP     0.471  0.634\n",
       "4        grp1     0.488  0.587\n",
       "5        grp2     0.577  0.524\n",
       "6         srp     0.468  0.578\n",
       "7        tRNA     0.474  0.563\n",
       "8  telomerase     0.519  0.555\n",
       "9       tmRNA     0.490  0.602"
      ]
     },
     "execution_count": 7,
     "metadata": {},
     "output_type": "execute_result"
    }
   ],
   "source": [
    "pd.read_csv('output/acc/acc_unet_cdsstride16_4.2')"
   ]
  },
  {
   "cell_type": "code",
   "execution_count": 8,
   "metadata": {},
   "outputs": [
    {
     "data": {
      "text/html": [
       "<div>\n",
       "<style scoped>\n",
       "    .dataframe tbody tr th:only-of-type {\n",
       "        vertical-align: middle;\n",
       "    }\n",
       "\n",
       "    .dataframe tbody tr th {\n",
       "        vertical-align: top;\n",
       "    }\n",
       "\n",
       "    .dataframe thead th {\n",
       "        text-align: right;\n",
       "    }\n",
       "</style>\n",
       "<table border=\"1\" class=\"dataframe\">\n",
       "  <thead>\n",
       "    <tr style=\"text-align: right;\">\n",
       "      <th></th>\n",
       "      <th>Unnamed: 0</th>\n",
       "      <th>2d_model</th>\n",
       "      <th>dense</th>\n",
       "    </tr>\n",
       "  </thead>\n",
       "  <tbody>\n",
       "    <tr>\n",
       "      <th>0</th>\n",
       "      <td>16s</td>\n",
       "      <td>0.470</td>\n",
       "      <td>0.597</td>\n",
       "    </tr>\n",
       "    <tr>\n",
       "      <th>1</th>\n",
       "      <td>23s</td>\n",
       "      <td>0.549</td>\n",
       "      <td>0.684</td>\n",
       "    </tr>\n",
       "    <tr>\n",
       "      <th>2</th>\n",
       "      <td>5s</td>\n",
       "      <td>0.549</td>\n",
       "      <td>0.628</td>\n",
       "    </tr>\n",
       "    <tr>\n",
       "      <th>3</th>\n",
       "      <td>RNaseP</td>\n",
       "      <td>0.504</td>\n",
       "      <td>0.634</td>\n",
       "    </tr>\n",
       "    <tr>\n",
       "      <th>4</th>\n",
       "      <td>grp1</td>\n",
       "      <td>0.509</td>\n",
       "      <td>0.587</td>\n",
       "    </tr>\n",
       "    <tr>\n",
       "      <th>5</th>\n",
       "      <td>grp2</td>\n",
       "      <td>0.410</td>\n",
       "      <td>0.524</td>\n",
       "    </tr>\n",
       "    <tr>\n",
       "      <th>6</th>\n",
       "      <td>srp</td>\n",
       "      <td>0.521</td>\n",
       "      <td>0.578</td>\n",
       "    </tr>\n",
       "    <tr>\n",
       "      <th>7</th>\n",
       "      <td>tRNA</td>\n",
       "      <td>0.485</td>\n",
       "      <td>0.563</td>\n",
       "    </tr>\n",
       "    <tr>\n",
       "      <th>8</th>\n",
       "      <td>telomerase</td>\n",
       "      <td>0.495</td>\n",
       "      <td>0.555</td>\n",
       "    </tr>\n",
       "    <tr>\n",
       "      <th>9</th>\n",
       "      <td>tmRNA</td>\n",
       "      <td>0.469</td>\n",
       "      <td>0.602</td>\n",
       "    </tr>\n",
       "  </tbody>\n",
       "</table>\n",
       "</div>"
      ],
      "text/plain": [
       "   Unnamed: 0  2d_model  dense\n",
       "0         16s     0.470  0.597\n",
       "1         23s     0.549  0.684\n",
       "2          5s     0.549  0.628\n",
       "3      RNaseP     0.504  0.634\n",
       "4        grp1     0.509  0.587\n",
       "5        grp2     0.410  0.524\n",
       "6         srp     0.521  0.578\n",
       "7        tRNA     0.485  0.563\n",
       "8  telomerase     0.495  0.555\n",
       "9       tmRNA     0.469  0.602"
      ]
     },
     "execution_count": 8,
     "metadata": {},
     "output_type": "execute_result"
    }
   ],
   "source": [
    "pd.read_csv('output/acc/acc_unet_allstride16_4.3_norestrict')"
   ]
  },
  {
   "cell_type": "code",
   "execution_count": 9,
   "metadata": {},
   "outputs": [],
   "source": [
    "f = h5py.File('output/acc/acc_unet_allstride16_4.3_norestrictwholeprediction.hdf5')"
   ]
  },
  {
   "cell_type": "code",
   "execution_count": 13,
   "metadata": {},
   "outputs": [
    {
     "data": {
      "text/plain": [
       "array([[2.2270990e-06, 2.2313766e-06, 2.0345506e-06, ..., 9.9999994e-01,\n",
       "        9.9999994e-01, 9.9999988e-01],\n",
       "       [2.2334225e-06, 2.2449051e-06, 2.0478585e-06, ..., 9.9999994e-01,\n",
       "        9.9999994e-01, 9.9999988e-01],\n",
       "       [2.2260342e-06, 2.2299737e-06, 2.0324642e-06, ..., 9.9999994e-01,\n",
       "        9.9999994e-01, 9.9999988e-01],\n",
       "       ...,\n",
       "       [1.9455206e-06, 1.8368938e-06, 1.6700352e-06, ..., 9.9999994e-01,\n",
       "        9.9999994e-01, 9.9999988e-01],\n",
       "       [2.0150010e-06, 1.9273541e-06, 1.7250745e-06, ..., 9.9999994e-01,\n",
       "        9.9999994e-01, 9.9999988e-01],\n",
       "       [1.9068395e-06, 1.8449387e-06, 1.6919971e-06, ..., 9.9999994e-01,\n",
       "        9.9999994e-01, 9.9999988e-01]], dtype=float32)"
      ]
     },
     "execution_count": 13,
     "metadata": {},
     "output_type": "execute_result"
    }
   ],
   "source": [
    "f['0'][:]"
   ]
  },
  {
   "cell_type": "code",
   "execution_count": 14,
   "metadata": {},
   "outputs": [],
   "source": [
    "predicted = {}\n",
    "with h5py.File('output/acc/acc_unet_allstride16_4.3_norestrictwholeprediction.hdf5') as f:\n",
    "    for i in range(540):\n",
    "        predicted[i] = f[str(i)][:,:128]\n",
    "prearr ={}\n",
    "for j in range(540):\n",
    "    prearr[j] = np.ndarray([predicted[j].shape[0],128+predicted[j].shape[0]])\n",
    "    for i in range(predicted[j].shape[0]):\n",
    "        prearr[j][i] = np.concatenate((np.zeros(i).reshape(-1,1),predicted[j][i].reshape(-1,1),np.zeros(predicted[j].shape[0]-i).reshape(-1,1))).ravel()"
   ]
  },
  {
   "cell_type": "code",
   "execution_count": 17,
   "metadata": {},
   "outputs": [
    {
     "data": {
      "text/plain": [
       "<matplotlib.image.AxesImage at 0x7f5d6e303a10>"
      ]
     },
     "execution_count": 17,
     "metadata": {},
     "output_type": "execute_result"
    },
    {
     "data": {
      "image/png": "[encoded data removed]",
      "text/plain": [
       "<matplotlib.figure.Figure at 0x7f5d6e3c3d10>"
      ]
     },
     "metadata": {},
     "output_type": "display_data"
    }
   ],
   "source": [
    "imshow(prearr[100],cmap='jet')"
   ]
  },
  {
   "cell_type": "code",
   "execution_count": 28,
   "metadata": {},
   "outputs": [
    {
     "data": {
      "text/html": [
       "<div>\n",
       "<style scoped>\n",
       "    .dataframe tbody tr th:only-of-type {\n",
       "        vertical-align: middle;\n",
       "    }\n",
       "\n",
       "    .dataframe tbody tr th {\n",
       "        vertical-align: top;\n",
       "    }\n",
       "\n",
       "    .dataframe thead th {\n",
       "        text-align: right;\n",
       "    }\n",
       "</style>\n",
       "<table border=\"1\" class=\"dataframe\">\n",
       "  <thead>\n",
       "    <tr style=\"text-align: right;\">\n",
       "      <th></th>\n",
       "      <th>Unnamed: 0</th>\n",
       "      <th>2d_model</th>\n",
       "      <th>dense</th>\n",
       "    </tr>\n",
       "  </thead>\n",
       "  <tbody>\n",
       "    <tr>\n",
       "      <th>0</th>\n",
       "      <td>16s</td>\n",
       "      <td>0.562</td>\n",
       "      <td>0.597</td>\n",
       "    </tr>\n",
       "    <tr>\n",
       "      <th>1</th>\n",
       "      <td>23s</td>\n",
       "      <td>0.431</td>\n",
       "      <td>0.684</td>\n",
       "    </tr>\n",
       "    <tr>\n",
       "      <th>2</th>\n",
       "      <td>5s</td>\n",
       "      <td>0.468</td>\n",
       "      <td>0.628</td>\n",
       "    </tr>\n",
       "    <tr>\n",
       "      <th>3</th>\n",
       "      <td>RNaseP</td>\n",
       "      <td>0.466</td>\n",
       "      <td>0.634</td>\n",
       "    </tr>\n",
       "    <tr>\n",
       "      <th>4</th>\n",
       "      <td>grp1</td>\n",
       "      <td>0.510</td>\n",
       "      <td>0.587</td>\n",
       "    </tr>\n",
       "    <tr>\n",
       "      <th>5</th>\n",
       "      <td>grp2</td>\n",
       "      <td>0.644</td>\n",
       "      <td>0.524</td>\n",
       "    </tr>\n",
       "    <tr>\n",
       "      <th>6</th>\n",
       "      <td>srp</td>\n",
       "      <td>0.458</td>\n",
       "      <td>0.578</td>\n",
       "    </tr>\n",
       "    <tr>\n",
       "      <th>7</th>\n",
       "      <td>tRNA</td>\n",
       "      <td>0.471</td>\n",
       "      <td>0.563</td>\n",
       "    </tr>\n",
       "    <tr>\n",
       "      <th>8</th>\n",
       "      <td>telomerase</td>\n",
       "      <td>0.560</td>\n",
       "      <td>0.555</td>\n",
       "    </tr>\n",
       "    <tr>\n",
       "      <th>9</th>\n",
       "      <td>tmRNA</td>\n",
       "      <td>0.493</td>\n",
       "      <td>0.602</td>\n",
       "    </tr>\n",
       "  </tbody>\n",
       "</table>\n",
       "</div>"
      ],
      "text/plain": [
       "   Unnamed: 0  2d_model  dense\n",
       "0         16s     0.562  0.597\n",
       "1         23s     0.431  0.684\n",
       "2          5s     0.468  0.628\n",
       "3      RNaseP     0.466  0.634\n",
       "4        grp1     0.510  0.587\n",
       "5        grp2     0.644  0.524\n",
       "6         srp     0.458  0.578\n",
       "7        tRNA     0.471  0.563\n",
       "8  telomerase     0.560  0.555\n",
       "9       tmRNA     0.493  0.602"
      ]
     },
     "execution_count": 28,
     "metadata": {},
     "output_type": "execute_result"
    }
   ],
   "source": [
    "pd.read_csv('output/acc/acc_unet_unet_allstride16_4.3_restrict.hdf5')"
   ]
  },
  {
   "cell_type": "code",
   "execution_count": 29,
   "metadata": {},
   "outputs": [],
   "source": [
    "predicted = {}\n",
    "with h5py.File('output/acc/acc_unet_unet_allstride16_4.3_restrict.hdf5wholeprediction.hdf5') as f:\n",
    "    for i in range(540):\n",
    "        predicted[i] = f[str(i)][:,:128]\n",
    "prearr ={}\n",
    "for j in range(540):\n",
    "    prearr[j] = np.ndarray([predicted[j].shape[0],128+predicted[j].shape[0]])\n",
    "    for i in range(predicted[j].shape[0]):\n",
    "        prearr[j][i] = np.concatenate((np.zeros(i).reshape(-1,1),predicted[j][i].reshape(-1,1),np.zeros(predicted[j].shape[0]-i).reshape(-1,1))).ravel()"
   ]
  },
  {
   "cell_type": "code",
   "execution_count": 30,
   "metadata": {},
   "outputs": [
    {
     "data": {
      "text/plain": [
       "<matplotlib.image.AxesImage at 0x7f5d6e20d310>"
      ]
     },
     "execution_count": 30,
     "metadata": {},
     "output_type": "execute_result"
    },
    {
     "data": {
      "image/png": "[encoded data removed]",
      "text/plain": [
       "<matplotlib.figure.Figure at 0x7f5d6e2c0d10>"
      ]
     },
     "metadata": {},
     "output_type": "display_data"
    }
   ],
   "source": [
    "imshow(prearr[100],cmap='jet')"
   ]
  },
  {
   "cell_type": "code",
   "execution_count": 5,
   "metadata": {},
   "outputs": [
    {
     "data": {
      "text/html": [
       "<div>\n",
       "<style scoped>\n",
       "    .dataframe tbody tr th:only-of-type {\n",
       "        vertical-align: middle;\n",
       "    }\n",
       "\n",
       "    .dataframe tbody tr th {\n",
       "        vertical-align: top;\n",
       "    }\n",
       "\n",
       "    .dataframe thead th {\n",
       "        text-align: right;\n",
       "    }\n",
       "</style>\n",
       "<table border=\"1\" class=\"dataframe\">\n",
       "  <thead>\n",
       "    <tr style=\"text-align: right;\">\n",
       "      <th></th>\n",
       "      <th>Unnamed: 0</th>\n",
       "      <th>2d_model</th>\n",
       "      <th>dense</th>\n",
       "    </tr>\n",
       "  </thead>\n",
       "  <tbody>\n",
       "    <tr>\n",
       "      <th>0</th>\n",
       "      <td>16s</td>\n",
       "      <td>0.426</td>\n",
       "      <td>0.597</td>\n",
       "    </tr>\n",
       "    <tr>\n",
       "      <th>1</th>\n",
       "      <td>23s</td>\n",
       "      <td>0.369</td>\n",
       "      <td>0.684</td>\n",
       "    </tr>\n",
       "    <tr>\n",
       "      <th>2</th>\n",
       "      <td>5s</td>\n",
       "      <td>0.404</td>\n",
       "      <td>0.628</td>\n",
       "    </tr>\n",
       "    <tr>\n",
       "      <th>3</th>\n",
       "      <td>RNaseP</td>\n",
       "      <td>0.413</td>\n",
       "      <td>0.634</td>\n",
       "    </tr>\n",
       "    <tr>\n",
       "      <th>4</th>\n",
       "      <td>grp1</td>\n",
       "      <td>0.428</td>\n",
       "      <td>0.587</td>\n",
       "    </tr>\n",
       "    <tr>\n",
       "      <th>5</th>\n",
       "      <td>grp2</td>\n",
       "      <td>0.530</td>\n",
       "      <td>0.524</td>\n",
       "    </tr>\n",
       "    <tr>\n",
       "      <th>6</th>\n",
       "      <td>srp</td>\n",
       "      <td>0.409</td>\n",
       "      <td>0.578</td>\n",
       "    </tr>\n",
       "    <tr>\n",
       "      <th>7</th>\n",
       "      <td>tRNA</td>\n",
       "      <td>0.501</td>\n",
       "      <td>0.563</td>\n",
       "    </tr>\n",
       "    <tr>\n",
       "      <th>8</th>\n",
       "      <td>telomerase</td>\n",
       "      <td>0.459</td>\n",
       "      <td>0.555</td>\n",
       "    </tr>\n",
       "    <tr>\n",
       "      <th>9</th>\n",
       "      <td>tmRNA</td>\n",
       "      <td>0.429</td>\n",
       "      <td>0.602</td>\n",
       "    </tr>\n",
       "  </tbody>\n",
       "</table>\n",
       "</div>"
      ],
      "text/plain": [
       "   Unnamed: 0  2d_model  dense\n",
       "0         16s     0.426  0.597\n",
       "1         23s     0.369  0.684\n",
       "2          5s     0.404  0.628\n",
       "3      RNaseP     0.413  0.634\n",
       "4        grp1     0.428  0.587\n",
       "5        grp2     0.530  0.524\n",
       "6         srp     0.409  0.578\n",
       "7        tRNA     0.501  0.563\n",
       "8  telomerase     0.459  0.555\n",
       "9       tmRNA     0.429  0.602"
      ]
     },
     "execution_count": 5,
     "metadata": {},
     "output_type": "execute_result"
    }
   ],
   "source": [
    "pd.read_csv('output/acc/acc_unet_allstride1_4.4_restrict')"
   ]
  },
  {
   "cell_type": "code",
   "execution_count": 6,
   "metadata": {},
   "outputs": [],
   "source": [
    "predicted = {}\n",
    "with h5py.File('output/acc/acc_unet_allstride1_4.4_restrictwholeprediction.hdf5') as f:\n",
    "    for i in range(540):\n",
    "        predicted[i] = f[str(i)][:,:128]\n",
    "prearr ={}\n",
    "for j in range(540):\n",
    "    prearr[j] = np.ndarray([predicted[j].shape[0],128+predicted[j].shape[0]])\n",
    "    for i in range(predicted[j].shape[0]):\n",
    "        prearr[j][i] = np.concatenate((np.zeros(i).reshape(-1,1),predicted[j][i].reshape(-1,1),np.zeros(predicted[j].shape[0]-i).reshape(-1,1))).ravel()"
   ]
  },
  {
   "cell_type": "code",
   "execution_count": 7,
   "metadata": {},
   "outputs": [
    {
     "data": {
      "text/plain": [
       "<matplotlib.image.AxesImage at 0x7f3bf3039510>"
      ]
     },
     "execution_count": 7,
     "metadata": {},
     "output_type": "execute_result"
    },
    {
     "data": {
      "image/png": "[encoded data removed]",
      "text/plain": [
       "<matplotlib.figure.Figure at 0x7f3bf30ff450>"
      ]
     },
     "metadata": {},
     "output_type": "display_data"
    }
   ],
   "source": [
    "imshow(prearr[100],cmap='jet')"
   ]
  },
  {
   "cell_type": "code",
   "execution_count": null,
   "metadata": {},
   "outputs": [],
   "source": []
  }
 ],
 "metadata": {
  "kernelspec": {
   "display_name": "Python 2",
   "language": "python",
   "name": "python2"
  },
  "language_info": {
   "codemirror_mode": {
    "name": "ipython",
    "version": 2
   },
   "file_extension": ".py",
   "mimetype": "text/x-python",
   "name": "python",
   "nbconvert_exporter": "python",
   "pygments_lexer": "ipython2",
   "version": "2.7.14"
  }
 },
 "nbformat": 4,
 "nbformat_minor": 2
}
