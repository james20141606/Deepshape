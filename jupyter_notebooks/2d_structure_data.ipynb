{
 "cells": [
  {
   "cell_type": "code",
   "execution_count": 1,
   "metadata": {},
   "outputs": [
    {
     "name": "stdout",
     "output_type": "stream",
     "text": [
      "Populating the interactive namespace from numpy and matplotlib\n"
     ]
    },
    {
     "name": "stderr",
     "output_type": "stream",
     "text": [
      "/home/chenxupeng/apps/anaconda2/lib/python2.7/site-packages/h5py/__init__.py:36: FutureWarning: Conversion of the second argument of issubdtype from `float` to `np.floating` is deprecated. In future, it will be treated as `np.float64 == np.dtype(float).type`.\n",
      "  from ._conv import register_converters as _register_converters\n"
     ]
    }
   ],
   "source": [
    "import pandas as pd\n",
    "%pylab inline\n",
    "import h5py\n",
    "import os\n",
    "from tqdm import tqdm"
   ]
  },
  {
   "cell_type": "code",
   "execution_count": 2,
   "metadata": {},
   "outputs": [
    {
     "name": "stdout",
     "output_type": "stream",
     "text": [
      "/home/chenxupeng/projects/deepshape\n"
     ]
    }
   ],
   "source": [
    "cd /home/chenxupeng/projects/deepshape/"
   ]
  },
  {
   "cell_type": "code",
   "execution_count": 22,
   "metadata": {},
   "outputs": [],
   "source": [
    "class Onehot(object):\n",
    "    def __init__(self, alphabet='AUCG'):\n",
    "        self.transtable = np.zeros(128, np.int64)\n",
    "        self.transtable[[ord(a) for a in alphabet]] = range(len(alphabet))\n",
    "        self.alphabet = np.frombuffer(alphabet, np.int8)\n",
    "    def encode(self, seq):\n",
    "        seq_int = self.transtable[np.frombuffer(seq, np.int8)]\n",
    "        encoded = np.zeros((len(seq), len(self.alphabet)), np.int8)\n",
    "        encoded[np.r_[:len(seq)], seq_int] = 1\n",
    "        return encoded\n",
    "    def decode(self, a):\n",
    "        return self.alphabet[np.argmax(a, axis=1)].tostring()\n",
    "onehot = Onehot()"
   ]
  },
  {
   "cell_type": "code",
   "execution_count": 23,
   "metadata": {},
   "outputs": [],
   "source": [
    "def get_data(filename):\n",
    "    filepath = 'known/ct/'+filename\n",
    "    f = open(filepath,'r')\n",
    "    result = list()  \n",
    "    for line in open(filepath):  \n",
    "        line = f.readline()  \n",
    "        result.append(line.split('\\t'))  \n",
    "    f.close()\n",
    "    try:\n",
    "        lista= [result[i][1] for i in np.arange(1,len(result))]\n",
    "        seq = ''.join(lista)\n",
    "        onehotseq = onehot.encode(seq)\n",
    "        matchinfo = np.array([result[i][4] for i in np.arange(1,len(result))]).astype('int')\n",
    "        return 1, onehotseq, matchinfo\n",
    "    except:\n",
    "        return 0,0,0"
   ]
  },
  {
   "cell_type": "code",
   "execution_count": 25,
   "metadata": {},
   "outputs": [],
   "source": [
    "filenames = np.loadtxt('known/ct/filenames.txt',dtype='str')"
   ]
  },
  {
   "cell_type": "code",
   "execution_count": 26,
   "metadata": {},
   "outputs": [
    {
     "name": "stderr",
     "output_type": "stream",
     "text": [
      " 83%|████████▎ | 449/540 [00:01<00:00, 333.79it/s]"
     ]
    },
    {
     "name": "stdout",
     "output_type": "stream",
     "text": [
      "372 telomerase_AC121792.109554-109950.ct\n",
      "373 telomerase_AF147806.247-692.ct\n",
      "374 telomerase_AF221908.136-584.ct\n",
      "375 telomerase_AF221911.104-513.ct\n",
      "376 telomerase_AF221913.109-520.ct\n",
      "377 telomerase_AF221914.112-589.ct\n",
      "378 telomerase_AF221919.107-614.ct\n",
      "379 telomerase_AF221920.99-541.ct\n",
      "380 telomerase_AF221927.113-556.ct\n",
      "381 telomerase_AF221933.121-679.ct\n",
      "382 telomerase_AF221940.103-499.ct\n"
     ]
    },
    {
     "name": "stderr",
     "output_type": "stream",
     "text": [
      "100%|██████████| 540/540 [00:01<00:00, 367.61it/s]\n"
     ]
    }
   ],
   "source": [
    "with h5py.File('known/2d/seq_match_info.hdf5') as f:\n",
    "    for i in tqdm(range(540)):\n",
    "        if get_data(filenames[i])[0]:\n",
    "            f.create_group(filenames[i])\n",
    "            f.create_dataset(filenames[i]+'/seq',data = get_data(filenames[i])[1])\n",
    "            f.create_dataset(filenames[i]+'/match',data = get_data(filenames[i])[2])\n",
    "        else:\n",
    "            print str(i) +' ' +filenames[i]"
   ]
  },
  {
   "cell_type": "markdown",
   "metadata": {},
   "source": [
    "## 异常处理  known/exception"
   ]
  },
  {
   "cell_type": "code",
   "execution_count": 27,
   "metadata": {},
   "outputs": [],
   "source": [
    "def get_data_except(filename):\n",
    "    seqarr = np.loadtxt('known/exception/'+filename+'_seq.txt',dtype='str')[1:]\n",
    "    matcharr= np.loadtxt('known/exception/'+filename+'_match.txt')\n",
    "    try:\n",
    "        seq = ''.join(seqarr)\n",
    "        onehotseq = onehot.encode(seq)\n",
    "        return 1, onehotseq, matcharr\n",
    "    except:\n",
    "        return 0,0,0"
   ]
  },
  {
   "cell_type": "code",
   "execution_count": 28,
   "metadata": {},
   "outputs": [
    {
     "name": "stderr",
     "output_type": "stream",
     "text": [
      "100%|██████████| 11/11 [00:00<00:00, 64.19it/s]\n"
     ]
    }
   ],
   "source": [
    "with h5py.File('known/2d/seq_match_info.hdf5') as f:\n",
    "    for i in tqdm(np.arange(372,383)):\n",
    "        if get_data_except(filenames[i])[0]:\n",
    "            f.create_group(filenames[i])\n",
    "            f.create_dataset(filenames[i]+'/seq',data = get_data_except(filenames[i])[1])\n",
    "            f.create_dataset(filenames[i]+'/match',data = get_data_except(filenames[i])[2])\n",
    "        else:\n",
    "            print str(i) +' ' +filenames[i]"
   ]
  },
  {
   "cell_type": "markdown",
   "metadata": {},
   "source": [
    "## seq and match info processed\n",
    "/home/chenxupeng/projects/deepshape/known/2d/seq_match_info.hdf5\n",
    "convert to pictures and y "
   ]
  },
  {
   "cell_type": "code",
   "execution_count": 29,
   "metadata": {},
   "outputs": [],
   "source": [
    "f= h5py.File('known/2d/seq_match_info.hdf5')"
   ]
  },
  {
   "cell_type": "code",
   "execution_count": 30,
   "metadata": {},
   "outputs": [],
   "source": [
    "def convert_to_image(x):\n",
    "    m = (np.repeat(x, 4, axis=1)[np.newaxis, :, :]*np.tile(x, 4)[:, np.newaxis, :])\n",
    "    return m"
   ]
  },
  {
   "cell_type": "code",
   "execution_count": 137,
   "metadata": {
    "collapsed": true
   },
   "outputs": [
    {
     "data": {
      "image/png": "[encoded data removed]",
      "text/plain": [
       "<matplotlib.figure.Figure at 0x7feda042e090>"
      ]
     },
     "metadata": {},
     "output_type": "display_data"
    }
   ],
   "source": [
    "fig,ax =plt.subplots(4,4,figsize=(10,10))\n",
    "for i in range(4):\n",
    "    for j in range(4):\n",
    "        ax[i,j].imshow(convert_to_image(f[filenames[1]+'/seq'][:])[:,:,i*4+j],cmap=cm.Greys)"
   ]
  },
  {
   "cell_type": "code",
   "execution_count": 35,
   "metadata": {},
   "outputs": [],
   "source": [
    "def convert_to_pics(filename):\n",
    "    '''\n",
    "    X: images of 16 channel\n",
    "    y:sparse match matrix\n",
    "    '''\n",
    "    matt = f[filename+'/match'][:].astype('int')\n",
    "    matmatrix = np.zeros([matt.shape[0],matt.shape[0]])\n",
    "    for i in range(matt.shape[0]):\n",
    "        if matt[i] !=0:\n",
    "            matmatrix[i,matt[i]-1] =1 \n",
    "    return convert_to_image(f[filename+'/seq'][:]),matmatrix"
   ]
  },
  {
   "cell_type": "code",
   "execution_count": 182,
   "metadata": {
    "scrolled": true
   },
   "outputs": [
    {
     "data": {
      "image/png": "[encoded data removed]",
      "text/plain": [
       "<matplotlib.figure.Figure at 0x7fed942785d0>"
      ]
     },
     "metadata": {},
     "output_type": "display_data"
    }
   ],
   "source": [
    "fig,ax =plt.subplots(4,4,figsize=(20,20))\n",
    "for i in range(4):\n",
    "    for j in range(4):\n",
    "        ax[i,j].imshow(convert_to_pics(filenames[i*4+j])[1],cmap=cm.Greys)"
   ]
  },
  {
   "cell_type": "code",
   "execution_count": 186,
   "metadata": {
    "collapsed": true
   },
   "outputs": [
    {
     "data": {
      "image/png": "[encoded data removed]",
      "text/plain": [
       "<matplotlib.figure.Figure at 0x7fe82234fe10>"
      ]
     },
     "metadata": {},
     "output_type": "display_data"
    }
   ],
   "source": [
    "fig,ax =plt.subplots(4,4,figsize=(20,20))\n",
    "for i in range(4):\n",
    "    for j in range(4):\n",
    "        ax[i,j].imshow(convert_to_pics(filenames[i*4+j])[0][:,:,1],cmap=cm.Greys)"
   ]
  },
  {
   "cell_type": "code",
   "execution_count": 36,
   "metadata": {},
   "outputs": [
    {
     "name": "stderr",
     "output_type": "stream",
     "text": [
      "100%|██████████| 540/540 [00:03<00:00, 177.12it/s]\n"
     ]
    }
   ],
   "source": [
    "with h5py.File('known/2d/pictures_540') as t:\n",
    "    for i in tqdm(range(540)):\n",
    "        t.create_group(filenames[i])\n",
    "        t.create_dataset(filenames[i]+'/X',data=convert_to_pics(filenames[i])[0])\n",
    "        t.create_dataset(filenames[i]+'/y',data=convert_to_pics(filenames[i])[1])"
   ]
  },
  {
   "cell_type": "code",
   "execution_count": 39,
   "metadata": {},
   "outputs": [
    {
     "name": "stderr",
     "output_type": "stream",
     "text": [
      "100%|██████████| 540/540 [00:01<00:00, 443.78it/s]\n"
     ]
    }
   ],
   "source": [
    "X = {}\n",
    "y = {}\n",
    "with h5py.File('known/2d/pictures_540') as t:\n",
    "    for i in tqdm(range(540)):\n",
    "        X[i] = t[filenames[i]+'/X'][:]\n",
    "        y[i] = t[filenames[i]+'/y'][:]"
   ]
  },
  {
   "cell_type": "code",
   "execution_count": 41,
   "metadata": {},
   "outputs": [
    {
     "data": {
      "text/plain": [
       "(173, 173, 16)"
      ]
     },
     "execution_count": 41,
     "metadata": {},
     "output_type": "execute_result"
    }
   ],
   "source": [
    "X[0].shape"
   ]
  },
  {
   "cell_type": "code",
   "execution_count": 42,
   "metadata": {},
   "outputs": [
    {
     "data": {
      "text/plain": [
       "(173, 173)"
      ]
     },
     "execution_count": 42,
     "metadata": {},
     "output_type": "execute_result"
    }
   ],
   "source": [
    "y[0].shape"
   ]
  },
  {
   "cell_type": "markdown",
   "metadata": {},
   "source": [
    "不能抽取，按顺序截取 <br>\n",
    "如果y的非零比例小于某个值就去除 （如何设置阈值？）统计一下大概情况 <br>\n",
    "行列，分别取128长度的片段，索引出X_train,y_train\n",
    "153558\n",
    "取153558张，每个序列多长取多少张，540:   400，40，100分别训练，验证，测试 <br>\n",
    "如果只取前面的显然是不合理的，所有正反都要取，所以生成index应该包括倒着的  <br>\n",
    "count = y[0].shape[0]\n",
    "i < count\n",
    "np.arange(i,128+i)\n",
    "np.arange(-i,-i-128)"
   ]
  },
  {
   "cell_type": "code",
   "execution_count": 45,
   "metadata": {},
   "outputs": [],
   "source": [
    "count=0\n",
    "for i in range(540):\n",
    "    count+=y[i].shape[0]"
   ]
  },
  {
   "cell_type": "code",
   "execution_count": 59,
   "metadata": {},
   "outputs": [
    {
     "data": {
      "text/plain": [
       "0.0013666500330246183"
      ]
     },
     "execution_count": 59,
     "metadata": {},
     "output_type": "execute_result"
    }
   ],
   "source": [
    "sum([sum(y[i]) for i in range(540)])/sum([(y[i].shape[0])**2 for i in range(540)])\n",
    "1/0.0013666500330246183"
   ]
  },
  {
   "cell_type": "markdown",
   "metadata": {},
   "source": [
    "imbalance:0.0013666500330246183"
   ]
  },
  {
   "cell_type": "code",
   "execution_count": 56,
   "metadata": {},
   "outputs": [
    {
     "data": {
      "text/plain": [
       "['train_Lu_2016_invitro_hg38_all_0',\n",
       " 'train_Lu_2016_invivo_hg38_all_0',\n",
       " 'train_Spitale_2015_invitro_all_0',\n",
       " 'train_Spitale_2015_invitro_all_1',\n",
       " 'train_Spitale_2015_invitro_all_2',\n",
       " 'train_Spitale_2015_invitro_all_3',\n",
       " 'train_Spitale_2015_invitro_all_4',\n",
       " 'train_Spitale_2015_invitro_all_5',\n",
       " 'train_Spitale_2015_invitro_all_6',\n",
       " 'train_Spitale_2015_invitro_all_7',\n",
       " 'train_Spitale_2015_invitro_all_8',\n",
       " 'train_Spitale_2015_invitro_all_9',\n",
       " 'train_Spitale_2015_invitro_all_10',\n",
       " 'train_Spitale_2015_invitro_all_11',\n",
       " 'train_Spitale_2015_invitro_all_12',\n",
       " 'train_Spitale_2015_invivo_all_0',\n",
       " 'train_Spitale_2015_invivo_all_1',\n",
       " 'train_Spitale_2015_invivo_all_2']"
      ]
     },
     "execution_count": 56,
     "metadata": {},
     "output_type": "execute_result"
    }
   ],
   "source": [
    "os.listdir('data/new/alldata/train/')"
   ]
  },
  {
   "cell_type": "code",
   "execution_count": 63,
   "metadata": {},
   "outputs": [
    {
     "data": {
      "text/plain": [
       "45"
      ]
     },
     "execution_count": 63,
     "metadata": {},
     "output_type": "execute_result"
    }
   ],
   "source": [
    "y[0].shape[0] - 128"
   ]
  },
  {
   "cell_type": "code",
   "execution_count": 73,
   "metadata": {},
   "outputs": [],
   "source": [
    "number = y[0].shape[0]\n",
    "count = number - 128\n",
    "posstart = np.arange(count)\n",
    "np.random.shuffle(posstart)\n",
    "posend = posstart+128"
   ]
  },
  {
   "cell_type": "code",
   "execution_count": 90,
   "metadata": {},
   "outputs": [
    {
     "data": {
      "text/plain": [
       "(128, 128)"
      ]
     },
     "execution_count": 90,
     "metadata": {},
     "output_type": "execute_result"
    }
   ],
   "source": [
    "rowind = np.random.choice(count)\n",
    "colind = np.random.choice(count)\n",
    "X[0][posstart[rowind]:posend[rowind],posstart[colind]:posend[colind]].shape\n",
    "y[0][posstart[rowind]:posend[rowind],posstart[colind]:posend[colind]].shape"
   ]
  },
  {
   "cell_type": "code",
   "execution_count": 88,
   "metadata": {
    "collapsed": true
   },
   "outputs": [
    {
     "data": {
      "text/plain": [
       "<matplotlib.image.AxesImage at 0x7facfa611f90>"
      ]
     },
     "execution_count": 88,
     "metadata": {},
     "output_type": "execute_result"
    },
    {
     "data": {
      "image/png": "[encoded data removed]",
      "text/plain": [
       "<matplotlib.figure.Figure at 0x7facfa55d250>"
      ]
     },
     "metadata": {},
     "output_type": "display_data"
    }
   ],
   "source": [
    "imshow(X[0][posstart[rowind]:posend[rowind],posstart[colind]:posend[colind],0],cmap=cm.Greys)"
   ]
  },
  {
   "cell_type": "code",
   "execution_count": 99,
   "metadata": {
    "collapsed": true
   },
   "outputs": [
    {
     "data": {
      "image/png": "[encoded data removed]",
      "text/plain": [
       "<matplotlib.figure.Figure at 0x7facfa248150>"
      ]
     },
     "metadata": {},
     "output_type": "display_data"
    }
   ],
   "source": [
    "fig,ax =plt.subplots(4,4,figsize=(20,20))\n",
    "for i in range(4):\n",
    "    for j in range(4):\n",
    "        rowind = np.random.choice(count)\n",
    "        colind = np.random.choice(count)\n",
    "        ax[i,j].imshow(y[0][posstart[rowind]:posend[rowind],posstart[colind]:posend[colind]],cmap=cm.Greys)"
   ]
  },
  {
   "cell_type": "code",
   "execution_count": 102,
   "metadata": {},
   "outputs": [
    {
     "data": {
      "text/plain": [
       "array([-45, -44, -43, -42, -41, -40, -39, -38, -37, -36, -35, -34, -33,\n",
       "       -32, -31, -30, -29, -28, -27, -26, -25, -24, -23, -22, -21, -20,\n",
       "       -19, -18, -17, -16, -15, -14, -13, -12, -11, -10,  -9,  -8,  -7,\n",
       "        -6,  -5,  -4,  -3,  -2,  -1])"
      ]
     },
     "execution_count": 102,
     "metadata": {},
     "output_type": "execute_result"
    }
   ],
   "source": [
    "np.arange(-count,0)"
   ]
  },
  {
   "cell_type": "code",
   "execution_count": 119,
   "metadata": {},
   "outputs": [],
   "source": [
    "negend = np.arange(-count,0)\n",
    "np.random.shuffle(negend)\n",
    "negstart = negend-128"
   ]
  },
  {
   "cell_type": "code",
   "execution_count": 120,
   "metadata": {},
   "outputs": [
    {
     "data": {
      "text/plain": [
       "(128, 128)"
      ]
     },
     "execution_count": 120,
     "metadata": {},
     "output_type": "execute_result"
    }
   ],
   "source": [
    "rowind_ = np.random.choice(count)\n",
    "colind_ = np.random.choice(count)\n",
    "X[0][negstart[rowind_]:negend[rowind_],negstart[colind_]:negend[colind_]].shape\n",
    "y[0][negstart[rowind_]:negend[rowind_],negstart[colind_]:negend[colind_]].shape"
   ]
  },
  {
   "cell_type": "markdown",
   "metadata": {},
   "source": [
    "每次随机挑两对，作为行和列的起止 <br>\n",
    "有很多都小于128，但是不想都补成一样长，所以用可变卷积，每个winsize是一半好了！"
   ]
  },
  {
   "cell_type": "code",
   "execution_count": 167,
   "metadata": {},
   "outputs": [],
   "source": [
    "def yield_from_seq(X,y):\n",
    "    ''' get a seq's produced X and y: length*length*16 and length*length\n",
    "    produce: X: length*128*128*16  y: length*128*128 '''\n",
    "    number = y.shape[0]\n",
    "    if number >=128:\n",
    "        winsize = 128\n",
    "    else:\n",
    "        winsize =32\n",
    "    count = number - winsize\n",
    "    newarr_x = np.ndarray([number/2*2,winsize,winsize,16])\n",
    "    newarr_y = np.ndarray([number/2*2,winsize,winsize])\n",
    "    posstart = np.arange(count)\n",
    "    np.random.shuffle(posstart)\n",
    "    posend = posstart+winsize\n",
    "    negend = np.arange(-count,0)\n",
    "    np.random.shuffle(negend)\n",
    "    negstart = negend-winsize\n",
    "    for i in range(number/2*2):\n",
    "        if i < number/2:\n",
    "            rowind = np.random.choice(count)\n",
    "            colind = np.random.choice(count)\n",
    "            newarr_x[i] = X[posstart[rowind]:posend[rowind],posstart[colind]:posend[colind]]\n",
    "            newarr_y[i] = y[posstart[rowind]:posend[rowind],posstart[colind]:posend[colind]]\n",
    "    \n",
    "        else:\n",
    "            rowind_ = np.random.choice(count)\n",
    "            colind_ = np.random.choice(count)\n",
    "            newarr_x[i]=X[negstart[rowind_]:negend[rowind_],negstart[colind_]:negend[colind_]]\n",
    "            newarr_y[i]=y[negstart[rowind_]:negend[rowind_],negstart[colind_]:negend[colind_]]\n",
    "    return newarr_x,newarr_y"
   ]
  },
  {
   "cell_type": "code",
   "execution_count": 135,
   "metadata": {
    "collapsed": true
   },
   "outputs": [
    {
     "data": {
      "image/png": "[encoded data removed]",
      "text/plain": [
       "<matplotlib.figure.Figure at 0x7fac34442c10>"
      ]
     },
     "metadata": {},
     "output_type": "display_data"
    }
   ],
   "source": [
    "fig,ax =plt.subplots(4,4,figsize=(20,20))\n",
    "for i in range(4):\n",
    "    for j in range(4):\n",
    "        ax[i,j].imshow(yield_from_seq(X[0],y[0])[1][20+4*i+j],cmap=cm.Greys)"
   ]
  },
  {
   "cell_type": "code",
   "execution_count": 160,
   "metadata": {
    "scrolled": true
   },
   "outputs": [
    {
     "name": "stdout",
     "output_type": "stream",
     "text": [
      "73\n",
      "115\n",
      "116\n",
      "116\n",
      "120\n",
      "120\n",
      "121\n",
      "124\n",
      "114\n",
      "119\n",
      "120\n",
      "127\n",
      "124\n",
      "112\n",
      "103\n",
      "121\n",
      "119\n",
      "110\n",
      "119\n",
      "120\n",
      "124\n",
      "121\n",
      "125\n",
      "120\n",
      "90\n",
      "91\n",
      "56\n",
      "118\n",
      "107\n",
      "99\n",
      "79\n",
      "102\n",
      "106\n",
      "58\n",
      "90\n",
      "86\n",
      "85\n",
      "86\n",
      "107\n",
      "105\n",
      "98\n",
      "35\n",
      "100\n",
      "99\n",
      "99\n",
      "108\n",
      "97\n",
      "66\n",
      "101\n",
      "64\n",
      "53\n",
      "89\n",
      "114\n",
      "58\n",
      "105\n",
      "103\n",
      "88\n",
      "77\n",
      "81\n",
      "101\n",
      "104\n",
      "97\n",
      "127\n",
      "102\n",
      "59\n",
      "91\n",
      "98\n",
      "92\n",
      "74\n",
      "81\n",
      "90\n",
      "106\n",
      "98\n",
      "99\n",
      "114\n",
      "74\n",
      "62\n",
      "101\n",
      "90\n",
      "99\n",
      "57\n",
      "65\n",
      "66\n",
      "96\n",
      "98\n",
      "100\n",
      "117\n",
      "102\n",
      "73\n",
      "71\n",
      "76\n",
      "72\n",
      "76\n",
      "62\n",
      "70\n",
      "74\n",
      "75\n",
      "70\n",
      "72\n",
      "68\n",
      "65\n",
      "70\n",
      "74\n",
      "75\n",
      "76\n",
      "76\n",
      "72\n",
      "77\n",
      "75\n",
      "76\n",
      "67\n",
      "85\n",
      "84\n",
      "83\n",
      "85\n",
      "87\n",
      "74\n",
      "85\n",
      "77\n",
      "76\n",
      "64\n",
      "75\n",
      "77\n",
      "76\n",
      "75\n",
      "76\n",
      "75\n",
      "74\n",
      "54\n",
      "57\n",
      "67\n",
      "72\n",
      "92\n",
      "93\n",
      "86\n",
      "67\n",
      "85\n",
      "78\n",
      "74\n",
      "72\n",
      "74\n",
      "70\n",
      "76\n",
      "77\n",
      "72\n",
      "88\n",
      "74\n",
      "77\n",
      "62\n",
      "65\n",
      "58\n",
      "60\n",
      "58\n",
      "77\n",
      "72\n"
     ]
    }
   ],
   "source": [
    "for i in range(540):\n",
    "    if y[i].shape[0] <128:\n",
    "        print y[i].shape[0]"
   ]
  },
  {
   "cell_type": "code",
   "execution_count": 162,
   "metadata": {
    "collapsed": true
   },
   "outputs": [
    {
     "data": {
      "text/plain": [
       "(array([[[[0., 0., 0., ..., 0., 0., 0.],\n",
       "          [0., 0., 0., ..., 0., 0., 0.],\n",
       "          [0., 1., 0., ..., 0., 0., 0.],\n",
       "          ...,\n",
       "          [0., 1., 0., ..., 0., 0., 0.],\n",
       "          [0., 0., 0., ..., 1., 0., 0.],\n",
       "          [0., 1., 0., ..., 0., 0., 0.]],\n",
       " \n",
       "         [[0., 0., 0., ..., 0., 0., 0.],\n",
       "          [0., 0., 0., ..., 0., 0., 0.],\n",
       "          [0., 0., 0., ..., 0., 0., 0.],\n",
       "          ...,\n",
       "          [0., 0., 0., ..., 0., 0., 0.],\n",
       "          [0., 0., 0., ..., 0., 0., 1.],\n",
       "          [0., 0., 0., ..., 0., 0., 0.]],\n",
       " \n",
       "         [[0., 0., 0., ..., 0., 0., 0.],\n",
       "          [0., 0., 0., ..., 0., 0., 0.],\n",
       "          [0., 0., 0., ..., 0., 0., 0.],\n",
       "          ...,\n",
       "          [0., 0., 0., ..., 0., 0., 0.],\n",
       "          [0., 0., 0., ..., 0., 0., 1.],\n",
       "          [0., 0., 0., ..., 0., 0., 0.]],\n",
       " \n",
       "         ...,\n",
       " \n",
       "         [[0., 0., 0., ..., 0., 0., 0.],\n",
       "          [0., 0., 0., ..., 0., 0., 0.],\n",
       "          [0., 0., 1., ..., 0., 0., 0.],\n",
       "          ...,\n",
       "          [0., 0., 1., ..., 0., 0., 0.],\n",
       "          [0., 0., 0., ..., 0., 1., 0.],\n",
       "          [0., 0., 1., ..., 0., 0., 0.]],\n",
       " \n",
       "         [[0., 0., 0., ..., 0., 0., 0.],\n",
       "          [0., 0., 0., ..., 0., 0., 0.],\n",
       "          [0., 0., 0., ..., 0., 0., 0.],\n",
       "          ...,\n",
       "          [0., 0., 0., ..., 0., 0., 0.],\n",
       "          [0., 0., 0., ..., 0., 0., 1.],\n",
       "          [0., 0., 0., ..., 0., 0., 0.]],\n",
       " \n",
       "         [[0., 0., 0., ..., 0., 0., 0.],\n",
       "          [0., 0., 0., ..., 0., 0., 0.],\n",
       "          [0., 0., 1., ..., 0., 0., 0.],\n",
       "          ...,\n",
       "          [0., 0., 1., ..., 0., 0., 0.],\n",
       "          [0., 0., 0., ..., 0., 1., 0.],\n",
       "          [0., 0., 1., ..., 0., 0., 0.]]],\n",
       " \n",
       " \n",
       "        [[[0., 0., 0., ..., 0., 1., 0.],\n",
       "          [0., 0., 0., ..., 0., 0., 0.],\n",
       "          [0., 0., 0., ..., 0., 0., 0.],\n",
       "          ...,\n",
       "          [0., 0., 0., ..., 0., 0., 0.],\n",
       "          [0., 0., 0., ..., 0., 0., 0.],\n",
       "          [0., 0., 0., ..., 0., 0., 0.]],\n",
       " \n",
       "         [[0., 0., 0., ..., 0., 0., 0.],\n",
       "          [0., 0., 0., ..., 0., 0., 0.],\n",
       "          [0., 0., 0., ..., 0., 0., 0.],\n",
       "          ...,\n",
       "          [0., 0., 0., ..., 0., 0., 0.],\n",
       "          [0., 0., 0., ..., 0., 0., 0.],\n",
       "          [0., 0., 0., ..., 0., 0., 0.]],\n",
       " \n",
       "         [[0., 0., 0., ..., 0., 0., 0.],\n",
       "          [0., 0., 0., ..., 0., 0., 0.],\n",
       "          [0., 0., 0., ..., 0., 0., 0.],\n",
       "          ...,\n",
       "          [0., 0., 0., ..., 0., 0., 0.],\n",
       "          [0., 0., 0., ..., 0., 0., 0.],\n",
       "          [0., 0., 0., ..., 0., 0., 0.]],\n",
       " \n",
       "         ...,\n",
       " \n",
       "         [[0., 0., 0., ..., 0., 0., 1.],\n",
       "          [0., 0., 0., ..., 0., 0., 0.],\n",
       "          [0., 0., 0., ..., 0., 0., 0.],\n",
       "          ...,\n",
       "          [0., 0., 0., ..., 0., 0., 0.],\n",
       "          [0., 0., 0., ..., 0., 0., 0.],\n",
       "          [0., 0., 0., ..., 0., 0., 0.]],\n",
       " \n",
       "         [[0., 0., 0., ..., 0., 0., 0.],\n",
       "          [0., 0., 0., ..., 0., 0., 0.],\n",
       "          [0., 0., 0., ..., 0., 0., 0.],\n",
       "          ...,\n",
       "          [0., 0., 0., ..., 0., 0., 0.],\n",
       "          [0., 0., 0., ..., 0., 0., 0.],\n",
       "          [0., 0., 0., ..., 0., 0., 0.]],\n",
       " \n",
       "         [[0., 0., 0., ..., 0., 1., 0.],\n",
       "          [0., 0., 0., ..., 0., 0., 0.],\n",
       "          [0., 0., 0., ..., 0., 0., 0.],\n",
       "          ...,\n",
       "          [0., 0., 0., ..., 0., 0., 0.],\n",
       "          [0., 0., 0., ..., 0., 0., 0.],\n",
       "          [0., 0., 0., ..., 0., 0., 0.]]],\n",
       " \n",
       " \n",
       "        [[[0., 0., 0., ..., 0., 0., 0.],\n",
       "          [0., 0., 0., ..., 0., 0., 0.],\n",
       "          [0., 1., 0., ..., 0., 0., 0.],\n",
       "          ...,\n",
       "          [0., 0., 0., ..., 1., 0., 0.],\n",
       "          [0., 0., 0., ..., 0., 0., 0.],\n",
       "          [0., 1., 0., ..., 0., 0., 0.]],\n",
       " \n",
       "         [[0., 0., 0., ..., 0., 0., 0.],\n",
       "          [0., 0., 0., ..., 0., 0., 0.],\n",
       "          [0., 0., 0., ..., 0., 0., 0.],\n",
       "          ...,\n",
       "          [0., 0., 0., ..., 0., 0., 1.],\n",
       "          [0., 0., 0., ..., 0., 0., 0.],\n",
       "          [0., 0., 0., ..., 0., 0., 0.]],\n",
       " \n",
       "         [[0., 0., 0., ..., 0., 0., 0.],\n",
       "          [0., 0., 0., ..., 0., 0., 0.],\n",
       "          [1., 0., 0., ..., 0., 0., 0.],\n",
       "          ...,\n",
       "          [0., 0., 0., ..., 0., 0., 0.],\n",
       "          [0., 0., 0., ..., 0., 0., 0.],\n",
       "          [1., 0., 0., ..., 0., 0., 0.]],\n",
       " \n",
       "         ...,\n",
       " \n",
       "         [[0., 0., 0., ..., 0., 0., 0.],\n",
       "          [0., 0., 0., ..., 0., 0., 0.],\n",
       "          [0., 0., 1., ..., 0., 0., 0.],\n",
       "          ...,\n",
       "          [0., 0., 0., ..., 0., 1., 0.],\n",
       "          [0., 0., 0., ..., 0., 0., 0.],\n",
       "          [0., 0., 1., ..., 0., 0., 0.]],\n",
       " \n",
       "         [[0., 0., 0., ..., 0., 0., 0.],\n",
       "          [0., 0., 0., ..., 0., 0., 0.],\n",
       "          [0., 0., 1., ..., 0., 0., 0.],\n",
       "          ...,\n",
       "          [0., 0., 0., ..., 0., 1., 0.],\n",
       "          [0., 0., 0., ..., 0., 0., 0.],\n",
       "          [0., 0., 1., ..., 0., 0., 0.]],\n",
       " \n",
       "         [[0., 0., 0., ..., 0., 0., 0.],\n",
       "          [0., 0., 0., ..., 0., 0., 0.],\n",
       "          [0., 1., 0., ..., 0., 0., 0.],\n",
       "          ...,\n",
       "          [0., 0., 0., ..., 1., 0., 0.],\n",
       "          [0., 0., 0., ..., 0., 0., 0.],\n",
       "          [0., 1., 0., ..., 0., 0., 0.]]],\n",
       " \n",
       " \n",
       "        ...,\n",
       " \n",
       " \n",
       "        [[[0., 0., 0., ..., 1., 0., 0.],\n",
       "          [0., 0., 0., ..., 1., 0., 0.],\n",
       "          [0., 1., 0., ..., 0., 0., 0.],\n",
       "          ...,\n",
       "          [0., 0., 0., ..., 1., 0., 0.],\n",
       "          [0., 0., 0., ..., 0., 0., 0.],\n",
       "          [0., 1., 0., ..., 0., 0., 0.]],\n",
       " \n",
       "         [[0., 0., 0., ..., 1., 0., 0.],\n",
       "          [0., 0., 0., ..., 1., 0., 0.],\n",
       "          [0., 1., 0., ..., 0., 0., 0.],\n",
       "          ...,\n",
       "          [0., 0., 0., ..., 1., 0., 0.],\n",
       "          [0., 0., 0., ..., 0., 0., 0.],\n",
       "          [0., 1., 0., ..., 0., 0., 0.]],\n",
       " \n",
       "         [[0., 0., 0., ..., 1., 0., 0.],\n",
       "          [0., 0., 0., ..., 1., 0., 0.],\n",
       "          [0., 1., 0., ..., 0., 0., 0.],\n",
       "          ...,\n",
       "          [0., 0., 0., ..., 1., 0., 0.],\n",
       "          [0., 0., 0., ..., 0., 0., 0.],\n",
       "          [0., 1., 0., ..., 0., 0., 0.]],\n",
       " \n",
       "         ...,\n",
       " \n",
       "         [[0., 0., 0., ..., 1., 0., 0.],\n",
       "          [0., 0., 0., ..., 1., 0., 0.],\n",
       "          [0., 1., 0., ..., 0., 0., 0.],\n",
       "          ...,\n",
       "          [0., 0., 0., ..., 1., 0., 0.],\n",
       "          [0., 0., 0., ..., 0., 0., 0.],\n",
       "          [0., 1., 0., ..., 0., 0., 0.]],\n",
       " \n",
       "         [[0., 0., 0., ..., 0., 0., 1.],\n",
       "          [0., 0., 0., ..., 0., 0., 1.],\n",
       "          [0., 0., 0., ..., 0., 0., 0.],\n",
       "          ...,\n",
       "          [0., 0., 0., ..., 0., 0., 1.],\n",
       "          [0., 0., 0., ..., 0., 0., 0.],\n",
       "          [0., 0., 0., ..., 0., 0., 0.]],\n",
       " \n",
       "         [[0., 0., 0., ..., 0., 1., 0.],\n",
       "          [0., 0., 0., ..., 0., 1., 0.],\n",
       "          [0., 0., 1., ..., 0., 0., 0.],\n",
       "          ...,\n",
       "          [0., 0., 0., ..., 0., 1., 0.],\n",
       "          [0., 0., 0., ..., 0., 0., 0.],\n",
       "          [0., 0., 1., ..., 0., 0., 0.]]],\n",
       " \n",
       " \n",
       "        [[[1., 0., 0., ..., 0., 0., 0.],\n",
       "          [0., 0., 0., ..., 0., 0., 0.],\n",
       "          [0., 0., 0., ..., 0., 0., 0.],\n",
       "          ...,\n",
       "          [1., 0., 0., ..., 0., 0., 0.],\n",
       "          [1., 0., 0., ..., 0., 0., 0.],\n",
       "          [0., 0., 0., ..., 0., 0., 0.]],\n",
       " \n",
       "         [[0., 0., 0., ..., 0., 0., 0.],\n",
       "          [0., 0., 0., ..., 0., 0., 0.],\n",
       "          [0., 0., 0., ..., 0., 0., 1.],\n",
       "          ...,\n",
       "          [0., 0., 0., ..., 0., 0., 0.],\n",
       "          [0., 0., 0., ..., 0., 0., 0.],\n",
       "          [0., 0., 0., ..., 0., 0., 0.]],\n",
       " \n",
       "         [[0., 1., 0., ..., 0., 0., 0.],\n",
       "          [0., 0., 0., ..., 0., 0., 0.],\n",
       "          [0., 0., 0., ..., 1., 0., 0.],\n",
       "          ...,\n",
       "          [0., 1., 0., ..., 0., 0., 0.],\n",
       "          [0., 1., 0., ..., 0., 0., 0.],\n",
       "          [0., 0., 0., ..., 0., 0., 0.]],\n",
       " \n",
       "         ...,\n",
       " \n",
       "         [[0., 0., 0., ..., 0., 0., 0.],\n",
       "          [0., 0., 0., ..., 0., 0., 0.],\n",
       "          [0., 0., 0., ..., 0., 0., 1.],\n",
       "          ...,\n",
       "          [0., 0., 0., ..., 0., 0., 0.],\n",
       "          [0., 0., 0., ..., 0., 0., 0.],\n",
       "          [0., 0., 0., ..., 0., 0., 0.]],\n",
       " \n",
       "         [[1., 0., 0., ..., 0., 0., 0.],\n",
       "          [0., 0., 0., ..., 0., 0., 0.],\n",
       "          [0., 0., 0., ..., 0., 0., 0.],\n",
       "          ...,\n",
       "          [1., 0., 0., ..., 0., 0., 0.],\n",
       "          [1., 0., 0., ..., 0., 0., 0.],\n",
       "          [0., 0., 0., ..., 0., 0., 0.]],\n",
       " \n",
       "         [[0., 0., 1., ..., 0., 0., 0.],\n",
       "          [0., 0., 0., ..., 0., 0., 0.],\n",
       "          [0., 0., 0., ..., 0., 1., 0.],\n",
       "          ...,\n",
       "          [0., 0., 1., ..., 0., 0., 0.],\n",
       "          [0., 0., 1., ..., 0., 0., 0.],\n",
       "          [0., 0., 0., ..., 0., 0., 0.]]],\n",
       " \n",
       " \n",
       "        [[[0., 0., 0., ..., 0., 0., 0.],\n",
       "          [0., 0., 0., ..., 0., 0., 0.],\n",
       "          [0., 0., 0., ..., 0., 0., 0.],\n",
       "          ...,\n",
       "          [0., 0., 0., ..., 0., 0., 0.],\n",
       "          [0., 0., 0., ..., 0., 0., 0.],\n",
       "          [0., 0., 0., ..., 0., 0., 0.]],\n",
       " \n",
       "         [[0., 0., 0., ..., 0., 0., 0.],\n",
       "          [0., 0., 0., ..., 0., 0., 0.],\n",
       "          [0., 0., 0., ..., 0., 0., 0.],\n",
       "          ...,\n",
       "          [0., 0., 0., ..., 0., 0., 0.],\n",
       "          [0., 0., 0., ..., 0., 0., 0.],\n",
       "          [0., 0., 0., ..., 0., 0., 0.]],\n",
       " \n",
       "         [[0., 0., 0., ..., 0., 0., 1.],\n",
       "          [0., 0., 0., ..., 0., 0., 0.],\n",
       "          [0., 0., 0., ..., 0., 0., 1.],\n",
       "          ...,\n",
       "          [0., 0., 0., ..., 0., 0., 0.],\n",
       "          [0., 0., 0., ..., 0., 0., 1.],\n",
       "          [0., 0., 0., ..., 0., 0., 1.]],\n",
       " \n",
       "         ...,\n",
       " \n",
       "         [[0., 0., 0., ..., 0., 1., 0.],\n",
       "          [0., 0., 0., ..., 0., 0., 0.],\n",
       "          [0., 0., 0., ..., 0., 1., 0.],\n",
       "          ...,\n",
       "          [0., 0., 0., ..., 0., 0., 0.],\n",
       "          [0., 0., 0., ..., 0., 1., 0.],\n",
       "          [0., 0., 0., ..., 0., 1., 0.]],\n",
       " \n",
       "         [[0., 0., 0., ..., 0., 0., 1.],\n",
       "          [0., 0., 0., ..., 0., 0., 0.],\n",
       "          [0., 0., 0., ..., 0., 0., 1.],\n",
       "          ...,\n",
       "          [0., 0., 0., ..., 0., 0., 0.],\n",
       "          [0., 0., 0., ..., 0., 0., 1.],\n",
       "          [0., 0., 0., ..., 0., 0., 1.]],\n",
       " \n",
       "         [[0., 0., 0., ..., 0., 1., 0.],\n",
       "          [0., 0., 0., ..., 0., 0., 0.],\n",
       "          [0., 0., 0., ..., 0., 1., 0.],\n",
       "          ...,\n",
       "          [0., 0., 0., ..., 0., 0., 0.],\n",
       "          [0., 0., 0., ..., 0., 1., 0.],\n",
       "          [0., 0., 0., ..., 0., 1., 0.]]]]),\n",
       " array([[[0., 0., 0., ..., 0., 0., 0.],\n",
       "         [0., 0., 0., ..., 0., 0., 0.],\n",
       "         [0., 0., 0., ..., 0., 0., 0.],\n",
       "         ...,\n",
       "         [0., 0., 0., ..., 0., 0., 0.],\n",
       "         [0., 0., 0., ..., 0., 0., 0.],\n",
       "         [0., 0., 0., ..., 0., 0., 0.]],\n",
       " \n",
       "        [[0., 0., 0., ..., 0., 0., 0.],\n",
       "         [0., 0., 0., ..., 0., 0., 0.],\n",
       "         [0., 0., 0., ..., 0., 0., 0.],\n",
       "         ...,\n",
       "         [0., 0., 0., ..., 0., 0., 0.],\n",
       "         [0., 0., 0., ..., 0., 0., 0.],\n",
       "         [0., 0., 0., ..., 0., 0., 0.]],\n",
       " \n",
       "        [[0., 0., 0., ..., 0., 0., 0.],\n",
       "         [0., 0., 0., ..., 0., 0., 0.],\n",
       "         [0., 0., 0., ..., 0., 0., 0.],\n",
       "         ...,\n",
       "         [0., 0., 0., ..., 0., 0., 0.],\n",
       "         [0., 0., 0., ..., 0., 0., 0.],\n",
       "         [0., 0., 0., ..., 0., 0., 0.]],\n",
       " \n",
       "        ...,\n",
       " \n",
       "        [[0., 0., 0., ..., 0., 0., 0.],\n",
       "         [0., 0., 0., ..., 0., 0., 0.],\n",
       "         [0., 0., 0., ..., 0., 0., 0.],\n",
       "         ...,\n",
       "         [0., 0., 0., ..., 0., 0., 0.],\n",
       "         [0., 0., 0., ..., 0., 0., 0.],\n",
       "         [0., 0., 0., ..., 0., 0., 0.]],\n",
       " \n",
       "        [[0., 0., 0., ..., 0., 0., 0.],\n",
       "         [0., 0., 0., ..., 0., 0., 0.],\n",
       "         [0., 0., 0., ..., 0., 0., 0.],\n",
       "         ...,\n",
       "         [0., 0., 0., ..., 0., 0., 0.],\n",
       "         [0., 0., 0., ..., 0., 0., 0.],\n",
       "         [0., 0., 0., ..., 0., 0., 0.]],\n",
       " \n",
       "        [[0., 0., 0., ..., 0., 0., 0.],\n",
       "         [0., 0., 0., ..., 0., 0., 0.],\n",
       "         [0., 0., 0., ..., 0., 0., 0.],\n",
       "         ...,\n",
       "         [0., 0., 0., ..., 0., 0., 0.],\n",
       "         [0., 0., 0., ..., 0., 0., 0.],\n",
       "         [0., 0., 0., ..., 0., 0., 0.]]]))"
      ]
     },
     "execution_count": 162,
     "metadata": {},
     "output_type": "execute_result"
    }
   ],
   "source": [
    "yield_from_seq(X[400],y[400])"
   ]
  },
  {
   "cell_type": "code",
   "execution_count": 168,
   "metadata": {
    "scrolled": true
   },
   "outputs": [
    {
     "name": "stderr",
     "output_type": "stream",
     "text": [
      "\n",
      "  0%|          | 0/400 [00:00<?, ?it/s]\u001b[A\n",
      "  0%|          | 1/400 [00:00<05:22,  1.24it/s]\u001b[A\n",
      "  1%|▏         | 5/400 [00:01<01:40,  3.93it/s]\u001b[A\n",
      "  2%|▏         | 7/400 [00:02<01:52,  3.50it/s]\u001b[A\n",
      "  2%|▏         | 9/400 [00:02<01:40,  3.89it/s]\u001b[A\n",
      "Exception in thread Thread-8:\n",
      "Traceback (most recent call last):\n",
      "  File \"/home/chenxupeng/apps/anaconda2/lib/python2.7/threading.py\", line 801, in __bootstrap_inner\n",
      "    self.run()\n",
      "  File \"/home/chenxupeng/apps/anaconda2/lib/python2.7/site-packages/tqdm/_tqdm.py\", line 144, in run\n",
      "    for instance in self.tqdm_cls._instances:\n",
      "  File \"/home/chenxupeng/apps/anaconda2/lib/python2.7/_weakrefset.py\", line 60, in __iter__\n",
      "    for itemref in self.data:\n",
      "RuntimeError: Set changed size during iteration\n",
      "\n",
      "\n",
      "  2%|▎         | 10/400 [00:02<01:55,  3.37it/s]\u001b[A\n",
      "  3%|▎         | 11/400 [00:03<02:07,  3.05it/s]\u001b[A\n",
      "  3%|▎         | 12/400 [00:04<02:17,  2.83it/s]\u001b[A\n",
      "  3%|▎         | 13/400 [00:05<02:32,  2.54it/s]\u001b[A\n",
      "  4%|▎         | 14/400 [00:05<02:34,  2.49it/s]\u001b[A\n",
      "  4%|▍         | 15/400 [00:06<02:41,  2.38it/s]\u001b[A\n",
      "  4%|▍         | 17/400 [00:06<02:33,  2.49it/s]\u001b[A\n",
      "  4%|▍         | 18/400 [00:07<02:35,  2.45it/s]\u001b[A\n",
      "  5%|▌         | 20/400 [00:07<02:30,  2.52it/s]\u001b[A\n",
      "  5%|▌         | 21/400 [00:08<02:35,  2.44it/s]\u001b[A\n",
      "  6%|▌         | 22/400 [00:09<02:36,  2.41it/s]\u001b[A\n",
      "  6%|▌         | 23/400 [00:09<02:39,  2.37it/s]\u001b[A\n",
      "  6%|▌         | 24/400 [00:10<02:41,  2.33it/s]\u001b[A\n",
      "  6%|▋         | 25/400 [00:10<02:43,  2.30it/s]\u001b[A\n",
      "  7%|▋         | 27/400 [00:11<02:44,  2.27it/s]\u001b[A\n",
      "  7%|▋         | 29/400 [00:12<02:35,  2.38it/s]\u001b[A\n",
      "  8%|▊         | 31/400 [00:12<02:33,  2.41it/s]\u001b[A\n",
      "  8%|▊         | 32/400 [00:13<02:34,  2.37it/s]\u001b[A\n",
      "  8%|▊         | 33/400 [00:14<02:39,  2.30it/s]\u001b[A\n",
      "  8%|▊         | 34/400 [00:15<02:43,  2.23it/s]\u001b[A\n",
      "  9%|▉         | 35/400 [00:15<02:46,  2.20it/s]\u001b[A\n",
      " 10%|▉         | 38/400 [00:16<02:40,  2.26it/s]\u001b[A\n",
      " 10%|▉         | 39/400 [00:17<02:41,  2.23it/s]\u001b[A\n",
      " 10%|█         | 40/400 [00:18<02:44,  2.19it/s]\u001b[A\n",
      " 10%|█         | 41/400 [00:19<02:52,  2.08it/s]\u001b[A\n",
      " 11%|█         | 43/400 [00:20<02:51,  2.09it/s]\u001b[A\n",
      " 11%|█         | 44/400 [00:21<02:50,  2.08it/s]\u001b[A\n",
      " 11%|█▏        | 45/400 [00:21<02:51,  2.07it/s]\u001b[A\n",
      " 12%|█▏        | 46/400 [00:22<02:55,  2.02it/s]\u001b[A\n",
      " 12%|█▏        | 47/400 [00:23<02:57,  1.99it/s]\u001b[A\n",
      " 12%|█▏        | 48/400 [00:25<03:03,  1.92it/s]\u001b[A\n",
      " 12%|█▏        | 49/400 [00:27<03:13,  1.81it/s]\u001b[A\n",
      " 12%|█▎        | 50/400 [00:28<03:17,  1.77it/s]\u001b[A\n",
      " 13%|█▎        | 51/400 [00:29<03:19,  1.75it/s]\u001b[A\n",
      " 13%|█▎        | 52/400 [00:29<03:19,  1.75it/s]\u001b[A\n",
      " 13%|█▎        | 53/400 [00:30<03:19,  1.74it/s]\u001b[A\n",
      " 14%|█▎        | 54/400 [00:31<03:19,  1.74it/s]\u001b[A\n",
      " 14%|█▍        | 55/400 [00:31<03:18,  1.74it/s]\u001b[A\n",
      " 14%|█▍        | 56/400 [00:32<03:19,  1.73it/s]\u001b[A\n",
      " 14%|█▍        | 57/400 [00:32<03:16,  1.74it/s]\u001b[A\n",
      " 15%|█▌        | 60/400 [00:33<03:09,  1.79it/s]\u001b[A\n",
      " 15%|█▌        | 61/400 [00:34<03:09,  1.79it/s]\u001b[A\n",
      " 16%|█▌        | 62/400 [00:34<03:10,  1.78it/s]\u001b[A\n",
      " 16%|█▌        | 64/400 [00:35<03:06,  1.80it/s]\u001b[A\n",
      " 16%|█▋        | 65/400 [00:36<03:08,  1.78it/s]\u001b[A\n",
      " 16%|█▋        | 66/400 [00:38<03:14,  1.72it/s]\u001b[A\n",
      " 17%|█▋        | 67/400 [00:39<03:15,  1.71it/s]\u001b[A\n",
      " 17%|█▋        | 68/400 [00:41<03:24,  1.63it/s]\u001b[A\n",
      " 18%|█▊        | 70/400 [00:42<03:21,  1.64it/s]\u001b[A\n",
      " 18%|█▊        | 71/400 [00:45<03:31,  1.56it/s]\u001b[A\n",
      " 18%|█▊        | 72/400 [00:46<03:31,  1.55it/s]\u001b[A\n",
      " 18%|█▊        | 74/400 [00:47<03:28,  1.57it/s]\u001b[A\n",
      " 19%|█▉        | 77/400 [00:48<03:21,  1.60it/s]\u001b[A\n",
      " 20%|█▉        | 78/400 [00:48<03:21,  1.60it/s]\u001b[A\n",
      " 20%|██        | 80/400 [00:49<03:17,  1.62it/s]\u001b[A\n",
      " 20%|██        | 81/400 [00:51<03:21,  1.58it/s]\u001b[A\n",
      " 21%|██        | 83/400 [00:51<03:18,  1.60it/s]\u001b[A\n",
      " 21%|██        | 84/400 [00:52<03:18,  1.59it/s]\u001b[A\n",
      " 22%|██▏       | 86/400 [00:53<03:14,  1.62it/s]\u001b[A\n",
      " 22%|██▏       | 87/400 [00:54<03:14,  1.61it/s]\u001b[A\n",
      " 22%|██▏       | 88/400 [00:54<03:13,  1.61it/s]\u001b[A\n",
      " 22%|██▏       | 89/400 [00:56<03:18,  1.57it/s]\u001b[A\n",
      " 23%|██▎       | 91/400 [00:58<03:18,  1.56it/s]\u001b[A\n",
      " 23%|██▎       | 93/400 [00:59<03:14,  1.57it/s]\u001b[A\n",
      " 24%|██▍       | 96/400 [01:00<03:10,  1.60it/s]\u001b[A\n",
      " 24%|██▍       | 97/400 [01:00<03:10,  1.59it/s]\u001b[A\n",
      " 25%|██▌       | 100/400 [01:01<03:05,  1.61it/s]\u001b[A\n",
      " 25%|██▌       | 101/400 [01:02<03:05,  1.61it/s]\u001b[A\n",
      " 26%|██▌       | 104/400 [01:03<03:00,  1.64it/s]\u001b[A\n",
      " 26%|██▋       | 105/400 [01:03<02:59,  1.64it/s]\u001b[A\n",
      " 26%|██▋       | 106/400 [01:05<03:02,  1.61it/s]\u001b[A\n",
      " 27%|██▋       | 107/400 [01:06<03:02,  1.60it/s]\u001b[A\n",
      " 27%|██▋       | 108/400 [01:07<03:02,  1.60it/s]\u001b[A\n",
      " 27%|██▋       | 109/400 [01:08<03:04,  1.58it/s]\u001b[A\n",
      " 28%|██▊       | 111/400 [01:10<03:02,  1.58it/s]\u001b[A\n",
      " 28%|██▊       | 114/400 [01:11<02:58,  1.60it/s]\u001b[A\n",
      " 29%|██▉       | 115/400 [01:12<02:58,  1.59it/s]\u001b[A\n",
      " 29%|██▉       | 116/400 [01:14<03:01,  1.56it/s]\u001b[A\n",
      " 29%|██▉       | 117/400 [01:15<03:02,  1.55it/s]\u001b[A\n",
      " 30%|██▉       | 118/400 [01:16<03:03,  1.54it/s]\u001b[A\n",
      " 30%|██▉       | 119/400 [01:17<03:02,  1.54it/s]\u001b[A\n",
      " 30%|███       | 122/400 [01:18<02:59,  1.55it/s]\u001b[A\n",
      " 31%|███       | 123/400 [01:19<02:59,  1.54it/s]\u001b[A\n",
      " 31%|███▏      | 125/400 [01:20<02:58,  1.54it/s]\u001b[A\n",
      " 32%|███▏      | 126/400 [01:21<02:58,  1.54it/s]\u001b[A\n",
      " 32%|███▏      | 127/400 [01:22<02:58,  1.53it/s]\u001b[A\n",
      " 32%|███▏      | 128/400 [01:23<02:57,  1.53it/s]\u001b[A\n",
      " 32%|███▏      | 129/400 [01:24<02:58,  1.52it/s]\u001b[A\n",
      " 33%|███▎      | 131/400 [01:25<02:56,  1.52it/s]\u001b[A\n",
      " 33%|███▎      | 133/400 [01:26<02:52,  1.54it/s]\u001b[A\n",
      " 34%|███▎      | 134/400 [01:27<02:53,  1.53it/s]\u001b[A\n",
      " 34%|███▍      | 135/400 [01:28<02:53,  1.53it/s]\u001b[A\n",
      " 34%|███▍      | 136/400 [01:29<02:53,  1.52it/s]\u001b[A\n",
      " 34%|███▍      | 137/400 [01:30<02:52,  1.52it/s]\u001b[A\n",
      " 35%|███▌      | 141/400 [01:31<02:47,  1.55it/s]\u001b[A\n",
      " 36%|███▌      | 142/400 [01:32<02:47,  1.54it/s]\u001b[A\n",
      " 36%|███▋      | 146/400 [01:34<02:44,  1.54it/s]\u001b[A\n",
      " 37%|███▋      | 147/400 [01:34<02:43,  1.55it/s]\u001b[A\n",
      " 37%|███▋      | 148/400 [01:37<02:45,  1.52it/s]\u001b[A\n",
      " 37%|███▋      | 149/400 [01:38<02:46,  1.51it/s]\u001b[A\n",
      " 38%|███▊      | 153/400 [01:39<02:40,  1.54it/s]\u001b[A\n",
      " 38%|███▊      | 154/400 [01:40<02:40,  1.54it/s]\u001b[A\n",
      " 39%|███▉      | 155/400 [01:40<02:39,  1.54it/s]\u001b[A\n",
      " 39%|███▉      | 156/400 [01:41<02:39,  1.53it/s]\u001b[A\n",
      " 40%|███▉      | 158/400 [01:42<02:36,  1.54it/s]\u001b[A\n",
      " 40%|████      | 160/400 [01:45<02:38,  1.52it/s]\u001b[A\n",
      " 40%|████      | 161/400 [01:48<02:40,  1.49it/s]\u001b[A\n",
      " 41%|████      | 163/400 [01:48<02:38,  1.50it/s]\u001b[A\n",
      " 41%|████      | 164/400 [01:50<02:38,  1.49it/s]\u001b[A\n",
      " 41%|████▏     | 165/400 [01:51<02:38,  1.49it/s]\u001b[A\n",
      " 42%|████▏     | 168/400 [01:52<02:34,  1.50it/s]\u001b[A\n",
      " 42%|████▎     | 170/400 [01:54<02:34,  1.48it/s]\u001b[A\n",
      " 43%|████▎     | 171/400 [01:55<02:34,  1.48it/s]\u001b[A\n",
      " 43%|████▎     | 173/400 [01:57<02:33,  1.48it/s]\u001b[A\n",
      " 44%|████▎     | 174/400 [01:58<02:33,  1.47it/s]\u001b[A\n",
      " 44%|████▍     | 175/400 [02:00<02:35,  1.45it/s]\u001b[A\n",
      " 44%|████▍     | 178/400 [02:02<02:32,  1.45it/s]\u001b[A\n",
      " 45%|████▍     | 179/400 [02:04<02:33,  1.44it/s]\u001b[A\n",
      " 45%|████▌     | 180/400 [02:04<02:32,  1.44it/s]\u001b[A\n",
      " 46%|████▌     | 182/400 [02:05<02:30,  1.45it/s]\u001b[A\n",
      " 46%|████▌     | 183/400 [02:06<02:29,  1.45it/s]\u001b[A\n",
      " 46%|████▌     | 184/400 [02:06<02:28,  1.45it/s]\u001b[A\n",
      " 46%|████▋     | 185/400 [02:07<02:28,  1.45it/s]\u001b[A\n",
      " 47%|████▋     | 189/400 [02:08<02:23,  1.47it/s]\u001b[A\n",
      " 48%|████▊     | 190/400 [02:11<02:25,  1.45it/s]\u001b[A\n",
      " 48%|████▊     | 191/400 [02:13<02:26,  1.43it/s]\u001b[A\n",
      " 48%|████▊     | 193/400 [02:13<02:23,  1.44it/s]\u001b[A\n",
      " 48%|████▊     | 194/400 [02:15<02:23,  1.43it/s]\u001b[A\n",
      " 49%|████▉     | 195/400 [02:16<02:23,  1.43it/s]\u001b[A\n",
      " 49%|████▉     | 196/400 [02:17<02:23,  1.42it/s]\u001b[A\n",
      " 49%|████▉     | 197/400 [02:18<02:22,  1.42it/s]\u001b[A\n",
      " 50%|████▉     | 198/400 [02:20<02:23,  1.41it/s]\u001b[A\n",
      " 50%|████▉     | 199/400 [02:21<02:22,  1.41it/s]\u001b[A\n",
      " 50%|█████     | 200/400 [02:22<02:22,  1.41it/s]\u001b[A\n",
      " 50%|█████     | 201/400 [02:23<02:21,  1.40it/s]\u001b[A\n",
      " 50%|█████     | 202/400 [02:24<02:21,  1.40it/s]\u001b[A\n",
      " 51%|█████▏    | 205/400 [02:24<02:17,  1.41it/s]\u001b[A\n",
      " 52%|█████▏    | 206/400 [02:26<02:17,  1.41it/s]\u001b[A\n",
      " 52%|█████▏    | 207/400 [02:27<02:17,  1.41it/s]\u001b[A\n",
      " 52%|█████▏    | 208/400 [02:28<02:17,  1.40it/s]\u001b[A\n",
      " 52%|█████▏    | 209/400 [02:29<02:16,  1.39it/s]\u001b[A\n",
      " 53%|█████▎    | 211/400 [02:31<02:15,  1.40it/s]\u001b[A\n",
      " 53%|█████▎    | 212/400 [02:32<02:15,  1.39it/s]\u001b[A\n",
      " 54%|█████▎    | 214/400 [02:33<02:13,  1.40it/s]\u001b[A\n",
      " 54%|█████▍    | 215/400 [02:34<02:12,  1.40it/s]\u001b[A\n",
      " 54%|█████▍    | 216/400 [02:35<02:12,  1.39it/s]\u001b[A\n",
      " 54%|█████▍    | 217/400 [02:36<02:11,  1.39it/s]\u001b[A\n",
      " 55%|█████▍    | 218/400 [02:37<02:11,  1.39it/s]\u001b[A\n",
      " 55%|█████▍    | 219/400 [02:37<02:10,  1.39it/s]\u001b[A\n",
      " 55%|█████▌    | 221/400 [02:38<02:08,  1.39it/s]\u001b[A\n",
      " 56%|█████▌    | 222/400 [02:39<02:08,  1.39it/s]\u001b[A\n",
      " 56%|█████▌    | 223/400 [02:40<02:07,  1.39it/s]\u001b[A\n",
      " 56%|█████▌    | 224/400 [02:41<02:06,  1.39it/s]\u001b[A\n",
      " 56%|█████▋    | 226/400 [02:42<02:05,  1.39it/s]\u001b[A\n",
      " 57%|█████▋    | 227/400 [02:43<02:04,  1.38it/s]\u001b[A\n",
      " 57%|█████▋    | 228/400 [02:45<02:04,  1.38it/s]\u001b[A\n",
      " 57%|█████▊    | 230/400 [02:47<02:03,  1.37it/s]\u001b[A\n",
      " 58%|█████▊    | 231/400 [02:47<02:02,  1.38it/s]\u001b[A\n",
      " 58%|█████▊    | 232/400 [02:48<02:01,  1.38it/s]\u001b[A\n",
      " 58%|█████▊    | 233/400 [02:49<02:01,  1.37it/s]\u001b[A\n",
      " 58%|█████▊    | 234/400 [02:50<02:01,  1.37it/s]\u001b[A\n",
      " 59%|█████▉    | 235/400 [02:51<02:00,  1.37it/s]\u001b[A\n",
      " 59%|█████▉    | 236/400 [02:53<02:00,  1.36it/s]\u001b[A\n",
      " 59%|█████▉    | 237/400 [02:54<01:59,  1.36it/s]\u001b[A\n",
      " 60%|█████▉    | 238/400 [02:56<01:59,  1.35it/s]\u001b[A\n",
      " 60%|█████▉    | 239/400 [02:58<02:00,  1.34it/s]\u001b[A\n",
      " 60%|██████    | 241/400 [02:59<01:58,  1.34it/s]\u001b[A\n",
      " 60%|██████    | 242/400 [03:00<01:57,  1.34it/s]\u001b[A\n",
      " 61%|██████    | 243/400 [03:01<01:57,  1.34it/s]\u001b[A\n",
      " 61%|██████    | 244/400 [03:03<01:57,  1.33it/s]\u001b[A\n",
      " 61%|██████▏   | 245/400 [03:05<01:57,  1.32it/s]\u001b[A\n",
      " 62%|██████▏   | 247/400 [03:05<01:55,  1.33it/s]\u001b[A\n",
      " 62%|██████▏   | 248/400 [03:08<01:55,  1.32it/s]\u001b[A\n",
      " 62%|██████▎   | 250/400 [03:09<01:53,  1.32it/s]\u001b[A\n",
      " 63%|██████▎   | 252/400 [03:10<01:51,  1.32it/s]\u001b[A\n",
      " 63%|██████▎   | 253/400 [03:12<01:51,  1.31it/s]\u001b[A\n",
      " 64%|██████▎   | 254/400 [03:14<01:51,  1.31it/s]\u001b[A\n",
      " 64%|██████▍   | 256/400 [03:15<01:50,  1.31it/s]\u001b[A\n",
      " 64%|██████▍   | 257/400 [03:17<01:49,  1.30it/s]\u001b[A\n",
      " 64%|██████▍   | 258/400 [03:19<01:49,  1.30it/s]\u001b[A\n",
      " 65%|██████▌   | 260/400 [03:20<01:47,  1.30it/s]\u001b[A\n",
      " 66%|██████▌   | 262/400 [03:21<01:46,  1.30it/s]\u001b[A\n",
      " 66%|██████▌   | 263/400 [03:22<01:45,  1.30it/s]\u001b[A\n",
      " 66%|██████▌   | 264/400 [03:23<01:44,  1.30it/s]\u001b[A\n",
      " 66%|██████▋   | 265/400 [03:24<01:44,  1.30it/s]\u001b[A\n",
      " 66%|██████▋   | 266/400 [03:24<01:43,  1.30it/s]\u001b[A\n",
      " 67%|██████▋   | 267/400 [03:26<01:42,  1.29it/s]\u001b[A\n",
      " 68%|██████▊   | 270/400 [03:27<01:39,  1.30it/s]\u001b[A\n",
      " 68%|██████▊   | 272/400 [03:28<01:38,  1.30it/s]\u001b[A\n",
      " 68%|██████▊   | 273/400 [03:29<01:37,  1.30it/s]\u001b[A\n",
      " 69%|██████▉   | 275/400 [03:32<01:36,  1.30it/s]\u001b[A\n",
      " 69%|██████▉   | 276/400 [03:33<01:35,  1.29it/s]\u001b[A\n",
      " 69%|██████▉   | 277/400 [03:34<01:35,  1.29it/s]\u001b[A\n",
      " 70%|██████▉   | 278/400 [03:34<01:34,  1.30it/s]\u001b[A\n",
      " 70%|███████   | 281/400 [03:35<01:31,  1.30it/s]\u001b[A\n",
      " 71%|███████   | 284/400 [03:36<01:28,  1.31it/s]\u001b[A\n",
      " 72%|███████▏  | 286/400 [03:38<01:27,  1.31it/s]\u001b[A\n",
      " 72%|███████▏  | 287/400 [03:39<01:26,  1.31it/s]\u001b[A\n",
      " 72%|███████▏  | 288/400 [03:40<01:25,  1.31it/s]\u001b[A\n",
      " 72%|███████▏  | 289/400 [03:41<01:25,  1.30it/s]\u001b[A\n",
      " 72%|███████▎  | 290/400 [03:42<01:24,  1.30it/s]\u001b[A\n",
      " 73%|███████▎  | 293/400 [03:43<01:21,  1.31it/s]\u001b[A\n",
      " 74%|███████▍  | 295/400 [03:44<01:19,  1.31it/s]\u001b[A\n",
      " 74%|███████▍  | 297/400 [03:45<01:18,  1.32it/s]\u001b[A\n",
      " 74%|███████▍  | 298/400 [03:46<01:17,  1.32it/s]\u001b[A\n",
      " 75%|███████▍  | 299/400 [03:47<01:16,  1.31it/s]\u001b[A\n",
      " 75%|███████▌  | 301/400 [03:48<01:15,  1.32it/s]\u001b[A\n",
      " 76%|███████▌  | 302/400 [03:49<01:14,  1.32it/s]\u001b[A\n",
      " 76%|███████▌  | 303/400 [03:50<01:13,  1.31it/s]\u001b[A\n",
      " 76%|███████▌  | 304/400 [03:52<01:13,  1.31it/s]\u001b[A\n",
      " 76%|███████▋  | 306/400 [03:53<01:11,  1.31it/s]\u001b[A\n",
      " 77%|███████▋  | 307/400 [03:54<01:11,  1.31it/s]\u001b[A\n",
      " 77%|███████▋  | 308/400 [03:56<01:10,  1.30it/s]\u001b[A\n",
      " 77%|███████▋  | 309/400 [03:59<01:10,  1.29it/s]\u001b[A\n",
      " 78%|███████▊  | 310/400 [04:00<01:09,  1.29it/s]\u001b[A\n",
      " 78%|███████▊  | 311/400 [04:01<01:09,  1.29it/s]\u001b[A\n",
      " 78%|███████▊  | 312/400 [04:02<01:08,  1.29it/s]\u001b[A\n",
      " 78%|███████▊  | 314/400 [04:03<01:06,  1.29it/s]\u001b[A\n",
      " 79%|███████▉  | 315/400 [04:04<01:05,  1.29it/s]\u001b[A\n",
      " 79%|███████▉  | 316/400 [04:05<01:05,  1.29it/s]\u001b[A\n",
      " 80%|███████▉  | 318/400 [04:07<01:03,  1.29it/s]\u001b[A\n",
      " 80%|████████  | 320/400 [04:08<01:02,  1.29it/s]\u001b[A\n",
      " 80%|████████  | 322/400 [04:09<01:00,  1.29it/s]\u001b[A\n",
      " 81%|████████  | 323/400 [04:10<00:59,  1.29it/s]\u001b[A\n",
      " 81%|████████▏ | 325/400 [04:12<00:58,  1.29it/s]\u001b[A\n",
      " 82%|████████▏ | 326/400 [04:13<00:57,  1.29it/s]\u001b[A\n",
      " 82%|████████▏ | 327/400 [04:14<00:56,  1.29it/s]\u001b[A\n",
      " 82%|████████▏ | 329/400 [04:15<00:55,  1.29it/s]\u001b[A\n",
      " 83%|████████▎ | 331/400 [04:17<00:53,  1.29it/s]\u001b[A\n",
      " 83%|████████▎ | 333/400 [04:17<00:51,  1.29it/s]\u001b[A\n",
      " 84%|████████▎ | 334/400 [04:18<00:51,  1.29it/s]\u001b[A\n",
      " 84%|████████▍ | 335/400 [04:20<00:50,  1.29it/s]\u001b[A\n",
      " 84%|████████▍ | 337/400 [04:21<00:48,  1.29it/s]\u001b[A\n",
      " 85%|████████▍ | 339/400 [04:22<00:47,  1.29it/s]\u001b[A\n",
      " 85%|████████▌ | 341/400 [04:23<00:45,  1.29it/s]\u001b[A\n",
      " 86%|████████▌ | 342/400 [04:24<00:44,  1.29it/s]\u001b[A\n",
      " 86%|████████▌ | 343/400 [04:25<00:44,  1.29it/s]\u001b[A\n",
      " 86%|████████▌ | 344/400 [04:27<00:43,  1.29it/s]\u001b[A\n",
      " 86%|████████▋ | 345/400 [04:29<00:42,  1.28it/s]\u001b[A\n",
      " 86%|████████▋ | 346/400 [04:30<00:42,  1.28it/s]\u001b[A\n",
      " 87%|████████▋ | 347/400 [04:32<00:41,  1.27it/s]\u001b[A\n",
      " 87%|████████▋ | 349/400 [04:33<00:39,  1.28it/s]\u001b[A\n",
      " 88%|████████▊ | 350/400 [04:35<00:39,  1.27it/s]\u001b[A\n",
      " 88%|████████▊ | 352/400 [04:35<00:37,  1.28it/s]\u001b[A\n",
      " 88%|████████▊ | 354/400 [04:36<00:35,  1.28it/s]\u001b[A\n",
      " 89%|████████▉ | 355/400 [04:40<00:35,  1.26it/s]\u001b[A\n",
      " 89%|████████▉ | 356/400 [04:41<00:34,  1.27it/s]\u001b[A\n",
      " 89%|████████▉ | 357/400 [04:42<00:33,  1.27it/s]\u001b[A\n",
      " 90%|████████▉ | 358/400 [04:44<00:33,  1.26it/s]\u001b[A\n",
      " 90%|████████▉ | 359/400 [04:45<00:32,  1.26it/s]\u001b[A\n",
      " 90%|█████████ | 361/400 [04:46<00:30,  1.26it/s]\u001b[A\n",
      " 90%|█████████ | 362/400 [04:48<00:30,  1.25it/s]\u001b[A\n",
      " 91%|█████████ | 363/400 [04:50<00:29,  1.25it/s]\u001b[A\n",
      " 91%|█████████▏| 365/400 [04:53<00:28,  1.24it/s]\u001b[A\n",
      " 92%|█████████▏| 366/400 [04:54<00:27,  1.24it/s]\u001b[A\n",
      " 92%|█████████▏| 367/400 [04:56<00:26,  1.24it/s]\u001b[A\n",
      " 92%|█████████▏| 368/400 [04:59<00:26,  1.23it/s]\u001b[A\n",
      " 92%|█████████▏| 369/400 [05:00<00:25,  1.23it/s]\u001b[A\n",
      " 92%|█████████▎| 370/400 [05:01<00:24,  1.23it/s]\u001b[A\n",
      " 93%|█████████▎| 371/400 [05:05<00:23,  1.22it/s]\u001b[A\n",
      " 93%|█████████▎| 372/400 [05:08<00:23,  1.21it/s]\u001b[A\n",
      " 93%|█████████▎| 373/400 [05:12<00:22,  1.20it/s]\u001b[A\n",
      " 94%|█████████▍| 375/400 [05:12<00:20,  1.20it/s]\u001b[A\n",
      " 94%|█████████▍| 376/400 [05:12<00:19,  1.20it/s]\u001b[A\n",
      " 94%|█████████▍| 377/400 [05:13<00:19,  1.20it/s]\u001b[A\n",
      " 94%|█████████▍| 378/400 [05:14<00:18,  1.20it/s]\u001b[A\n",
      " 95%|█████████▍| 379/400 [05:15<00:17,  1.20it/s]\u001b[A\n",
      " 95%|█████████▌| 380/400 [05:17<00:16,  1.20it/s]\u001b[A\n",
      " 95%|█████████▌| 381/400 [05:19<00:15,  1.19it/s]\u001b[A\n",
      " 96%|█████████▌| 383/400 [05:20<00:14,  1.20it/s]\u001b[A\n",
      " 96%|█████████▌| 384/400 [05:21<00:13,  1.19it/s]\u001b[A\n",
      " 96%|█████████▋| 386/400 [05:22<00:11,  1.20it/s]\u001b[A\n",
      " 97%|█████████▋| 388/400 [05:23<00:10,  1.20it/s]\u001b[A\n",
      " 97%|█████████▋| 389/400 [05:25<00:09,  1.20it/s]\u001b[A\n",
      " 98%|█████████▊| 390/400 [05:26<00:08,  1.19it/s]\u001b[A\n",
      " 98%|█████████▊| 393/400 [05:28<00:05,  1.20it/s]\u001b[A\n",
      " 98%|█████████▊| 394/400 [05:29<00:05,  1.19it/s]\u001b[A\n",
      " 99%|█████████▉| 395/400 [05:31<00:04,  1.19it/s]\u001b[A\n",
      " 99%|█████████▉| 396/400 [05:33<00:03,  1.19it/s]\u001b[A\n",
      " 99%|█████████▉| 397/400 [05:34<00:02,  1.19it/s]\u001b[A\n",
      "100%|█████████▉| 398/400 [05:36<00:01,  1.18it/s]\u001b[A\n",
      "100%|██████████| 400/400 [05:38<00:00,  1.18it/s]\u001b[A\n",
      "\u001b[A"
     ]
    }
   ],
   "source": [
    "with h5py.File('known/2d/training.hdf5') as f:\n",
    "    for i in tqdm(train):\n",
    "        trainx,trainy= data=yield_from_seq(X[i],y[i])\n",
    "        f.create_dataset(str(i)+'/X',data=trainx)\n",
    "        f.create_dataset(str(i)+'/y',data=trainy)"
   ]
  },
  {
   "cell_type": "code",
   "execution_count": 169,
   "metadata": {},
   "outputs": [
    {
     "name": "stderr",
     "output_type": "stream",
     "text": [
      "100%|██████████| 100/100 [02:01<00:00,  1.22s/it]\n"
     ]
    }
   ],
   "source": [
    "with h5py.File('known/2d/test.hdf5') as f:\n",
    "    for i in tqdm(test):\n",
    "        testx,testy= data=yield_from_seq(X[i],y[i])\n",
    "        f.create_dataset(str(i)+'/X',data=testx)\n",
    "        f.create_dataset(str(i)+'/y',data=testy)"
   ]
  },
  {
   "cell_type": "code",
   "execution_count": 170,
   "metadata": {},
   "outputs": [
    {
     "name": "stderr",
     "output_type": "stream",
     "text": [
      "100%|██████████| 40/40 [00:46<00:00,  1.17s/it]\n"
     ]
    }
   ],
   "source": [
    "with h5py.File('known/2d/valid.hdf5') as f:\n",
    "    for i in tqdm(valid):\n",
    "        validx,validy= data=yield_from_seq(X[i],y[i])\n",
    "        f.create_dataset(str(i)+'/X',data=validx)\n",
    "        f.create_dataset(str(i)+'/y',data=validy)"
   ]
  },
  {
   "cell_type": "code",
   "execution_count": null,
   "metadata": {},
   "outputs": [],
   "source": [
    "class_weight = {0 : 1.,1: 731.}\n",
    "class_weight = class_weight"
   ]
  },
  {
   "cell_type": "code",
   "execution_count": 176,
   "metadata": {},
   "outputs": [],
   "source": [
    "f= h5py.File('known/2d/training.hdf5')"
   ]
  },
  {
   "cell_type": "code",
   "execution_count": 181,
   "metadata": {},
   "outputs": [
    {
     "data": {
      "text/plain": [
       "(172, 128, 128)"
      ]
     },
     "execution_count": 181,
     "metadata": {},
     "output_type": "execute_result"
    }
   ],
   "source": [
    "f['0/X'][:].shape\n",
    "f['0/y'][:].shape"
   ]
  },
  {
   "cell_type": "code",
   "execution_count": 3,
   "metadata": {},
   "outputs": [],
   "source": [
    "a = (3,12,3)"
   ]
  },
  {
   "cell_type": "code",
   "execution_count": 1,
   "metadata": {},
   "outputs": [
    {
     "name": "stdout",
     "output_type": "stream",
     "text": [
      "/home/chenxupeng/projects/deepshape\n"
     ]
    }
   ],
   "source": [
    "cd /home/chenxupeng/projects/deepshape"
   ]
  },
  {
   "cell_type": "code",
   "execution_count": 5,
   "metadata": {},
   "outputs": [
    {
     "name": "stderr",
     "output_type": "stream",
     "text": [
      "Using TensorFlow backend.\n"
     ]
    }
   ],
   "source": [
    "import sys,os,errno,gc\n",
    "sys.path.append('bin')\n",
    "from second_structure_unet import *\n",
    "import numpy as np\n",
    "import datetime\n",
    "import argparse\n",
    "from glob import glob\n",
    "import pandas as pd\n",
    "import h5py\n",
    "from tqdm import tqdm\n",
    "from keras.callbacks import TensorBoard\n",
    "from keras.callbacks import EarlyStopping\n",
    "from keras.optimizers import Adam\n",
    "from keras.callbacks import ModelCheckpoint\n",
    "os.environ[\"CUDA_DEVICE_ORDER\"] = \"PCI_BUS_ID\"  # so the IDs match nvidia-smi\n",
    "os.environ[\"CUDA_VISIBLE_DEVICES\"] = '4'\n",
    "import tensorflow as tf\n",
    "from keras.backend.tensorflow_backend import set_session\n",
    "import numpy as np\n",
    "import keras\n",
    "from keras.models import Model\n",
    "from keras import losses\n",
    "from keras.layers import Input, Conv2D, MaxPooling2D, UpSampling2D\n",
    "from keras.layers.normalization import BatchNormalization\n",
    "from keras.layers.core import Dropout, Activation,Reshape,Flatten,Dense\n",
    "from keras import backend as K\n",
    "from keras.layers.merge import concatenate\n",
    "from keras.layers import Lambda, Dot\n",
    "import tensorflow as tf"
   ]
  },
  {
   "cell_type": "code",
   "execution_count": 6,
   "metadata": {},
   "outputs": [
    {
     "data": {
      "text/plain": [
       "16"
      ]
     },
     "execution_count": 6,
     "metadata": {},
     "output_type": "execute_result"
    }
   ],
   "source": [
    "INPUT_CHANNELS"
   ]
  },
  {
   "cell_type": "code",
   "execution_count": 7,
   "metadata": {},
   "outputs": [],
   "source": [
    "def UNET_128(dropout_val=dropout_val, batch_norm=True):\n",
    "    inputs = Input((None, None, INPUT_CHANNELS))\n",
    "    axis = 3\n",
    "    filters = 32\n",
    "\n",
    "    conv_128 = double_conv_layer(inputs, filters, dropout_val, batch_norm)\n",
    "    pool_64 = MaxPooling2D(pool_size=(2, 2))(conv_128)\n",
    "\n",
    "    conv_64 = double_conv_layer(pool_64, 2*filters, dropout_val, batch_norm)\n",
    "    pool_32 = MaxPooling2D(pool_size=(2, 2))(conv_64)\n",
    "\n",
    "    conv_32 = double_conv_layer(pool_32, 4*filters, dropout_val, batch_norm)\n",
    "    pool_16 = MaxPooling2D(pool_size=(2, 2))(conv_32)\n",
    "\n",
    "    conv_16 = double_conv_layer(pool_16, 8*filters, dropout_val, batch_norm)\n",
    "    pool_8 = MaxPooling2D(pool_size=(2, 2))(conv_16)\n",
    "\n",
    "    conv_8 = double_conv_layer(pool_8, 16*filters, dropout_val, batch_norm)\n",
    "    pool_4 = MaxPooling2D(pool_size=(2, 2))(conv_8)\n",
    "\n",
    "    conv_4 = double_conv_layer(pool_4, 32*filters, dropout_val, batch_norm)\n",
    "\n",
    "    up_8 = concatenate([UpSampling2D(size=(2, 2))(conv_4), conv_8], axis=axis)\n",
    "    up_conv_8 = double_conv_layer(up_8, 16*filters, dropout_val, batch_norm)\n",
    "\n",
    "    up_16 = concatenate([UpSampling2D(size=(2, 2))(up_conv_8), conv_16], axis=axis)\n",
    "    up_conv_16 = double_conv_layer(up_16, 8*filters, dropout_val, batch_norm)\n",
    "\n",
    "    up_32 = concatenate([UpSampling2D(size=(2, 2))(up_conv_16), conv_32], axis=axis)\n",
    "    up_conv_32 = double_conv_layer(up_32, 4*filters, dropout_val, batch_norm)\n",
    "\n",
    "    up_64 = concatenate([UpSampling2D(size=(2, 2))(up_conv_32), conv_64], axis=axis)\n",
    "    up_conv_64 = double_conv_layer(up_64, 2*filters, dropout_val, batch_norm)\n",
    "\n",
    "    up_128 = concatenate([UpSampling2D(size=(2, 2))(up_conv_64), conv_128], axis=axis)\n",
    "    up_conv_128 = double_conv_layer(up_128, filters, 0, batch_norm)\n",
    "\n",
    "    conv_final = Conv2D(OUTPUT_MASK_CHANNELS, (1, 1))(up_conv_128)\n",
    "    conv_final = BatchNormalization(axis=axis)(conv_final)\n",
    "    conv_final = Activation('sigmoid',name = 'last_activation')(conv_final)\n",
    "\n",
    "    #to use class weight the dimension must be no more than 3d\n",
    "    flatten = Lambda(lambda x: K.batch_flatten(x))(conv_final)\n",
    "    #softmax=Lambda(lambda x: tf.exp(x) / tf.reduce_sum(tf.exp(x), axis=-1))(flatten)\n",
    "    #shapeofflatten = flatten._keras.shape\n",
    "    #soft = Lambda(lambda x: Dense(x,2, activation='softmax'))(flatten)\n",
    "    #flatten =Flatten(input_shape = (None,None,1))(conv_final)\n",
    "    #dense = Dense(shapeofflatten,activation='softmax')\n",
    "    model = Model(inputs,flatten, name=\"ZF_UNET_128\")\n",
    "    return model"
   ]
  },
  {
   "cell_type": "markdown",
   "metadata": {},
   "source": [
    "def binary_crossentropy_squeeze(y_true, y_pred):\n",
    "    loss = K.mean(K.binary_crossentropy(y_true, y_pred), axis=-1)\n",
    "    return loss"
   ]
  },
  {
   "cell_type": "code",
   "execution_count": 73,
   "metadata": {},
   "outputs": [],
   "source": [
    "def focal_loss_nan(gamma=2., alpha=731):\n",
    "    def focal_loss_fixed(y_true, y_pred):\n",
    "        pt_1 = K.where(K.equal(y_true, 1), y_pred, K.ones_like(y_pred))\n",
    "        pt_0 = K.where(K.equal(y_true, 0), y_pred, K.zeros_like(y_pred))\n",
    "        return -K.sum(alpha * K.pow(1. - pt_1, gamma) * K.log(pt_1))-K.sum(1 * K.pow( pt_0, gamma) * K.log(1. - pt_0))\n",
    "    return focal_loss_fixed"
   ]
  },
  {
   "cell_type": "code",
   "execution_count": 10,
   "metadata": {},
   "outputs": [],
   "source": [
    "model = UNET_128()\n",
    "model.compile(optimizer=Adam(lr=1e-4),loss=weighthed_binary_ce_loss_nan(731), metrics=['accuracy','MSE'])"
   ]
  },
  {
   "cell_type": "code",
   "execution_count": 3,
   "metadata": {},
   "outputs": [],
   "source": [
    "with h5py.File('known/2d/training.hdf5') as f:\n",
    "    xtrain = f['0/X'][:]\n",
    "    ytrain = f['0/y'][:]"
   ]
  },
  {
   "cell_type": "code",
   "execution_count": 43,
   "metadata": {},
   "outputs": [
    {
     "data": {
      "text/plain": [
       "(172, 128, 128, 16)"
      ]
     },
     "execution_count": 43,
     "metadata": {},
     "output_type": "execute_result"
    }
   ],
   "source": [
    "xtrain.shape"
   ]
  },
  {
   "cell_type": "code",
   "execution_count": 81,
   "metadata": {
    "collapsed": true
   },
   "outputs": [
    {
     "name": "stdout",
     "output_type": "stream",
     "text": [
      "__________________________________________________________________________________________________\n",
      "Layer (type)                    Output Shape         Param #     Connected to                     \n",
      "==================================================================================================\n",
      "input_23 (InputLayer)           (None, None, None, 1 0                                            \n",
      "__________________________________________________________________________________________________\n",
      "conv2d_507 (Conv2D)             (None, None, None, 3 4640        input_23[0][0]                   \n",
      "__________________________________________________________________________________________________\n",
      "batch_normalization_507 (BatchN (None, None, None, 3 128         conv2d_507[0][0]                 \n",
      "__________________________________________________________________________________________________\n",
      "activation_485 (Activation)     (None, None, None, 3 0           batch_normalization_507[0][0]    \n",
      "__________________________________________________________________________________________________\n",
      "conv2d_508 (Conv2D)             (None, None, None, 3 9248        activation_485[0][0]             \n",
      "__________________________________________________________________________________________________\n",
      "batch_normalization_508 (BatchN (None, None, None, 3 128         conv2d_508[0][0]                 \n",
      "__________________________________________________________________________________________________\n",
      "activation_486 (Activation)     (None, None, None, 3 0           batch_normalization_508[0][0]    \n",
      "__________________________________________________________________________________________________\n",
      "dropout_221 (Dropout)           (None, None, None, 3 0           activation_486[0][0]             \n",
      "__________________________________________________________________________________________________\n",
      "max_pooling2d_111 (MaxPooling2D (None, None, None, 3 0           dropout_221[0][0]                \n",
      "__________________________________________________________________________________________________\n",
      "conv2d_509 (Conv2D)             (None, None, None, 6 18496       max_pooling2d_111[0][0]          \n",
      "__________________________________________________________________________________________________\n",
      "batch_normalization_509 (BatchN (None, None, None, 6 256         conv2d_509[0][0]                 \n",
      "__________________________________________________________________________________________________\n",
      "activation_487 (Activation)     (None, None, None, 6 0           batch_normalization_509[0][0]    \n",
      "__________________________________________________________________________________________________\n",
      "conv2d_510 (Conv2D)             (None, None, None, 6 36928       activation_487[0][0]             \n",
      "__________________________________________________________________________________________________\n",
      "batch_normalization_510 (BatchN (None, None, None, 6 256         conv2d_510[0][0]                 \n",
      "__________________________________________________________________________________________________\n",
      "activation_488 (Activation)     (None, None, None, 6 0           batch_normalization_510[0][0]    \n",
      "__________________________________________________________________________________________________\n",
      "dropout_222 (Dropout)           (None, None, None, 6 0           activation_488[0][0]             \n",
      "__________________________________________________________________________________________________\n",
      "max_pooling2d_112 (MaxPooling2D (None, None, None, 6 0           dropout_222[0][0]                \n",
      "__________________________________________________________________________________________________\n",
      "conv2d_511 (Conv2D)             (None, None, None, 1 73856       max_pooling2d_112[0][0]          \n",
      "__________________________________________________________________________________________________\n",
      "batch_normalization_511 (BatchN (None, None, None, 1 512         conv2d_511[0][0]                 \n",
      "__________________________________________________________________________________________________\n",
      "activation_489 (Activation)     (None, None, None, 1 0           batch_normalization_511[0][0]    \n",
      "__________________________________________________________________________________________________\n",
      "conv2d_512 (Conv2D)             (None, None, None, 1 147584      activation_489[0][0]             \n",
      "__________________________________________________________________________________________________\n",
      "batch_normalization_512 (BatchN (None, None, None, 1 512         conv2d_512[0][0]                 \n",
      "__________________________________________________________________________________________________\n",
      "activation_490 (Activation)     (None, None, None, 1 0           batch_normalization_512[0][0]    \n",
      "__________________________________________________________________________________________________\n",
      "dropout_223 (Dropout)           (None, None, None, 1 0           activation_490[0][0]             \n",
      "__________________________________________________________________________________________________\n",
      "max_pooling2d_113 (MaxPooling2D (None, None, None, 1 0           dropout_223[0][0]                \n",
      "__________________________________________________________________________________________________\n",
      "conv2d_513 (Conv2D)             (None, None, None, 2 295168      max_pooling2d_113[0][0]          \n",
      "__________________________________________________________________________________________________\n",
      "batch_normalization_513 (BatchN (None, None, None, 2 1024        conv2d_513[0][0]                 \n",
      "__________________________________________________________________________________________________\n",
      "activation_491 (Activation)     (None, None, None, 2 0           batch_normalization_513[0][0]    \n",
      "__________________________________________________________________________________________________\n",
      "conv2d_514 (Conv2D)             (None, None, None, 2 590080      activation_491[0][0]             \n",
      "__________________________________________________________________________________________________\n",
      "batch_normalization_514 (BatchN (None, None, None, 2 1024        conv2d_514[0][0]                 \n",
      "__________________________________________________________________________________________________\n",
      "activation_492 (Activation)     (None, None, None, 2 0           batch_normalization_514[0][0]    \n",
      "__________________________________________________________________________________________________\n",
      "dropout_224 (Dropout)           (None, None, None, 2 0           activation_492[0][0]             \n",
      "__________________________________________________________________________________________________\n",
      "max_pooling2d_114 (MaxPooling2D (None, None, None, 2 0           dropout_224[0][0]                \n",
      "__________________________________________________________________________________________________\n",
      "conv2d_515 (Conv2D)             (None, None, None, 5 1180160     max_pooling2d_114[0][0]          \n",
      "__________________________________________________________________________________________________\n",
      "batch_normalization_515 (BatchN (None, None, None, 5 2048        conv2d_515[0][0]                 \n",
      "__________________________________________________________________________________________________\n",
      "activation_493 (Activation)     (None, None, None, 5 0           batch_normalization_515[0][0]    \n",
      "__________________________________________________________________________________________________\n",
      "conv2d_516 (Conv2D)             (None, None, None, 5 2359808     activation_493[0][0]             \n",
      "__________________________________________________________________________________________________\n",
      "batch_normalization_516 (BatchN (None, None, None, 5 2048        conv2d_516[0][0]                 \n",
      "__________________________________________________________________________________________________\n",
      "activation_494 (Activation)     (None, None, None, 5 0           batch_normalization_516[0][0]    \n",
      "__________________________________________________________________________________________________\n",
      "dropout_225 (Dropout)           (None, None, None, 5 0           activation_494[0][0]             \n",
      "__________________________________________________________________________________________________\n",
      "max_pooling2d_115 (MaxPooling2D (None, None, None, 5 0           dropout_225[0][0]                \n",
      "__________________________________________________________________________________________________\n",
      "conv2d_517 (Conv2D)             (None, None, None, 1 4719616     max_pooling2d_115[0][0]          \n",
      "__________________________________________________________________________________________________\n",
      "batch_normalization_517 (BatchN (None, None, None, 1 4096        conv2d_517[0][0]                 \n",
      "__________________________________________________________________________________________________\n",
      "activation_495 (Activation)     (None, None, None, 1 0           batch_normalization_517[0][0]    \n",
      "__________________________________________________________________________________________________\n",
      "conv2d_518 (Conv2D)             (None, None, None, 1 9438208     activation_495[0][0]             \n",
      "__________________________________________________________________________________________________\n",
      "batch_normalization_518 (BatchN (None, None, None, 1 4096        conv2d_518[0][0]                 \n",
      "__________________________________________________________________________________________________\n",
      "activation_496 (Activation)     (None, None, None, 1 0           batch_normalization_518[0][0]    \n",
      "__________________________________________________________________________________________________\n",
      "dropout_226 (Dropout)           (None, None, None, 1 0           activation_496[0][0]             \n",
      "__________________________________________________________________________________________________\n",
      "up_sampling2d_111 (UpSampling2D (None, None, None, 1 0           dropout_226[0][0]                \n",
      "__________________________________________________________________________________________________\n",
      "concatenate_111 (Concatenate)   (None, None, None, 1 0           up_sampling2d_111[0][0]          \n",
      "                                                                 dropout_225[0][0]                \n",
      "__________________________________________________________________________________________________\n",
      "conv2d_519 (Conv2D)             (None, None, None, 5 7078400     concatenate_111[0][0]            \n",
      "__________________________________________________________________________________________________\n",
      "batch_normalization_519 (BatchN (None, None, None, 5 2048        conv2d_519[0][0]                 \n",
      "__________________________________________________________________________________________________\n",
      "activation_497 (Activation)     (None, None, None, 5 0           batch_normalization_519[0][0]    \n",
      "__________________________________________________________________________________________________\n",
      "conv2d_520 (Conv2D)             (None, None, None, 5 2359808     activation_497[0][0]             \n",
      "__________________________________________________________________________________________________\n",
      "batch_normalization_520 (BatchN (None, None, None, 5 2048        conv2d_520[0][0]                 \n",
      "__________________________________________________________________________________________________\n",
      "activation_498 (Activation)     (None, None, None, 5 0           batch_normalization_520[0][0]    \n",
      "__________________________________________________________________________________________________\n",
      "dropout_227 (Dropout)           (None, None, None, 5 0           activation_498[0][0]             \n",
      "__________________________________________________________________________________________________\n",
      "up_sampling2d_112 (UpSampling2D (None, None, None, 5 0           dropout_227[0][0]                \n",
      "__________________________________________________________________________________________________\n",
      "concatenate_112 (Concatenate)   (None, None, None, 7 0           up_sampling2d_112[0][0]          \n",
      "                                                                 dropout_224[0][0]                \n",
      "__________________________________________________________________________________________________\n",
      "conv2d_521 (Conv2D)             (None, None, None, 2 1769728     concatenate_112[0][0]            \n",
      "__________________________________________________________________________________________________\n",
      "batch_normalization_521 (BatchN (None, None, None, 2 1024        conv2d_521[0][0]                 \n",
      "__________________________________________________________________________________________________\n",
      "activation_499 (Activation)     (None, None, None, 2 0           batch_normalization_521[0][0]    \n",
      "__________________________________________________________________________________________________\n",
      "conv2d_522 (Conv2D)             (None, None, None, 2 590080      activation_499[0][0]             \n",
      "__________________________________________________________________________________________________\n",
      "batch_normalization_522 (BatchN (None, None, None, 2 1024        conv2d_522[0][0]                 \n",
      "__________________________________________________________________________________________________\n",
      "activation_500 (Activation)     (None, None, None, 2 0           batch_normalization_522[0][0]    \n",
      "__________________________________________________________________________________________________\n",
      "dropout_228 (Dropout)           (None, None, None, 2 0           activation_500[0][0]             \n",
      "__________________________________________________________________________________________________\n",
      "up_sampling2d_113 (UpSampling2D (None, None, None, 2 0           dropout_228[0][0]                \n",
      "__________________________________________________________________________________________________\n",
      "concatenate_113 (Concatenate)   (None, None, None, 3 0           up_sampling2d_113[0][0]          \n",
      "                                                                 dropout_223[0][0]                \n",
      "__________________________________________________________________________________________________\n",
      "conv2d_523 (Conv2D)             (None, None, None, 1 442496      concatenate_113[0][0]            \n",
      "__________________________________________________________________________________________________\n",
      "batch_normalization_523 (BatchN (None, None, None, 1 512         conv2d_523[0][0]                 \n",
      "__________________________________________________________________________________________________\n",
      "activation_501 (Activation)     (None, None, None, 1 0           batch_normalization_523[0][0]    \n",
      "__________________________________________________________________________________________________\n",
      "conv2d_524 (Conv2D)             (None, None, None, 1 147584      activation_501[0][0]             \n",
      "__________________________________________________________________________________________________\n",
      "batch_normalization_524 (BatchN (None, None, None, 1 512         conv2d_524[0][0]                 \n",
      "__________________________________________________________________________________________________\n",
      "activation_502 (Activation)     (None, None, None, 1 0           batch_normalization_524[0][0]    \n",
      "__________________________________________________________________________________________________\n",
      "dropout_229 (Dropout)           (None, None, None, 1 0           activation_502[0][0]             \n",
      "__________________________________________________________________________________________________\n",
      "up_sampling2d_114 (UpSampling2D (None, None, None, 1 0           dropout_229[0][0]                \n",
      "__________________________________________________________________________________________________\n",
      "concatenate_114 (Concatenate)   (None, None, None, 1 0           up_sampling2d_114[0][0]          \n",
      "                                                                 dropout_222[0][0]                \n",
      "__________________________________________________________________________________________________\n",
      "conv2d_525 (Conv2D)             (None, None, None, 6 110656      concatenate_114[0][0]            \n",
      "__________________________________________________________________________________________________\n",
      "batch_normalization_525 (BatchN (None, None, None, 6 256         conv2d_525[0][0]                 \n",
      "__________________________________________________________________________________________________\n",
      "activation_503 (Activation)     (None, None, None, 6 0           batch_normalization_525[0][0]    \n",
      "__________________________________________________________________________________________________\n",
      "conv2d_526 (Conv2D)             (None, None, None, 6 36928       activation_503[0][0]             \n",
      "__________________________________________________________________________________________________\n",
      "batch_normalization_526 (BatchN (None, None, None, 6 256         conv2d_526[0][0]                 \n",
      "__________________________________________________________________________________________________\n",
      "activation_504 (Activation)     (None, None, None, 6 0           batch_normalization_526[0][0]    \n",
      "__________________________________________________________________________________________________\n",
      "dropout_230 (Dropout)           (None, None, None, 6 0           activation_504[0][0]             \n",
      "__________________________________________________________________________________________________\n",
      "up_sampling2d_115 (UpSampling2D (None, None, None, 6 0           dropout_230[0][0]                \n",
      "__________________________________________________________________________________________________\n",
      "concatenate_115 (Concatenate)   (None, None, None, 9 0           up_sampling2d_115[0][0]          \n",
      "                                                                 dropout_221[0][0]                \n",
      "__________________________________________________________________________________________________\n",
      "conv2d_527 (Conv2D)             (None, None, None, 3 27680       concatenate_115[0][0]            \n",
      "__________________________________________________________________________________________________\n",
      "batch_normalization_527 (BatchN (None, None, None, 3 128         conv2d_527[0][0]                 \n",
      "__________________________________________________________________________________________________\n",
      "activation_505 (Activation)     (None, None, None, 3 0           batch_normalization_527[0][0]    \n",
      "__________________________________________________________________________________________________\n",
      "conv2d_528 (Conv2D)             (None, None, None, 3 9248        activation_505[0][0]             \n",
      "__________________________________________________________________________________________________\n",
      "batch_normalization_528 (BatchN (None, None, None, 3 128         conv2d_528[0][0]                 \n",
      "__________________________________________________________________________________________________\n",
      "activation_506 (Activation)     (None, None, None, 3 0           batch_normalization_528[0][0]    \n",
      "__________________________________________________________________________________________________\n",
      "conv2d_529 (Conv2D)             (None, None, None, 1 33          activation_506[0][0]             \n",
      "__________________________________________________________________________________________________\n",
      "batch_normalization_529 (BatchN (None, None, None, 1 4           conv2d_529[0][0]                 \n",
      "__________________________________________________________________________________________________\n",
      "last_activation (Activation)    (None, None, None, 1 0           batch_normalization_529[0][0]    \n",
      "__________________________________________________________________________________________________\n",
      "lambda_27 (Lambda)              (None, None)         0           last_activation[0][0]            \n",
      "__________________________________________________________________________________________________\n",
      "lambda_28 (Lambda)              (None, None)         0           lambda_27[0][0]                  \n",
      "==================================================================================================\n",
      "Total params: 31,470,501\n",
      "Trainable params: 31,458,467\n",
      "Non-trainable params: 12,034\n",
      "__________________________________________________________________________________________________\n"
     ]
    }
   ],
   "source": [
    "model.summary()"
   ]
  },
  {
   "cell_type": "code",
   "execution_count": 9,
   "metadata": {},
   "outputs": [],
   "source": [
    "def weighthed_binary_ce_loss_nan(alpha):\n",
    "    #not_nan = tf.logical_not(tf.is_nan(y_true))\n",
    "    def celoss(y_true, y_pred):\n",
    "        zero = K.equal(y_true , K.zeros((1,)))\n",
    "        one = K.equal(y_true , K.ones((1,)))\n",
    "        weights = np.array([1,alpha])\n",
    "        y_true_0 = tf.boolean_mask(y_true, zero)\n",
    "        y_pred_0 = tf.boolean_mask(y_pred, zero)\n",
    "        y_true_1 = tf.boolean_mask(y_true, one)\n",
    "        y_pred_1 = tf.boolean_mask(y_pred, one)\n",
    "        loss_0 = - y_true_0 * K.log(y_pred_0) * K.variable(weights[0])\n",
    "        loss_1 = - y_true_1 * K.log(y_pred_1) * K.variable(weights[1])\n",
    "        loss = K.sum(loss_0, -1) +K.sum(loss_1,-1)\n",
    "        return loss\n",
    "    return celoss\n",
    "keras.losses.weighthed_binary_ce_loss_nan = weighthed_binary_ce_loss_nan"
   ]
  },
  {
   "cell_type": "code",
   "execution_count": 84,
   "metadata": {},
   "outputs": [],
   "source": [
    "def weighthed_mae_loss_nan(alpha):\n",
    "    #not_nan = tf.logical_not(tf.is_nan(y_true))\n",
    "    def maeloss(y_true, y_pred):\n",
    "        zero = K.equal(y_true , K.zeros((1,)))\n",
    "        one = K.equal(y_true , K.ones((1,)))\n",
    "        weights = np.array([1,alpha])\n",
    "        y_true_0 = tf.boolean_mask(y_true, zero)\n",
    "        y_pred_0 = tf.boolean_mask(y_pred, zero)\n",
    "        y_true_1 = tf.boolean_mask(y_true, one)\n",
    "        y_pred_1 = tf.boolean_mask(y_pred, one)\n",
    "        loss_0 = K.mean(K.abs(y_pred_0 - y_true_0), axis=-1) * K.variable(weights[0])\n",
    "        loss_1 = K.mean(K.abs(y_pred_1 - y_true_1), axis=-1) * K.variable(weights[1])\n",
    "        return loss_0+loss_1\n",
    "    return maeloss\n",
    "keras.losses.weighthed_mae_loss_nan = weighthed_mae_loss_nan"
   ]
  },
  {
   "cell_type": "code",
   "execution_count": 4,
   "metadata": {},
   "outputs": [
    {
     "data": {
      "text/plain": [
       "(128, 128)"
      ]
     },
     "execution_count": 4,
     "metadata": {},
     "output_type": "execute_result"
    }
   ],
   "source": [
    "ytrain[0].reshape(ytrain[0].shape[0],-1).astype('int').shape"
   ]
  },
  {
   "cell_type": "code",
   "execution_count": 12,
   "metadata": {},
   "outputs": [
    {
     "name": "stderr",
     "output_type": "stream",
     "text": [
      "/home/chenxupeng/apps/anaconda2/lib/python2.7/site-packages/tensorflow/python/ops/gradients_impl.py:93: UserWarning: Converting sparse IndexedSlices to a dense Tensor of unknown shape. This may consume a large amount of memory.\n",
      "  \"Converting sparse IndexedSlices to a dense Tensor of unknown shape. \"\n"
     ]
    },
    {
     "name": "stdout",
     "output_type": "stream",
     "text": [
      "Epoch 1/1\n",
      "172/172 [==============================] - 7s 43ms/step - loss: 581047.0465 - acc: 0.0000e+00 - mean_squared_error: 0.2918\n"
     ]
    },
    {
     "data": {
      "text/plain": [
       "<keras.callbacks.History at 0x7fb1f4aeced0>"
      ]
     },
     "execution_count": 12,
     "metadata": {},
     "output_type": "execute_result"
    }
   ],
   "source": [
    "model.fit(xtrain,ytrain.reshape(ytrain.shape[0],-1).astype('int'))"
   ]
  },
  {
   "cell_type": "code",
   "execution_count": 13,
   "metadata": {},
   "outputs": [],
   "source": [
    "pred = model.predict(xtrain)\n",
    "pred = pred.reshape(pred.shape[0],128,128)\n",
    "pred[pred >0.5]=1\n",
    "pred[pred <=0.5]=0\n",
    "mask_1 = np.where(ytrain ==1)\n",
    "mask_0 = np.where(ytrain ==0)\n",
    "TP = float(np.where(pred[mask_1] ==1)[0].shape[0])   #mask_1 pred[mask_1] ==1\n",
    "TN = float(np.where(pred[mask_0] ==0)[0].shape[0])   #mask_0 pred[mask_0] ==0\n",
    "FP = float(np.where(pred[mask_0] ==1)[0].shape[0])   #mask_0 pred[mask_0] ==1\n",
    "FN = float(np.where(pred[mask_1] ==0)[0].shape[0])   #mask_1 pred[mask_1] ==0\n",
    "#TP A FP B  FN C TN D\n",
    "Sensitivity =  TP/(TP+FN) * 100\n",
    "Specificity: TN/(TN+FP) * 100\n",
    "PPV =  TP/(TP+FP) * 100\n",
    "NPV =  TN/(TN+FN) * 100"
   ]
  },
  {
   "cell_type": "markdown",
   "metadata": {},
   "source": [
    "1 - np.sum(np.abs(ytrain -pred)) / float(ytrain.ravel().shape[0])"
   ]
  },
  {
   "cell_type": "code",
   "execution_count": 43,
   "metadata": {},
   "outputs": [
    {
     "data": {
      "text/plain": [
       "2818048"
      ]
     },
     "execution_count": 43,
     "metadata": {},
     "output_type": "execute_result"
    }
   ],
   "source": [
    "TP+TN+FP+FN\n",
    "print TP,TN,FP,FN"
   ]
  },
  {
   "cell_type": "code",
   "execution_count": null,
   "metadata": {},
   "outputs": [],
   "source": []
  },
  {
   "cell_type": "markdown",
   "metadata": {},
   "source": [
    "from sklearn.preprocessing import LabelEncoder\n",
    "encoder = LabelEncoder()\n",
    "encoder.fit_transform(ytrain.reshape(ytrain.shape[0],-1)[0])\n",
    "from sklearn.utils.class_weight import compute_class_weight\n",
    "class_weight_list = compute_class_weight('balanced', np.unique(ytrain.reshape(ytrain.shape[0],-1)[0]), ytrain.reshape(ytrain.shape[0],-1)[0])\n",
    "class_weight = dict(zip(np.unique(ytrain.reshape(ytrain.shape[0],-1)[0]), class_weight_list))\n",
    "keras.utils.to_categorical(ytrain.reshape(ytrain.shape[0],-1)[0], 2) "
   ]
  },
  {
   "cell_type": "code",
   "execution_count": null,
   "metadata": {},
   "outputs": [],
   "source": []
  },
  {
   "cell_type": "code",
   "execution_count": null,
   "metadata": {},
   "outputs": [],
   "source": []
  },
  {
   "cell_type": "code",
   "execution_count": null,
   "metadata": {},
   "outputs": [],
   "source": []
  },
  {
   "cell_type": "code",
   "execution_count": null,
   "metadata": {},
   "outputs": [],
   "source": []
  },
  {
   "cell_type": "code",
   "execution_count": null,
   "metadata": {},
   "outputs": [],
   "source": []
  },
  {
   "cell_type": "code",
   "execution_count": null,
   "metadata": {},
   "outputs": [],
   "source": []
  },
  {
   "cell_type": "code",
   "execution_count": null,
   "metadata": {},
   "outputs": [],
   "source": []
  },
  {
   "cell_type": "code",
   "execution_count": null,
   "metadata": {},
   "outputs": [],
   "source": []
  },
  {
   "cell_type": "code",
   "execution_count": null,
   "metadata": {},
   "outputs": [],
   "source": []
  },
  {
   "cell_type": "code",
   "execution_count": null,
   "metadata": {},
   "outputs": [],
   "source": []
  },
  {
   "cell_type": "code",
   "execution_count": 54,
   "metadata": {},
   "outputs": [],
   "source": [
    "training = np.loadtxt('known/2d/training_set').astype('int')"
   ]
  },
  {
   "cell_type": "code",
   "execution_count": 56,
   "metadata": {},
   "outputs": [
    {
     "name": "stderr",
     "output_type": "stream",
     "text": [
      "100%|██████████| 400/400 [11:51<00:00,  1.78s/it]\n"
     ]
    }
   ],
   "source": [
    "xtrain = {}\n",
    "ytrain={}\n",
    "for i in tqdm(range(400)):\n",
    "    with h5py.File('known/2d/training.hdf5') as f:\n",
    "        xtrain[i] = f[str(training[i])+'/X'][:]\n",
    "        ytrain[i] = f[str(training[i])+'/y'][:]"
   ]
  },
  {
   "cell_type": "code",
   "execution_count": 57,
   "metadata": {},
   "outputs": [],
   "source": [
    "Xtrain = np.array([value for (key,value) in xtrain.iteritems()])\n",
    "ytrain = np.array([value for (key,value) in ytrain.iteritems()])"
   ]
  },
  {
   "cell_type": "code",
   "execution_count": 66,
   "metadata": {},
   "outputs": [
    {
     "data": {
      "text/plain": [
       "(352, 128, 128, 16)"
      ]
     },
     "execution_count": 66,
     "metadata": {},
     "output_type": "execute_result"
    }
   ],
   "source": [
    "Xtrain[0].shape"
   ]
  },
  {
   "cell_type": "code",
   "execution_count": 67,
   "metadata": {},
   "outputs": [
    {
     "data": {
      "text/plain": [
       "(76, 32, 32, 16)"
      ]
     },
     "execution_count": 67,
     "metadata": {},
     "output_type": "execute_result"
    }
   ],
   "source": [
    "Xtrain[1].shape"
   ]
  },
  {
   "cell_type": "code",
   "execution_count": null,
   "metadata": {},
   "outputs": [],
   "source": [
    "np.concatenate((Xtrain[0],Xtrain[1]),axis=0).shape"
   ]
  },
  {
   "cell_type": "code",
   "execution_count": null,
   "metadata": {},
   "outputs": [],
   "source": [
    "np.concatenate(([Xtrain[i] for i in range(5)]),axis=0).shape"
   ]
  },
  {
   "cell_type": "code",
   "execution_count": 68,
   "metadata": {},
   "outputs": [
    {
     "name": "stderr",
     "output_type": "stream",
     "text": [
      " 40%|████      | 40/100 [02:20<03:30,  3.51s/it]"
     ]
    },
    {
     "ename": "IndexError",
     "evalue": "index 40 is out of bounds for axis 0 with size 40",
     "output_type": "error",
     "traceback": [
      "\u001b[0;31m---------------------------------------------------------------------------\u001b[0m",
      "\u001b[0;31mIndexError\u001b[0m                                Traceback (most recent call last)",
      "\u001b[0;32m<ipython-input-68-0373f8324b5c>\u001b[0m in \u001b[0;36m<module>\u001b[0;34m()\u001b[0m\n\u001b[1;32m      4\u001b[0m \u001b[0;32mfor\u001b[0m \u001b[0mi\u001b[0m \u001b[0;32min\u001b[0m \u001b[0mtqdm\u001b[0m\u001b[0;34m(\u001b[0m\u001b[0mrange\u001b[0m\u001b[0;34m(\u001b[0m\u001b[0;36m100\u001b[0m\u001b[0;34m)\u001b[0m\u001b[0;34m)\u001b[0m\u001b[0;34m:\u001b[0m\u001b[0;34m\u001b[0m\u001b[0m\n\u001b[1;32m      5\u001b[0m     \u001b[0;32mwith\u001b[0m \u001b[0mh5py\u001b[0m\u001b[0;34m.\u001b[0m\u001b[0mFile\u001b[0m\u001b[0;34m(\u001b[0m\u001b[0;34m'known/2d/valid.hdf5'\u001b[0m\u001b[0;34m)\u001b[0m \u001b[0;32mas\u001b[0m \u001b[0mf\u001b[0m\u001b[0;34m:\u001b[0m\u001b[0;34m\u001b[0m\u001b[0m\n\u001b[0;32m----> 6\u001b[0;31m         \u001b[0mxvalid\u001b[0m \u001b[0;34m[\u001b[0m\u001b[0mi\u001b[0m\u001b[0;34m]\u001b[0m \u001b[0;34m=\u001b[0m \u001b[0mf\u001b[0m\u001b[0;34m[\u001b[0m\u001b[0mstr\u001b[0m\u001b[0;34m(\u001b[0m\u001b[0mvalid\u001b[0m\u001b[0;34m[\u001b[0m\u001b[0mi\u001b[0m\u001b[0;34m]\u001b[0m\u001b[0;34m)\u001b[0m\u001b[0;34m+\u001b[0m\u001b[0;34m'/X'\u001b[0m\u001b[0;34m]\u001b[0m\u001b[0;34m[\u001b[0m\u001b[0;34m:\u001b[0m\u001b[0;34m]\u001b[0m\u001b[0;34m\u001b[0m\u001b[0m\n\u001b[0m\u001b[1;32m      7\u001b[0m         \u001b[0myvalid\u001b[0m \u001b[0;34m[\u001b[0m\u001b[0mi\u001b[0m\u001b[0;34m]\u001b[0m \u001b[0;34m=\u001b[0m \u001b[0mf\u001b[0m\u001b[0;34m[\u001b[0m\u001b[0mstr\u001b[0m\u001b[0;34m(\u001b[0m\u001b[0mvalid\u001b[0m\u001b[0;34m[\u001b[0m\u001b[0mi\u001b[0m\u001b[0;34m]\u001b[0m\u001b[0;34m)\u001b[0m\u001b[0;34m+\u001b[0m\u001b[0;34m'/y'\u001b[0m\u001b[0;34m]\u001b[0m\u001b[0;34m[\u001b[0m\u001b[0;34m:\u001b[0m\u001b[0;34m]\u001b[0m\u001b[0;34m\u001b[0m\u001b[0m\n\u001b[1;32m      8\u001b[0m \u001b[0mXvalid\u001b[0m \u001b[0;34m=\u001b[0m \u001b[0mnp\u001b[0m\u001b[0;34m.\u001b[0m\u001b[0marray\u001b[0m\u001b[0;34m(\u001b[0m\u001b[0;34m[\u001b[0m\u001b[0mvalue\u001b[0m \u001b[0;32mfor\u001b[0m \u001b[0;34m(\u001b[0m\u001b[0mkey\u001b[0m\u001b[0;34m,\u001b[0m\u001b[0mvalue\u001b[0m\u001b[0;34m)\u001b[0m \u001b[0;32min\u001b[0m \u001b[0mxvalid\u001b[0m\u001b[0;34m.\u001b[0m\u001b[0miteritems\u001b[0m\u001b[0;34m(\u001b[0m\u001b[0;34m)\u001b[0m\u001b[0;34m]\u001b[0m\u001b[0;34m)\u001b[0m\u001b[0;34m\u001b[0m\u001b[0m\n",
      "\u001b[0;31mIndexError\u001b[0m: index 40 is out of bounds for axis 0 with size 40"
     ]
    }
   ],
   "source": [
    "valid = np.loadtxt('known/2d/valid_set').astype('int')\n",
    "xvalid = {}\n",
    "yvalid={}\n",
    "for i in tqdm(range(100)):\n",
    "    with h5py.File('known/2d/valid.hdf5') as f:\n",
    "        xvalid [i] = f[str(valid[i])+'/X'][:]\n",
    "        yvalid [i] = f[str(valid[i])+'/y'][:]\n",
    "Xvalid = np.array([value for (key,value) in xvalid.iteritems()])\n",
    "yvalid = np.array([value for (key,value) in yvalid.iteritems()])"
   ]
  },
  {
   "cell_type": "code",
   "execution_count": null,
   "metadata": {},
   "outputs": [],
   "source": [
    "test = np.loadtxt('known/2d/test_set').astype('int')\n",
    "xtest = {}\n",
    "ytest={}\n",
    "for i in tqdm(range(40)):\n",
    "    with h5py.File('known/2d/test_set.hdf5') as f:\n",
    "        xtest [i] = f[str(test[i])+'/X'][:]\n",
    "        ytest [i] = f[str(test[i])+'/y'][:]\n",
    "Xtest = np.array([value for (key,value) in xtest.iteritems()])\n",
    "ytest = np.array([value for (key,value) in ytest.iteritems()])"
   ]
  },
  {
   "cell_type": "code",
   "execution_count": null,
   "metadata": {},
   "outputs": [],
   "source": [
    "with h5py.File('known/2d/wholetraining.hdf5') as f:\n",
    "    f.create_dataset('X',data = Xtrain)\n",
    "    f.create_dataset('y',data = ytrain)\n",
    "with h5py.File('known/2d/wholevalid.hdf5') as f:\n",
    "    f.create_dataset('X',data = Xvalid)\n",
    "    f.create_dataset('y',data = yvalid)\n",
    "with h5py.File('known/2d/wholetest.hdf5') as f:\n",
    "    f.create_dataset('X',data = Xtest)\n",
    "    f.create_dataset('y',data = ytest)"
   ]
  }
 ],
 "metadata": {
  "kernelspec": {
   "display_name": "Python 2",
   "language": "python",
   "name": "python2"
  },
  "language_info": {
   "codemirror_mode": {
    "name": "ipython",
    "version": 2
   },
   "file_extension": ".py",
   "mimetype": "text/x-python",
   "name": "python",
   "nbconvert_exporter": "python",
   "pygments_lexer": "ipython2",
   "version": "2.7.14"
  }
 },
 "nbformat": 4,
 "nbformat_minor": 2
}
