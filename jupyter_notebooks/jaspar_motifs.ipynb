{
 "cells": [
  {
   "cell_type": "code",
   "execution_count": 1,
   "metadata": {},
   "outputs": [
    {
     "name": "stdout",
     "output_type": "stream",
     "text": [
      "Populating the interactive namespace from numpy and matplotlib\n"
     ]
    }
   ],
   "source": [
    "%pylab inline"
   ]
  },
  {
   "cell_type": "code",
   "execution_count": 2,
   "metadata": {},
   "outputs": [
    {
     "name": "stdout",
     "output_type": "stream",
     "text": [
      "/home/shibinbin/ibme/projects/Deepfold2\n"
     ]
    }
   ],
   "source": [
    "cd .."
   ]
  },
  {
   "cell_type": "code",
   "execution_count": 25,
   "metadata": {},
   "outputs": [
    {
     "data": {
      "text/plain": [
       "{'AC': 'MA0101.1',\n",
       " 'DE': 'MA0101.1 REL ; From JASPAR 2018',\n",
       " 'ID': 'REL',\n",
       " 'INFOBIT': 9.441512250944324,\n",
       " 'LEN': 10,\n",
       " 'NSEQ': 17.0,\n",
       " 'PFM': array([[ 0.,  5.,  8.,  4.],\n",
       "        [ 0.,  1., 15.,  1.],\n",
       "        [ 1.,  0., 15.,  1.],\n",
       "        [ 5.,  1.,  9.,  2.],\n",
       "        [ 6.,  5.,  3.,  3.],\n",
       "        [ 5.,  1.,  1., 10.],\n",
       "        [ 1.,  0.,  0., 16.],\n",
       "        [ 2.,  0.,  0., 15.],\n",
       "        [ 0., 15.,  0.,  2.],\n",
       "        [ 1., 16.,  0.,  0.]]),\n",
       " 'PO': ['A', 'C', 'G', 'T'],\n",
       " 'PWM': array([[0.04761905, 0.28571429, 0.42857143, 0.23809524],\n",
       "        [0.04761905, 0.0952381 , 0.76190476, 0.0952381 ],\n",
       "        [0.0952381 , 0.04761905, 0.76190476, 0.0952381 ],\n",
       "        [0.28571429, 0.0952381 , 0.47619048, 0.14285714],\n",
       "        [0.33333333, 0.28571429, 0.19047619, 0.19047619],\n",
       "        [0.28571429, 0.0952381 , 0.0952381 , 0.52380952],\n",
       "        [0.0952381 , 0.04761905, 0.04761905, 0.80952381],\n",
       "        [0.14285714, 0.04761905, 0.04761905, 0.76190476],\n",
       "        [0.04761905, 0.76190476, 0.04761905, 0.14285714],\n",
       "        [0.0952381 , 0.80952381, 0.04761905, 0.04761905]])}"
      ]
     },
     "execution_count": 25,
     "metadata": {},
     "output_type": "execute_result"
    }
   ],
   "source": [
    "def read_transfac(filename):\n",
    "    record = {}\n",
    "    with open(filename, 'r') as f:\n",
    "        pfm = {}\n",
    "        for line in f:\n",
    "            tag = line[:2]\n",
    "            if tag in ('XX', '//'):\n",
    "                continue\n",
    "            content = line[3:].strip()\n",
    "            if tag.isdigit():\n",
    "                pfm[int(tag)] = [float(a) for a in content.split()]\n",
    "            elif tag == 'PO':\n",
    "                record[tag] = content.split()\n",
    "            else:\n",
    "                record[tag] = content\n",
    "        pfm = [pfm[i] for i in range(1, len(pfm) + 1)]\n",
    "        pfm = np.asarray(pfm)\n",
    "        record['LEN'] = pfm.shape[0]\n",
    "        record['PFM'] = pfm\n",
    "        record['NSEQ'] = sum(pfm[0])\n",
    "        p = (pfm + 1)/np.sum(pfm + 1, axis=1, keepdims=True)\n",
    "        record['PWM'] = p\n",
    "        record['INFOBIT'] = -np.sum(p*np.log(p))\n",
    "    return record\n",
    "\n",
    "transfac = read_transfac('data/JASPAR/vertebrates/MA0101.1.transfac')\n",
    "transfac"
   ]
  },
  {
   "cell_type": "code",
   "execution_count": 39,
   "metadata": {},
   "outputs": [
    {
     "data": {
      "text/html": [
       "<div>\n",
       "<style scoped>\n",
       "    .dataframe tbody tr th:only-of-type {\n",
       "        vertical-align: middle;\n",
       "    }\n",
       "\n",
       "    .dataframe tbody tr th {\n",
       "        vertical-align: top;\n",
       "    }\n",
       "\n",
       "    .dataframe thead th {\n",
       "        text-align: right;\n",
       "    }\n",
       "</style>\n",
       "<table border=\"1\" class=\"dataframe\">\n",
       "  <thead>\n",
       "    <tr style=\"text-align: right;\">\n",
       "      <th></th>\n",
       "      <th>accession</th>\n",
       "      <th>id</th>\n",
       "      <th>length</th>\n",
       "      <th>n_seq</th>\n",
       "      <th>info_bit</th>\n",
       "    </tr>\n",
       "  </thead>\n",
       "  <tbody>\n",
       "    <tr>\n",
       "      <th>230</th>\n",
       "      <td>MA0745.1</td>\n",
       "      <td>SNAI2</td>\n",
       "      <td>9</td>\n",
       "      <td>110707.0</td>\n",
       "      <td>5.902529</td>\n",
       "    </tr>\n",
       "    <tr>\n",
       "      <th>51</th>\n",
       "      <td>MA0670.1</td>\n",
       "      <td>NFIA</td>\n",
       "      <td>10</td>\n",
       "      <td>91919.0</td>\n",
       "      <td>5.424593</td>\n",
       "    </tr>\n",
       "    <tr>\n",
       "      <th>419</th>\n",
       "      <td>MA0498.2</td>\n",
       "      <td>MEIS1</td>\n",
       "      <td>7</td>\n",
       "      <td>77159.0</td>\n",
       "      <td>4.202617</td>\n",
       "    </tr>\n",
       "    <tr>\n",
       "      <th>48</th>\n",
       "      <td>MA0028.2</td>\n",
       "      <td>ELK1</td>\n",
       "      <td>10</td>\n",
       "      <td>67234.0</td>\n",
       "      <td>3.942467</td>\n",
       "    </tr>\n",
       "    <tr>\n",
       "      <th>148</th>\n",
       "      <td>MA0755.1</td>\n",
       "      <td>CUX2</td>\n",
       "      <td>10</td>\n",
       "      <td>62500.0</td>\n",
       "      <td>5.761031</td>\n",
       "    </tr>\n",
       "  </tbody>\n",
       "</table>\n",
       "</div>"
      ],
      "text/plain": [
       "    accession     id  length     n_seq  info_bit\n",
       "230  MA0745.1  SNAI2       9  110707.0  5.902529\n",
       "51   MA0670.1   NFIA      10   91919.0  5.424593\n",
       "419  MA0498.2  MEIS1       7   77159.0  4.202617\n",
       "48   MA0028.2   ELK1      10   67234.0  3.942467\n",
       "148  MA0755.1   CUX2      10   62500.0  5.761031"
      ]
     },
     "execution_count": 39,
     "metadata": {},
     "output_type": "execute_result"
    }
   ],
   "source": [
    "import os\n",
    "import pandas as pd\n",
    "records = []\n",
    "transfac_dir = 'data/JASPAR/vertebrates'\n",
    "for filename in os.listdir(transfac_dir):\n",
    "    transfac = read_transfac(os.path.join(transfac_dir, filename))\n",
    "    records.append({'id': transfac['ID'], \n",
    "                    'n_seq': transfac['NSEQ'], \n",
    "                    'info_bit': transfac['INFOBIT'],\n",
    "                    'accession': transfac['AC'],\n",
    "                    'length': transfac['LEN']})\n",
    "records = pd.DataFrame.from_records(records)\n",
    "records = records.loc[:, ['accession', 'id', 'length', 'n_seq', 'info_bit']]\n",
    "records = records.sort_values('n_seq', ascending=False)\n",
    "records['accession'][:20].to_csv('metadata/jaspar_selected_ids.txt', header=False, index=False)\n",
    "records.head()"
   ]
  },
  {
   "cell_type": "code",
   "execution_count": null,
   "metadata": {},
   "outputs": [],
   "source": [
    "for accession in record['accession'][:10]:"
   ]
  },
  {
   "cell_type": "code",
   "execution_count": 32,
   "metadata": {},
   "outputs": [
    {
     "data": {
      "text/plain": [
       "(array([ 18.,  66., 158.,  83.,  95.,  44.,  63.,  28.,  15.,   9.]),\n",
       " array([ 6. ,  7.5,  9. , 10.5, 12. , 13.5, 15. , 16.5, 18. , 19.5, 21. ]),\n",
       " <a list of 10 Patch objects>)"
      ]
     },
     "execution_count": 32,
     "metadata": {},
     "output_type": "execute_result"
    },
    {
     "data": {
      "image/png": "[encoded data removed]",
      "text/plain": [
       "<matplotlib.figure.Figure at 0x7fc55bcabc50>"
      ]
     },
     "metadata": {},
     "output_type": "display_data"
    }
   ],
   "source": [
    "hist(records['length'], linewidth=1, edgecolor='w')"
   ]
  },
  {
   "cell_type": "code",
   "execution_count": 40,
   "metadata": {},
   "outputs": [
    {
     "data": {
      "text/plain": [
       "array([0, 1, 2, 3, 4, 5, 6, 7, 8, 9])"
      ]
     },
     "execution_count": 40,
     "metadata": {},
     "output_type": "execute_result"
    }
   ],
   "source": [
    "x = np.arange(10)\n",
    "x"
   ]
  },
  {
   "cell_type": "code",
   "execution_count": 41,
   "metadata": {},
   "outputs": [
    {
     "data": {
      "text/plain": [
       "array([3])"
      ]
     },
     "execution_count": 41,
     "metadata": {},
     "output_type": "execute_result"
    }
   ],
   "source": [
    "np.nonzero(x == 3)[0]"
   ]
  },
  {
   "cell_type": "code",
   "execution_count": 46,
   "metadata": {},
   "outputs": [
    {
     "data": {
      "text/plain": [
       "array([[0.36985489, 0.99927384, 0.18817314, 0.07935659],\n",
       "       [0.24441029, 0.67893484, 0.52201981, 0.92313174],\n",
       "       [0.88307467, 0.73941342, 0.97575511, 0.66965126],\n",
       "       [0.07854085, 0.17014357, 0.59270258, 0.02563122]])"
      ]
     },
     "execution_count": 46,
     "metadata": {},
     "output_type": "execute_result"
    }
   ],
   "source": [
    "x = np.random.uniform(size=(4, 4))\n",
    "x"
   ]
  },
  {
   "cell_type": "code",
   "execution_count": 47,
   "metadata": {},
   "outputs": [
    {
     "data": {
      "text/plain": [
       "array([[-9.94644535e-01, -7.26428357e-04, -1.67039281e+00,\n",
       "        -2.53380376e+00],\n",
       "       [-1.40890696e+00, -3.87230114e-01, -6.50049738e-01,\n",
       "        -7.99833230e-02],\n",
       "       [-1.24345522e-01, -3.01898088e-01, -2.45436358e-02,\n",
       "        -4.00998215e-01],\n",
       "       [-2.54413639e+00, -1.77111268e+00, -5.23062556e-01,\n",
       "        -3.66394429e+00]])"
      ]
     },
     "execution_count": 47,
     "metadata": {},
     "output_type": "execute_result"
    }
   ],
   "source": [
    "np.log(x)"
   ]
  },
  {
   "cell_type": "code",
   "execution_count": 51,
   "metadata": {},
   "outputs": [
    {
     "data": {
      "text/plain": [
       "(array([0.10441159, 0.3243269 , 0.49010584, 5.01772363]),\n",
       " array([[ 0.13508811,  0.07913266, -0.9066327 , -0.39179889],\n",
       "        [ 0.28024528, -0.77198174,  0.20454094, -0.53260659],\n",
       "        [-0.50666363,  0.38584429,  0.2702275 , -0.72207565],\n",
       "        [ 0.80405581,  0.4989052 ,  0.25131105, -0.2035451 ]]))"
      ]
     },
     "execution_count": 51,
     "metadata": {},
     "output_type": "execute_result"
    }
   ],
   "source": [
    "np.linalg.eigh(x.dot(x.T))"
   ]
  },
  {
   "cell_type": "code",
   "execution_count": null,
   "metadata": {},
   "outputs": [],
   "source": []
  }
 ],
 "metadata": {
  "kernelspec": {
   "display_name": "Python 3",
   "language": "python",
   "name": "python3"
  },
  "language_info": {
   "codemirror_mode": {
    "name": "ipython",
    "version": 3
   },
   "file_extension": ".py",
   "mimetype": "text/x-python",
   "name": "python",
   "nbconvert_exporter": "python",
   "pygments_lexer": "ipython3",
   "version": "3.6.4"
  },
  "latex_envs": {
   "LaTeX_envs_menu_present": true,
   "autoclose": false,
   "autocomplete": true,
   "bibliofile": "biblio.bib",
   "cite_by": "apalike",
   "current_citInitial": 1,
   "eqLabelWithNumbers": true,
   "eqNumInitial": 1,
   "hotkeys": {
    "equation": "Ctrl-E",
    "itemize": "Ctrl-I"
   },
   "labels_anchors": false,
   "latex_user_defs": false,
   "report_style_numbering": false,
   "user_envs_cfg": false
  }
 },
 "nbformat": 4,
 "nbformat_minor": 2
}
