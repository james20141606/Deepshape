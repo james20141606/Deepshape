{
 "cells": [
  {
   "cell_type": "code",
   "execution_count": 1,
   "metadata": {},
   "outputs": [
    {
     "name": "stdout",
     "output_type": "stream",
     "text": [
      "Populating the interactive namespace from numpy and matplotlib\n"
     ]
    }
   ],
   "source": [
    "%pylab inline"
   ]
  },
  {
   "cell_type": "code",
   "execution_count": 2,
   "metadata": {},
   "outputs": [
    {
     "name": "stdout",
     "output_type": "stream",
     "text": [
      "/Share/home/shibinbin/projects/Deepfold2\n"
     ]
    }
   ],
   "source": [
    "cd .."
   ]
  },
  {
   "cell_type": "code",
   "execution_count": 4,
   "metadata": {},
   "outputs": [],
   "source": [
    "import h5py\n",
    "import pandas as pd"
   ]
  },
  {
   "cell_type": "code",
   "execution_count": 8,
   "metadata": {},
   "outputs": [
    {
     "data": {
      "text/html": [
       "<div>\n",
       "<style scoped>\n",
       "    .dataframe tbody tr th:only-of-type {\n",
       "        vertical-align: middle;\n",
       "    }\n",
       "\n",
       "    .dataframe tbody tr th {\n",
       "        vertical-align: top;\n",
       "    }\n",
       "\n",
       "    .dataframe thead th {\n",
       "        text-align: right;\n",
       "    }\n",
       "</style>\n",
       "<table border=\"1\" class=\"dataframe\">\n",
       "  <thead>\n",
       "    <tr style=\"text-align: right;\">\n",
       "      <th></th>\n",
       "      <th>dataset</th>\n",
       "      <th>model</th>\n",
       "      <th>roc_auc</th>\n",
       "      <th>accuracy</th>\n",
       "    </tr>\n",
       "  </thead>\n",
       "  <tbody>\n",
       "    <tr>\n",
       "      <th>0</th>\n",
       "      <td>cellfree_SHAPE</td>\n",
       "      <td>basic</td>\n",
       "      <td>0.645807</td>\n",
       "      <td>0.609097</td>\n",
       "    </tr>\n",
       "    <tr>\n",
       "      <th>1</th>\n",
       "      <td>cellfree_SHAPE</td>\n",
       "      <td>mlp1</td>\n",
       "      <td>0.676434</td>\n",
       "      <td>0.624928</td>\n",
       "    </tr>\n",
       "    <tr>\n",
       "      <th>2</th>\n",
       "      <td>cellfree_SHAPE</td>\n",
       "      <td>conv1</td>\n",
       "      <td>0.693936</td>\n",
       "      <td>0.640473</td>\n",
       "    </tr>\n",
       "    <tr>\n",
       "      <th>3</th>\n",
       "      <td>cellfree_SHAPE</td>\n",
       "      <td>resnet1</td>\n",
       "      <td>0.659207</td>\n",
       "      <td>0.605910</td>\n",
       "    </tr>\n",
       "    <tr>\n",
       "      <th>4</th>\n",
       "      <td>incell_SHAPE</td>\n",
       "      <td>basic</td>\n",
       "      <td>0.688721</td>\n",
       "      <td>0.637731</td>\n",
       "    </tr>\n",
       "    <tr>\n",
       "      <th>5</th>\n",
       "      <td>incell_SHAPE</td>\n",
       "      <td>mlp1</td>\n",
       "      <td>0.726732</td>\n",
       "      <td>0.665909</td>\n",
       "    </tr>\n",
       "    <tr>\n",
       "      <th>6</th>\n",
       "      <td>incell_SHAPE</td>\n",
       "      <td>conv1</td>\n",
       "      <td>0.724880</td>\n",
       "      <td>0.661970</td>\n",
       "    </tr>\n",
       "    <tr>\n",
       "      <th>7</th>\n",
       "      <td>incell_SHAPE</td>\n",
       "      <td>resnet1</td>\n",
       "      <td>0.699077</td>\n",
       "      <td>0.636699</td>\n",
       "    </tr>\n",
       "    <tr>\n",
       "      <th>8</th>\n",
       "      <td>kasugamycin_SHAPE</td>\n",
       "      <td>basic</td>\n",
       "      <td>0.646751</td>\n",
       "      <td>0.607786</td>\n",
       "    </tr>\n",
       "    <tr>\n",
       "      <th>9</th>\n",
       "      <td>kasugamycin_SHAPE</td>\n",
       "      <td>mlp1</td>\n",
       "      <td>0.678158</td>\n",
       "      <td>0.628147</td>\n",
       "    </tr>\n",
       "    <tr>\n",
       "      <th>10</th>\n",
       "      <td>kasugamycin_SHAPE</td>\n",
       "      <td>conv1</td>\n",
       "      <td>0.639659</td>\n",
       "      <td>0.597809</td>\n",
       "    </tr>\n",
       "    <tr>\n",
       "      <th>11</th>\n",
       "      <td>kasugamycin_SHAPE</td>\n",
       "      <td>resnet1</td>\n",
       "      <td>0.637363</td>\n",
       "      <td>0.582902</td>\n",
       "    </tr>\n",
       "  </tbody>\n",
       "</table>\n",
       "</div>"
      ],
      "text/plain": [
       "              dataset    model   roc_auc  accuracy\n",
       "0      cellfree_SHAPE    basic  0.645807  0.609097\n",
       "1      cellfree_SHAPE     mlp1  0.676434  0.624928\n",
       "2      cellfree_SHAPE    conv1  0.693936  0.640473\n",
       "3      cellfree_SHAPE  resnet1  0.659207  0.605910\n",
       "4        incell_SHAPE    basic  0.688721  0.637731\n",
       "5        incell_SHAPE     mlp1  0.726732  0.665909\n",
       "6        incell_SHAPE    conv1  0.724880  0.661970\n",
       "7        incell_SHAPE  resnet1  0.699077  0.636699\n",
       "8   kasugamycin_SHAPE    basic  0.646751  0.607786\n",
       "9   kasugamycin_SHAPE     mlp1  0.678158  0.628147\n",
       "10  kasugamycin_SHAPE    conv1  0.639659  0.597809\n",
       "11  kasugamycin_SHAPE  resnet1  0.637363  0.582902"
      ]
     },
     "execution_count": 8,
     "metadata": {},
     "output_type": "execute_result"
    }
   ],
   "source": [
    "metrics = []\n",
    "for dataset in ('cellfree_SHAPE', 'incell_SHAPE', 'kasugamycin_SHAPE'):\n",
    "    for model in ('basic', 'mlp1', 'conv1', 'resnet1'):\n",
    "        with h5py.File('output/patteRNA/SHAPE-MaP/Cell_2018_{0}.metrics/w=128.m={1}'.format(dataset, model), 'r') as f:\n",
    "            metrics.append((dataset, model, f['/metrics/roc_auc'][()], f['/metrics/accuracy'][()]))\n",
    "metrics = pd.DataFrame.from_records(metrics, columns=('dataset', 'model', 'roc_auc', 'accuracy'))\n",
    "metrics"
   ]
  },
  {
   "cell_type": "code",
   "execution_count": 9,
   "metadata": {},
   "outputs": [],
   "source": [
    "# read structures from dot files\n",
    "def read_dot(filename):\n",
    "    records = []\n",
    "    with open(filename, 'r') as f:\n",
    "        for lineno, line in enumerate(f):\n",
    "            if lineno%3 == 0:\n",
    "                name = line[1:].strip()\n",
    "            elif lineno%3 == 1:\n",
    "                seq = line.strip()\n",
    "            else:\n",
    "                structure = line.strip()\n",
    "                records.append((name, seq, structure))\n",
    "    return records"
   ]
  },
  {
   "cell_type": "code",
   "execution_count": 15,
   "metadata": {},
   "outputs": [],
   "source": [
    "structures = {}\n",
    "for name, seq, structure in read_dot('output/patteRNA/SHAPE-MaP/model_RNAs_domains.dot'):\n",
    "    structures[name] = (np.frombuffer(bytearray(structure, encoding='ascii'), 'S1') != b'.').astype(np.int32)"
   ]
  },
  {
   "cell_type": "code",
   "execution_count": 24,
   "metadata": {},
   "outputs": [],
   "source": [
    "from sklearn.metrics import roc_auc_score, accuracy_score\n",
    "metrics_model_RNAs_domains = []\n",
    "y_preds = {}\n",
    "for dataset in ('cellfree_SHAPE', 'incell_SHAPE', 'kasugamycin_SHAPE'):\n",
    "    for model in ('basic', 'mlp1', 'conv1', 'resnet1'):\n",
    "        with h5py.File('output/patteRNA/SHAPE-MaP/model_RNAs_domains.predict/d=Cell_2018_{0}.w=128.m={1}'.format(dataset, model), 'r') as f:\n",
    "            for name in f.keys():\n",
    "                y_pred = f[name][:]\n",
    "                y_preds[(dataset, model, name)] = y_pred\n",
    "                metrics_model_RNAs_domains.append((dataset, model, name,\n",
    "                                                  roc_auc_score(structures[name], y_pred),\n",
    "                                                  accuracy_score(structures[name], (y_pred > 0.5).astype(np.int32))))\n",
    "metrics_model_RNAs_domains = pd.DataFrame.from_records(metrics_model_RNAs_domains,\n",
    "                                    columns=('dataset', 'model', 'seq_name', 'roc_auc', 'accuracy'))"
   ]
  },
  {
   "cell_type": "code",
   "execution_count": null,
   "metadata": {},
   "outputs": [],
   "source": [
    "def plot_pulses(signals):\n",
    "    edges = signals[1:] - signals[:-1]\n",
    "    y = np.zeros(signals.shape[0] + np.sum(~np.isclose(edges, 0)), dtype=signals.dtype)\n",
    "    y"
   ]
  },
  {
   "cell_type": "code",
   "execution_count": 80,
   "metadata": {},
   "outputs": [
    {
     "name": "stdout",
     "output_type": "stream",
     "text": [
      "[ 0  1  1  2  3  3  4  5  5  6  6  7  7  8  9 10 10 11 12 12 13 14 15 15\n",
      " 16 16 17 17 18 19 19 20]\n",
      "[0 0 1 1 1 0 0 0 1 1 0 0 1 1 1 1 0 0 0 1 1 1 1 0 0 1 1 0 0 0 1 1]\n"
     ]
    },
    {
     "data": {
      "image/png": "[encoded data removed]",
      "text/plain": [
       "<matplotlib.figure.Figure at 0x2b9732316860>"
      ]
     },
     "metadata": {},
     "output_type": "display_data"
    }
   ],
   "source": [
    "def pulses_to_square(signals):\n",
    "    is_edge = ~np.isclose(signals[1:] - signals[:-1], 0)\n",
    "    L = signals.shape[0] + np.sum(is_edge) + 1\n",
    "    y = np.zeros(L, dtype=signals.dtype)\n",
    "    x = np.zeros(L, dtype=np.int64)\n",
    "    j = 1\n",
    "    x[0] = 0\n",
    "    y[0] = signals[0]\n",
    "    for i in range(signals.shape[0] - 1):\n",
    "        x[j] = i + 1\n",
    "        y[j] = signals[i]\n",
    "        j += 1\n",
    "        if is_edge[i]:\n",
    "            x[j] = i + 1\n",
    "            y[j] = signals[i + 1]\n",
    "            j += 1\n",
    "    x[j] = signals.shape[0]\n",
    "    y[j] = signals[-1]\n",
    "    return x, y\n",
    "x, y = pulses_to_square(signals)\n",
    "plot(x, y)\n",
    "print(x)\n",
    "print(y)"
   ]
  },
  {
   "cell_type": "code",
   "execution_count": 87,
   "metadata": {},
   "outputs": [
    {
     "data": {
      "text/plain": [
       "[<matplotlib.lines.Line2D at 0x2b97331eb828>]"
      ]
     },
     "execution_count": 87,
     "metadata": {},
     "output_type": "execute_result"
    },
    {
     "data": {
      "image/png": "[encoded data removed]",
      "text/plain": [
       "<matplotlib.figure.Figure at 0x2b9733027320>"
      ]
     },
     "metadata": {},
     "output_type": "display_data"
    }
   ],
   "source": [
    "fig, axes = plt.subplots(2, 1, figsize=(16, 3), sharex=True)\n",
    "axes[0].plot(y_preds[('cellfree_SHAPE', 'conv1', '23SRRNA-domain2')][300:500])\n",
    "x, y = pulses_to_square(structures['23SRRNA-domain2'][300:500])\n",
    "axes[1].plot(x, y)"
   ]
  },
  {
   "cell_type": "code",
   "execution_count": 22,
   "metadata": {},
   "outputs": [
    {
     "data": {
      "text/plain": [
       "dataset            model  \n",
       "cellfree_SHAPE     basic      0.518623\n",
       "                   conv1      0.498787\n",
       "                   mlp1       0.522179\n",
       "                   resnet1    0.478191\n",
       "incell_SHAPE       basic      0.543104\n",
       "                   conv1      0.554269\n",
       "                   mlp1       0.564540\n",
       "                   resnet1    0.527685\n",
       "kasugamycin_SHAPE  basic      0.532177\n",
       "                   conv1      0.524474\n",
       "                   mlp1       0.566852\n",
       "                   resnet1    0.549100\n",
       "Name: roc_auc, dtype: float64"
      ]
     },
     "execution_count": 22,
     "metadata": {},
     "output_type": "execute_result"
    }
   ],
   "source": [
    "metrics_model_RNAs_domains.groupby(['dataset', 'model'])['roc_auc'].mean()"
   ]
  },
  {
   "cell_type": "code",
   "execution_count": 23,
   "metadata": {},
   "outputs": [
    {
     "data": {
      "text/plain": [
       "dataset            seq_name       \n",
       "cellfree_SHAPE     16SRRNA-domain1    0.521825\n",
       "                   16SRRNA-domain2    0.515062\n",
       "                   16SRRNA-domain3    0.537135\n",
       "                   16SRRNA-domain4    0.388033\n",
       "                   23SRRNA-domain1    0.518335\n",
       "                   23SRRNA-domain2    0.530122\n",
       "                   23SRRNA-domain3    0.514270\n",
       "                   23SRRNA-domain4    0.597327\n",
       "                   23SRRNA-domain5    0.543997\n",
       "                   23SRRNA-domain6    0.497293\n",
       "                   5SRRNA             0.387796\n",
       "                   HCV_domain2        0.348690\n",
       "                   TPPribo-ecoli      0.657899\n",
       "incell_SHAPE       16SRRNA-domain1    0.575507\n",
       "                   16SRRNA-domain2    0.544142\n",
       "                   16SRRNA-domain3    0.567571\n",
       "                   16SRRNA-domain4    0.422756\n",
       "                   23SRRNA-domain1    0.567736\n",
       "                   23SRRNA-domain2    0.566640\n",
       "                   23SRRNA-domain3    0.543648\n",
       "                   23SRRNA-domain4    0.640987\n",
       "                   23SRRNA-domain5    0.553342\n",
       "                   23SRRNA-domain6    0.561389\n",
       "                   5SRRNA             0.454332\n",
       "                   HCV_domain2        0.452202\n",
       "                   TPPribo-ecoli      0.665943\n",
       "kasugamycin_SHAPE  16SRRNA-domain1    0.586016\n",
       "                   16SRRNA-domain2    0.569713\n",
       "                   16SRRNA-domain3    0.558331\n",
       "                   16SRRNA-domain4    0.447816\n",
       "                   23SRRNA-domain1    0.572184\n",
       "                   23SRRNA-domain2    0.573372\n",
       "                   23SRRNA-domain3    0.517377\n",
       "                   23SRRNA-domain4    0.615280\n",
       "                   23SRRNA-domain5    0.546797\n",
       "                   23SRRNA-domain6    0.532623\n",
       "                   5SRRNA             0.533701\n",
       "                   HCV_domain2        0.401250\n",
       "                   TPPribo-ecoli      0.606499\n",
       "Name: roc_auc, dtype: float64"
      ]
     },
     "execution_count": 23,
     "metadata": {},
     "output_type": "execute_result"
    }
   ],
   "source": [
    "metrics_model_RNAs_domains.groupby(['dataset', 'seq_name'])['roc_auc'].mean()"
   ]
  },
  {
   "cell_type": "code",
   "execution_count": 78,
   "metadata": {},
   "outputs": [
    {
     "name": "stdout",
     "output_type": "stream",
     "text": [
      "[0 1 1 0 0 1 0 1 1 1 0 0 1 1 1 0 1 0 0 1]\n"
     ]
    },
    {
     "data": {
      "text/plain": [
       "<Container object of 19 artists>"
      ]
     },
     "execution_count": 78,
     "metadata": {},
     "output_type": "execute_result"
    },
    {
     "data": {
      "image/png": "[encoded data removed]",
      "text/plain": [
       "<matplotlib.figure.Figure at 0x2b9731f8f5c0>"
      ]
     },
     "metadata": {},
     "output_type": "display_data"
    }
   ],
   "source": [
    "signals = np.random.randint(2, size=20)\n",
    "print(signals)\n",
    "fig, axes = plt.subplots(2, 1, figsize=(16, 3), sharex=True)\n",
    "axes[0].plot(*pulses_to_square(signals))\n",
    "edges = signals[1:] - signals[:-1]\n",
    "axes[1].bar(np.r_[:edges.shape[0]], edges > 0)"
   ]
  },
  {
   "cell_type": "code",
   "execution_count": 69,
   "metadata": {},
   "outputs": [
    {
     "data": {
      "text/plain": [
       "array([1, 0, 0, 0, 1, 1, 1, 0, 1, 1])"
      ]
     },
     "execution_count": 69,
     "metadata": {},
     "output_type": "execute_result"
    }
   ],
   "source": [
    "signals\n"
   ]
  },
  {
   "cell_type": "code",
   "execution_count": 103,
   "metadata": {},
   "outputs": [
    {
     "ename": "KeyError",
     "evalue": "\"Unable to open object (object '16S' doesn't exist)\"",
     "output_type": "error",
     "traceback": [
      "\u001b[0;31m---------------------------------------------------------------------------\u001b[0m",
      "\u001b[0;31mKeyError\u001b[0m                                  Traceback (most recent call last)",
      "\u001b[0;32m<ipython-input-103-dcf079eb0e84>\u001b[0m in \u001b[0;36m<module>\u001b[0;34m()\u001b[0m\n\u001b[1;32m      5\u001b[0m     \u001b[0mreactivities\u001b[0m \u001b[0;34m=\u001b[0m \u001b[0mf\u001b[0m\u001b[0;34m[\u001b[0m\u001b[0;34m'/reactivities/'\u001b[0m \u001b[0;34m+\u001b[0m \u001b[0mseq_name\u001b[0m\u001b[0;34m]\u001b[0m\u001b[0;34m[\u001b[0m\u001b[0mstart\u001b[0m\u001b[0;34m:\u001b[0m\u001b[0mend\u001b[0m\u001b[0;34m]\u001b[0m\u001b[0;34m\u001b[0m\u001b[0m\n\u001b[1;32m      6\u001b[0m \u001b[0;32mwith\u001b[0m \u001b[0mh5py\u001b[0m\u001b[0;34m.\u001b[0m\u001b[0mFile\u001b[0m\u001b[0;34m(\u001b[0m\u001b[0;34m'output/patteRNA/SHAPE-MaP/{}.viterbi.h5'\u001b[0m\u001b[0;34m.\u001b[0m\u001b[0mformat\u001b[0m\u001b[0;34m(\u001b[0m\u001b[0mdataset\u001b[0m\u001b[0;34m)\u001b[0m\u001b[0;34m,\u001b[0m \u001b[0;34m'r'\u001b[0m\u001b[0;34m)\u001b[0m \u001b[0;32mas\u001b[0m \u001b[0mf\u001b[0m\u001b[0;34m:\u001b[0m\u001b[0;34m\u001b[0m\u001b[0m\n\u001b[0;32m----> 7\u001b[0;31m     \u001b[0mviterbi\u001b[0m \u001b[0;34m=\u001b[0m \u001b[0mf\u001b[0m\u001b[0;34m[\u001b[0m\u001b[0mseq_name\u001b[0m\u001b[0;34m]\u001b[0m\u001b[0;34m[\u001b[0m\u001b[0mstart\u001b[0m\u001b[0;34m:\u001b[0m\u001b[0mend\u001b[0m\u001b[0;34m]\u001b[0m\u001b[0;34m\u001b[0m\u001b[0m\n\u001b[0m\u001b[1;32m      8\u001b[0m \u001b[0;32mwith\u001b[0m \u001b[0mh5py\u001b[0m\u001b[0;34m.\u001b[0m\u001b[0mFile\u001b[0m\u001b[0;34m(\u001b[0m\u001b[0;34m'output/patteRNA/SHAPE-MaP/{}.posteriors_paired.h5'\u001b[0m\u001b[0;34m.\u001b[0m\u001b[0mformat\u001b[0m\u001b[0;34m(\u001b[0m\u001b[0mdataset\u001b[0m\u001b[0;34m)\u001b[0m\u001b[0;34m,\u001b[0m \u001b[0;34m'r'\u001b[0m\u001b[0;34m)\u001b[0m \u001b[0;32mas\u001b[0m \u001b[0mf\u001b[0m\u001b[0;34m:\u001b[0m\u001b[0;34m\u001b[0m\u001b[0m\n\u001b[1;32m      9\u001b[0m     \u001b[0mposteriors\u001b[0m \u001b[0;34m=\u001b[0m \u001b[0mf\u001b[0m\u001b[0;34m[\u001b[0m\u001b[0mseq_name\u001b[0m\u001b[0;34m]\u001b[0m\u001b[0;34m[\u001b[0m\u001b[0mstart\u001b[0m\u001b[0;34m:\u001b[0m\u001b[0mend\u001b[0m\u001b[0;34m]\u001b[0m\u001b[0;34m\u001b[0m\u001b[0m\n",
      "\u001b[0;32mh5py/_objects.pyx\u001b[0m in \u001b[0;36mh5py._objects.with_phil.wrapper\u001b[0;34m()\u001b[0m\n",
      "\u001b[0;32mh5py/_objects.pyx\u001b[0m in \u001b[0;36mh5py._objects.with_phil.wrapper\u001b[0;34m()\u001b[0m\n",
      "\u001b[0;32m/opt/conda/lib/python3.6/site-packages/h5py/_hl/group.py\u001b[0m in \u001b[0;36m__getitem__\u001b[0;34m(self, name)\u001b[0m\n\u001b[1;32m    165\u001b[0m                 \u001b[0;32mraise\u001b[0m \u001b[0mValueError\u001b[0m\u001b[0;34m(\u001b[0m\u001b[0;34m\"Invalid HDF5 object reference\"\u001b[0m\u001b[0;34m)\u001b[0m\u001b[0;34m\u001b[0m\u001b[0m\n\u001b[1;32m    166\u001b[0m         \u001b[0;32melse\u001b[0m\u001b[0;34m:\u001b[0m\u001b[0;34m\u001b[0m\u001b[0m\n\u001b[0;32m--> 167\u001b[0;31m             \u001b[0moid\u001b[0m \u001b[0;34m=\u001b[0m \u001b[0mh5o\u001b[0m\u001b[0;34m.\u001b[0m\u001b[0mopen\u001b[0m\u001b[0;34m(\u001b[0m\u001b[0mself\u001b[0m\u001b[0;34m.\u001b[0m\u001b[0mid\u001b[0m\u001b[0;34m,\u001b[0m \u001b[0mself\u001b[0m\u001b[0;34m.\u001b[0m\u001b[0m_e\u001b[0m\u001b[0;34m(\u001b[0m\u001b[0mname\u001b[0m\u001b[0;34m)\u001b[0m\u001b[0;34m,\u001b[0m \u001b[0mlapl\u001b[0m\u001b[0;34m=\u001b[0m\u001b[0mself\u001b[0m\u001b[0;34m.\u001b[0m\u001b[0m_lapl\u001b[0m\u001b[0;34m)\u001b[0m\u001b[0;34m\u001b[0m\u001b[0m\n\u001b[0m\u001b[1;32m    168\u001b[0m \u001b[0;34m\u001b[0m\u001b[0m\n\u001b[1;32m    169\u001b[0m         \u001b[0motype\u001b[0m \u001b[0;34m=\u001b[0m \u001b[0mh5i\u001b[0m\u001b[0;34m.\u001b[0m\u001b[0mget_type\u001b[0m\u001b[0;34m(\u001b[0m\u001b[0moid\u001b[0m\u001b[0;34m)\u001b[0m\u001b[0;34m\u001b[0m\u001b[0m\n",
      "\u001b[0;32mh5py/_objects.pyx\u001b[0m in \u001b[0;36mh5py._objects.with_phil.wrapper\u001b[0;34m()\u001b[0m\n",
      "\u001b[0;32mh5py/_objects.pyx\u001b[0m in \u001b[0;36mh5py._objects.with_phil.wrapper\u001b[0;34m()\u001b[0m\n",
      "\u001b[0;32mh5py/h5o.pyx\u001b[0m in \u001b[0;36mh5py.h5o.open\u001b[0;34m()\u001b[0m\n",
      "\u001b[0;31mKeyError\u001b[0m: \"Unable to open object (object '16S' doesn't exist)\""
     ]
    }
   ],
   "source": [
    "start, end = 100, 200\n",
    "seq_name = '16S'\n",
    "dataset = 'model_RNAs'\n",
    "with h5py.File('output/patteRNA/SHAPE-MaP/{}.reactivities.h5'.format(dataset), 'r') as f:\n",
    "    reactivities = f['/reactivities/' + seq_name][start:end]\n",
    "with h5py.File('output/patteRNA/SHAPE-MaP/{}.viterbi.h5'.format(dataset), 'r') as f:\n",
    "    viterbi = f[seq_name][start:end]\n",
    "with h5py.File('output/patteRNA/SHAPE-MaP/{}.posteriors_paired.h5'.format(dataset), 'r') as f:\n",
    "    posteriors = f[seq_name][start:end]\n",
    "fig, axes = plt.subplots(3, 1, figsize=(16, 5), sharex=True)\n",
    "axes[0].plot(*pulses_to_square(viterbi))\n",
    "axes[1].plot(reactivities)\n",
    "axes[2].plot(posteriors)"
   ]
  },
  {
   "cell_type": "code",
   "execution_count": null,
   "metadata": {},
   "outputs": [],
   "source": []
  }
 ],
 "metadata": {
  "kernelspec": {
   "display_name": "Python 3",
   "language": "python",
   "name": "python3"
  },
  "language_info": {
   "codemirror_mode": {
    "name": "ipython",
    "version": 3
   },
   "file_extension": ".py",
   "mimetype": "text/x-python",
   "name": "python",
   "nbconvert_exporter": "python",
   "pygments_lexer": "ipython3",
   "version": "3.6.4"
  },
  "latex_envs": {
   "LaTeX_envs_menu_present": true,
   "autoclose": false,
   "autocomplete": true,
   "bibliofile": "biblio.bib",
   "cite_by": "apalike",
   "current_citInitial": 1,
   "eqLabelWithNumbers": true,
   "eqNumInitial": 1,
   "hotkeys": {
    "equation": "Ctrl-E",
    "itemize": "Ctrl-I"
   },
   "labels_anchors": false,
   "latex_user_defs": false,
   "report_style_numbering": false,
   "user_envs_cfg": false
  }
 },
 "nbformat": 4,
 "nbformat_minor": 2
}
