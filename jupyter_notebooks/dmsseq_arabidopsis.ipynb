{
 "cells": [
  {
   "cell_type": "code",
   "execution_count": 1,
   "metadata": {},
   "outputs": [
    {
     "name": "stdout",
     "output_type": "stream",
     "text": [
      "Populating the interactive namespace from numpy and matplotlib\n"
     ]
    }
   ],
   "source": [
    "%pylab inline"
   ]
  },
  {
   "cell_type": "code",
   "execution_count": 2,
   "metadata": {},
   "outputs": [
    {
     "name": "stdout",
     "output_type": "stream",
     "text": [
      "/Share/home/shibinbin/projects/Deepfold2\n"
     ]
    }
   ],
   "source": [
    "cd .."
   ]
  },
  {
   "cell_type": "code",
   "execution_count": 3,
   "metadata": {},
   "outputs": [
    {
     "name": "stderr",
     "output_type": "stream",
     "text": [
      "/opt/conda/lib/python2.7/site-packages/h5py/__init__.py:36: FutureWarning: Conversion of the second argument of issubdtype from `float` to `np.floating` is deprecated. In future, it will be treated as `np.float64 == np.dtype(float).type`.\n",
      "  from ._conv import register_converters as _register_converters\n"
     ]
    }
   ],
   "source": [
    "import h5py\n",
    "import pandas as pd"
   ]
  },
  {
   "cell_type": "code",
   "execution_count": 12,
   "metadata": {},
   "outputs": [
    {
     "data": {
      "text/html": [
       "<div>\n",
       "<style scoped>\n",
       "    .dataframe tbody tr th:only-of-type {\n",
       "        vertical-align: middle;\n",
       "    }\n",
       "\n",
       "    .dataframe tbody tr th {\n",
       "        vertical-align: top;\n",
       "    }\n",
       "\n",
       "    .dataframe thead th {\n",
       "        text-align: right;\n",
       "    }\n",
       "</style>\n",
       "<table border=\"1\" class=\"dataframe\">\n",
       "  <thead>\n",
       "    <tr style=\"text-align: right;\">\n",
       "      <th></th>\n",
       "      <th>0</th>\n",
       "      <th>1</th>\n",
       "      <th>2</th>\n",
       "      <th>3</th>\n",
       "      <th>4</th>\n",
       "      <th>5</th>\n",
       "      <th>6</th>\n",
       "      <th>7</th>\n",
       "      <th>8</th>\n",
       "    </tr>\n",
       "  </thead>\n",
       "  <tbody>\n",
       "    <tr>\n",
       "      <th>0</th>\n",
       "      <td>3</td>\n",
       "      <td>araport11</td>\n",
       "      <td>gene</td>\n",
       "      <td>14197677</td>\n",
       "      <td>14199484</td>\n",
       "      <td>.</td>\n",
       "      <td>+</td>\n",
       "      <td>.</td>\n",
       "      <td>gene_id \"AT3G41768\"; gene_source \"araport11\"; ...</td>\n",
       "    </tr>\n",
       "    <tr>\n",
       "      <th>1</th>\n",
       "      <td>3</td>\n",
       "      <td>araport11</td>\n",
       "      <td>transcript</td>\n",
       "      <td>14197677</td>\n",
       "      <td>14199484</td>\n",
       "      <td>.</td>\n",
       "      <td>+</td>\n",
       "      <td>.</td>\n",
       "      <td>gene_id \"AT3G41768\"; transcript_id \"AT3G41768....</td>\n",
       "    </tr>\n",
       "    <tr>\n",
       "      <th>2</th>\n",
       "      <td>3</td>\n",
       "      <td>araport11</td>\n",
       "      <td>exon</td>\n",
       "      <td>14197677</td>\n",
       "      <td>14199484</td>\n",
       "      <td>.</td>\n",
       "      <td>+</td>\n",
       "      <td>.</td>\n",
       "      <td>gene_id \"AT3G41768\"; transcript_id \"AT3G41768....</td>\n",
       "    </tr>\n",
       "    <tr>\n",
       "      <th>3</th>\n",
       "      <td>3</td>\n",
       "      <td>araport11</td>\n",
       "      <td>gene</td>\n",
       "      <td>14199753</td>\n",
       "      <td>14199916</td>\n",
       "      <td>.</td>\n",
       "      <td>+</td>\n",
       "      <td>.</td>\n",
       "      <td>gene_id \"AT3G41979\"; gene_source \"araport11\"; ...</td>\n",
       "    </tr>\n",
       "    <tr>\n",
       "      <th>4</th>\n",
       "      <td>3</td>\n",
       "      <td>araport11</td>\n",
       "      <td>transcript</td>\n",
       "      <td>14199753</td>\n",
       "      <td>14199916</td>\n",
       "      <td>.</td>\n",
       "      <td>+</td>\n",
       "      <td>.</td>\n",
       "      <td>gene_id \"AT3G41979\"; transcript_id \"AT3G41979....</td>\n",
       "    </tr>\n",
       "  </tbody>\n",
       "</table>\n",
       "</div>"
      ],
      "text/plain": [
       "   0          1           2         3         4  5  6  7  \\\n",
       "0  3  araport11        gene  14197677  14199484  .  +  .   \n",
       "1  3  araport11  transcript  14197677  14199484  .  +  .   \n",
       "2  3  araport11        exon  14197677  14199484  .  +  .   \n",
       "3  3  araport11        gene  14199753  14199916  .  +  .   \n",
       "4  3  araport11  transcript  14199753  14199916  .  +  .   \n",
       "\n",
       "                                                   8  \n",
       "0  gene_id \"AT3G41768\"; gene_source \"araport11\"; ...  \n",
       "1  gene_id \"AT3G41768\"; transcript_id \"AT3G41768....  \n",
       "2  gene_id \"AT3G41768\"; transcript_id \"AT3G41768....  \n",
       "3  gene_id \"AT3G41979\"; gene_source \"araport11\"; ...  \n",
       "4  gene_id \"AT3G41979\"; transcript_id \"AT3G41979....  "
      ]
     },
     "execution_count": 12,
     "metadata": {},
     "output_type": "execute_result"
    }
   ],
   "source": [
    "gtf = pd.read_table('/Share/home/shibinbin/data/gtf/TAIR10/Arabidopsis_thaliana.TAIR10.34.rRNA.gtf', \n",
    "                    header=None, sep='\\t')\n",
    "gene_ids = gtf[8].str.extract('transcript_id \"([^\"]+)\";', expand=False)\n",
    "gtf.head()"
   ]
  },
  {
   "cell_type": "code",
   "execution_count": 14,
   "metadata": {},
   "outputs": [
    {
     "data": {
      "text/html": [
       "<div>\n",
       "<style scoped>\n",
       "    .dataframe tbody tr th:only-of-type {\n",
       "        vertical-align: middle;\n",
       "    }\n",
       "\n",
       "    .dataframe tbody tr th {\n",
       "        vertical-align: top;\n",
       "    }\n",
       "\n",
       "    .dataframe thead th {\n",
       "        text-align: right;\n",
       "    }\n",
       "</style>\n",
       "<table border=\"1\" class=\"dataframe\">\n",
       "  <thead>\n",
       "    <tr style=\"text-align: right;\">\n",
       "      <th></th>\n",
       "      <th>0</th>\n",
       "      <th>1</th>\n",
       "      <th>2</th>\n",
       "      <th>3</th>\n",
       "      <th>4</th>\n",
       "      <th>5</th>\n",
       "      <th>6</th>\n",
       "      <th>7</th>\n",
       "      <th>8</th>\n",
       "      <th>9</th>\n",
       "      <th>10</th>\n",
       "      <th>11</th>\n",
       "    </tr>\n",
       "    <tr>\n",
       "      <th>3</th>\n",
       "      <th></th>\n",
       "      <th></th>\n",
       "      <th></th>\n",
       "      <th></th>\n",
       "      <th></th>\n",
       "      <th></th>\n",
       "      <th></th>\n",
       "      <th></th>\n",
       "      <th></th>\n",
       "      <th></th>\n",
       "      <th></th>\n",
       "      <th></th>\n",
       "    </tr>\n",
       "  </thead>\n",
       "  <tbody>\n",
       "    <tr>\n",
       "      <th>AT1G01010.1</th>\n",
       "      <td>Chr1</td>\n",
       "      <td>3630</td>\n",
       "      <td>5899</td>\n",
       "      <td>AT1G01010.1</td>\n",
       "      <td>100</td>\n",
       "      <td>+</td>\n",
       "      <td>3630</td>\n",
       "      <td>3630</td>\n",
       "      <td>0</td>\n",
       "      <td>6</td>\n",
       "      <td>283,281,120,390,153,461,</td>\n",
       "      <td>0,365,855,1075,1543,1808,</td>\n",
       "    </tr>\n",
       "    <tr>\n",
       "      <th>AT1G01020.2</th>\n",
       "      <td>Chr1</td>\n",
       "      <td>6787</td>\n",
       "      <td>8737</td>\n",
       "      <td>AT1G01020.2</td>\n",
       "      <td>100</td>\n",
       "      <td>-</td>\n",
       "      <td>6787</td>\n",
       "      <td>6787</td>\n",
       "      <td>0</td>\n",
       "      <td>8</td>\n",
       "      <td>282,294,86,74,46,90,48,167,</td>\n",
       "      <td>0,369,776,974,1154,1448,1629,1783,</td>\n",
       "    </tr>\n",
       "    <tr>\n",
       "      <th>AT1G01020.6</th>\n",
       "      <td>Chr1</td>\n",
       "      <td>6787</td>\n",
       "      <td>8737</td>\n",
       "      <td>AT1G01020.6</td>\n",
       "      <td>100</td>\n",
       "      <td>-</td>\n",
       "      <td>6787</td>\n",
       "      <td>6787</td>\n",
       "      <td>0</td>\n",
       "      <td>6</td>\n",
       "      <td>282,294,86,90,48,144,</td>\n",
       "      <td>0,369,776,1448,1629,1806,</td>\n",
       "    </tr>\n",
       "    <tr>\n",
       "      <th>AT1G01020.1</th>\n",
       "      <td>Chr1</td>\n",
       "      <td>6787</td>\n",
       "      <td>9130</td>\n",
       "      <td>AT1G01020.1</td>\n",
       "      <td>100</td>\n",
       "      <td>-</td>\n",
       "      <td>6787</td>\n",
       "      <td>6787</td>\n",
       "      <td>0</td>\n",
       "      <td>9</td>\n",
       "      <td>282,76,67,86,74,46,90,48,560,</td>\n",
       "      <td>0,369,596,776,974,1154,1448,1629,1783,</td>\n",
       "    </tr>\n",
       "    <tr>\n",
       "      <th>AT1G01020.3</th>\n",
       "      <td>Chr1</td>\n",
       "      <td>6787</td>\n",
       "      <td>9130</td>\n",
       "      <td>AT1G01020.3</td>\n",
       "      <td>100</td>\n",
       "      <td>-</td>\n",
       "      <td>6787</td>\n",
       "      <td>6787</td>\n",
       "      <td>0</td>\n",
       "      <td>8</td>\n",
       "      <td>282,76,67,86,74,46,229,560,</td>\n",
       "      <td>0,369,596,776,974,1154,1448,1783,</td>\n",
       "    </tr>\n",
       "  </tbody>\n",
       "</table>\n",
       "</div>"
      ],
      "text/plain": [
       "               0     1     2            3    4  5     6     7   8   9   \\\n",
       "3                                                                        \n",
       "AT1G01010.1  Chr1  3630  5899  AT1G01010.1  100  +  3630  3630   0   6   \n",
       "AT1G01020.2  Chr1  6787  8737  AT1G01020.2  100  -  6787  6787   0   8   \n",
       "AT1G01020.6  Chr1  6787  8737  AT1G01020.6  100  -  6787  6787   0   6   \n",
       "AT1G01020.1  Chr1  6787  9130  AT1G01020.1  100  -  6787  6787   0   9   \n",
       "AT1G01020.3  Chr1  6787  9130  AT1G01020.3  100  -  6787  6787   0   8   \n",
       "\n",
       "                                        10  \\\n",
       "3                                            \n",
       "AT1G01010.1       283,281,120,390,153,461,   \n",
       "AT1G01020.2    282,294,86,74,46,90,48,167,   \n",
       "AT1G01020.6          282,294,86,90,48,144,   \n",
       "AT1G01020.1  282,76,67,86,74,46,90,48,560,   \n",
       "AT1G01020.3    282,76,67,86,74,46,229,560,   \n",
       "\n",
       "                                                 11  \n",
       "3                                                    \n",
       "AT1G01010.1               0,365,855,1075,1543,1808,  \n",
       "AT1G01020.2      0,369,776,974,1154,1448,1629,1783,  \n",
       "AT1G01020.6               0,369,776,1448,1629,1806,  \n",
       "AT1G01020.1  0,369,596,776,974,1154,1448,1629,1783,  \n",
       "AT1G01020.3       0,369,596,776,974,1154,1448,1783,  "
      ]
     },
     "execution_count": 14,
     "metadata": {},
     "output_type": "execute_result"
    }
   ],
   "source": [
    "bed = pd.read_table('/Share/home/shibinbin/data/gtf/TAIR10/Arabidopsis_thaliana.TAIR10.34.bed12', \n",
    "                    header=None, sep='\\t')\n",
    "bed.index = bed[3]\n",
    "bed.head()"
   ]
  },
  {
   "cell_type": "code",
   "execution_count": 5,
   "metadata": {},
   "outputs": [],
   "source": [
    "reactivities = {}\n",
    "with h5py.File('output/DMS-seq/Ding_2014/reactivities', 'r') as f:\n",
    "    for transcript_id in gene_ids:\n",
    "        if transcript_id in f.keys():\n",
    "            reactivities[transcript_id] = f[transcript_id][:]"
   ]
  },
  {
   "cell_type": "code",
   "execution_count": 6,
   "metadata": {},
   "outputs": [
    {
     "name": "stdout",
     "output_type": "stream",
     "text": [
      "{'ATCG00950.1': 85, 'ATCG00920.1': 96, 'ATCG01180.1': 123, 'ATMG01380.1': 32, 'ATCG01210.1': 88, 'ATMG01390.1': 1502, 'ATMG00020.1': 1889}\n"
     ]
    }
   ],
   "source": [
    "lengths = {transcript_id:np.sum(~np.isnan(data)) for transcript_id, data in reactivities.items()}\n",
    "print(lengths)"
   ]
  },
  {
   "cell_type": "code",
   "execution_count": 7,
   "metadata": {},
   "outputs": [
    {
     "data": {
      "text/plain": [
       "array([0.25201327, 0.30516687, 0.09219323, ...,        nan,        nan,\n",
       "              nan], dtype=float32)"
      ]
     },
     "execution_count": 7,
     "metadata": {},
     "output_type": "execute_result"
    }
   ],
   "source": [
    "reactivities['ATMG01390.1']"
   ]
  },
  {
   "cell_type": "code",
   "execution_count": 10,
   "metadata": {},
   "outputs": [],
   "source": [
    "from bx.bbi.bigwig_file import BigWigFile"
   ]
  },
  {
   "cell_type": "code",
   "execution_count": 17,
   "metadata": {},
   "outputs": [],
   "source": [
    "bigwig = {}\n",
    "bigwig['+'] = BigWigFile(open('/Share/home/shibinbin/data/RNAex/count/A.thaliana/TAIR10/Structure-seq/DMS/genome.plus.bw', 'rb'))\n",
    "bigwig['-'] = BigWigFile(open('/Share/home/shibinbin/data/RNAex/count/A.thaliana/TAIR10/Structure-seq/DMS/genome.minus.bw', 'rb'))"
   ]
  },
  {
   "cell_type": "code",
   "execution_count": 29,
   "metadata": {},
   "outputs": [],
   "source": [
    "counts = {'+': {}, '-': {}}\n",
    "for strand in '+-':\n",
    "    for transcript_id in reactivities:\n",
    "        tx = bed.loc[transcript_id]\n",
    "        counts[strand][transcript_id] = bigwig[strand].get_as_array(tx[0], tx[1], tx[2])"
   ]
  },
  {
   "cell_type": "code",
   "execution_count": 39,
   "metadata": {},
   "outputs": [
    {
     "data": {
      "text/plain": [
       "0     mitochondria\n",
       "1           361349\n",
       "2           363284\n",
       "3      ATMG01390.1\n",
       "4              100\n",
       "5                -\n",
       "6           361349\n",
       "7           361349\n",
       "8                0\n",
       "9                1\n",
       "10           1935,\n",
       "11              0,\n",
       "Name: ATMG01390.1, dtype: object"
      ]
     },
     "execution_count": 39,
     "metadata": {},
     "output_type": "execute_result"
    }
   ],
   "source": [
    "bed.loc['ATMG01390.1']"
   ]
  },
  {
   "cell_type": "code",
   "execution_count": 35,
   "metadata": {},
   "outputs": [
    {
     "data": {
      "text/plain": [
       "[<matplotlib.lines.Line2D at 0x2ac060b39e50>]"
      ]
     },
     "execution_count": 35,
     "metadata": {},
     "output_type": "execute_result"
    },
    {
     "data": {
      "image/png": "[encoded data removed]",
      "text/plain": [
       "<matplotlib.figure.Figure at 0x2ac060f59110>"
      ]
     },
     "metadata": {},
     "output_type": "display_data"
    }
   ],
   "source": [
    "plot(counts['-']['ATMG01390.1'])"
   ]
  },
  {
   "cell_type": "code",
   "execution_count": 19,
   "metadata": {},
   "outputs": [],
   "source": [
    "bw = bigwig['+']"
   ]
  },
  {
   "cell_type": "code",
   "execution_count": 68,
   "metadata": {},
   "outputs": [
    {
     "name": "stdout",
     "output_type": "stream",
     "text": [
      "['A' 'B' 'C' 'D' 'E' 'F' 'G' 'H' 'I' 'J' 'K' 'L' 'M' 'N']\n"
     ]
    }
   ],
   "source": [
    "sequence = np.asarray([chr(i + ord('A')) for i in range(14)], dtype='S1')\n",
    "print(sequence)"
   ]
  },
  {
   "cell_type": "code",
   "execution_count": 61,
   "metadata": {},
   "outputs": [
    {
     "data": {
      "text/plain": [
       "array([[ 0,  1,  2,  3,  4,  5,  6,  7,  8,  9],\n",
       "       [ 1,  2,  3,  4,  5,  6,  7,  8,  9, 10],\n",
       "       [ 2,  3,  4,  5,  6,  7,  8,  9, 10, 11],\n",
       "       [ 3,  4,  5,  6,  7,  8,  9, 10, 11, 12],\n",
       "       [ 4,  5,  6,  7,  8,  9, 10, 11, 12, 13]], dtype=int32)"
      ]
     },
     "execution_count": 61,
     "metadata": {},
     "output_type": "execute_result"
    }
   ],
   "source": [
    "indices = np.tile(np.arange(10, dtype=np.int32), 5).reshape((-1, 10))\n",
    "indices += np.arange(5)[:, np.newaxis]\n",
    "indices"
   ]
  },
  {
   "cell_type": "code",
   "execution_count": 62,
   "metadata": {},
   "outputs": [
    {
     "data": {
      "text/plain": [
       "array([['A', 'B', 'C', 'D', 'E', 'F', 'G', 'H', 'I', 'J'],\n",
       "       ['B', 'C', 'D', 'E', 'F', 'G', 'H', 'I', 'J', 'K'],\n",
       "       ['C', 'D', 'E', 'F', 'G', 'H', 'I', 'J', 'K', 'L'],\n",
       "       ['D', 'E', 'F', 'G', 'H', 'I', 'J', 'K', 'L', 'M'],\n",
       "       ['E', 'F', 'G', 'H', 'I', 'J', 'K', 'L', 'M', 'N']], dtype='|S1')"
      ]
     },
     "execution_count": 62,
     "metadata": {},
     "output_type": "execute_result"
    }
   ],
   "source": [
    "np.take(sequence, indices)"
   ]
  },
  {
   "cell_type": "code",
   "execution_count": 63,
   "metadata": {},
   "outputs": [],
   "source": [
    "import numba"
   ]
  },
  {
   "cell_type": "code",
   "execution_count": 85,
   "metadata": {},
   "outputs": [],
   "source": [
    "@numba.jit\n",
    "def split_windows_valid(x, window_size, stride):\n",
    "    out_length = int(np.floor(float(x.shape[0] - window_size)/stride)) + 1\n",
    "    if out_length < 0:\n",
    "        out_length = 0\n",
    "    windows = np.empty((out_length, window_size), dtype=x.dtype)\n",
    "    i_x = 0\n",
    "    for i_w in range(0, out_length):\n",
    "        for j in range(window_size):\n",
    "            windows[i_w, j] = x[i_x + j]\n",
    "        i_x += stride\n",
    "    return windows"
   ]
  },
  {
   "cell_type": "code",
   "execution_count": 93,
   "metadata": {},
   "outputs": [
    {
     "data": {
      "text/plain": [
       "array([['A', 'B', 'C', 'D', 'E', 'F', 'G', 'H', 'I', 'J', 'K', 'L', 'M',\n",
       "        'N']], dtype='|S1')"
      ]
     },
     "execution_count": 93,
     "metadata": {},
     "output_type": "execute_result"
    }
   ],
   "source": [
    "split_windows_valid(sequence, 14, 110)"
   ]
  },
  {
   "cell_type": "code",
   "execution_count": 97,
   "metadata": {},
   "outputs": [
    {
     "data": {
      "text/plain": [
       "4"
      ]
     },
     "execution_count": 97,
     "metadata": {},
     "output_type": "execute_result"
    }
   ],
   "source": [
    "int(np.floor(float(100 - 1)/25)) + 1"
   ]
  },
  {
   "cell_type": "code",
   "execution_count": 104,
   "metadata": {},
   "outputs": [
    {
     "data": {
      "text/plain": [
       "array([['N', 'N', 'N', 'N', 'N', 'A', 'B', 'C', 'D', 'E', 'F'],\n",
       "       ['N', 'N', 'N', 'N', 'A', 'B', 'C', 'D', 'E', 'F', 'G'],\n",
       "       ['N', 'N', 'N', 'A', 'B', 'C', 'D', 'E', 'F', 'G', 'H'],\n",
       "       ['N', 'N', 'A', 'B', 'C', 'D', 'E', 'F', 'G', 'H', 'I'],\n",
       "       ['N', 'A', 'B', 'C', 'D', 'E', 'F', 'G', 'H', 'I', 'J'],\n",
       "       ['A', 'B', 'C', 'D', 'E', 'F', 'G', 'H', 'I', 'J', 'K'],\n",
       "       ['B', 'C', 'D', 'E', 'F', 'G', 'H', 'I', 'J', 'K', 'L'],\n",
       "       ['C', 'D', 'E', 'F', 'G', 'H', 'I', 'J', 'K', 'L', 'M'],\n",
       "       ['D', 'E', 'F', 'G', 'H', 'I', 'J', 'K', 'L', 'M', 'N'],\n",
       "       ['E', 'F', 'G', 'H', 'I', 'J', 'K', 'L', 'M', 'N', 'N'],\n",
       "       ['F', 'G', 'H', 'I', 'J', 'K', 'L', 'M', 'N', 'N', 'N'],\n",
       "       ['G', 'H', 'I', 'J', 'K', 'L', 'M', 'N', 'N', 'N', 'N'],\n",
       "       ['H', 'I', 'J', 'K', 'L', 'M', 'N', 'N', 'N', 'N', 'N'],\n",
       "       ['I', 'J', 'K', 'L', 'M', 'N', 'N', 'N', 'N', 'N', 'N']],\n",
       "      dtype='|S1')"
      ]
     },
     "execution_count": 104,
     "metadata": {},
     "output_type": "execute_result"
    }
   ],
   "source": [
    "def split_windows_same(x, padded_value, window_size, stride):\n",
    "    out_length = int(np.floor(float(x.shape[0] - 1)/stride)) + 1\n",
    "    windows = np.full((out_length, window_size), padded_value, dtype=x.dtype)\n",
    "    # left and right padding length\n",
    "    pl = int(np.floor(float(window_size)/2))\n",
    "    pr = window_size - pl\n",
    "    L = x.shape[0]\n",
    "    i_x = 0\n",
    "    for i_w in range(out_length):\n",
    "        for j in range(window_size):\n",
    "            x_pos = i_x + j - pl\n",
    "            if 0 <= x_pos < L:\n",
    "                windows[i_w, j] = x[x_pos]\n",
    "        i_x += stride\n",
    "    return windows\n",
    "split_windows_same(sequence, 'N', 11, 1)"
   ]
  },
  {
   "cell_type": "code",
   "execution_count": null,
   "metadata": {},
   "outputs": [],
   "source": []
  }
 ],
 "metadata": {
  "kernelspec": {
   "display_name": "Python 2",
   "language": "python",
   "name": "python2"
  },
  "language_info": {
   "codemirror_mode": {
    "name": "ipython",
    "version": 2
   },
   "file_extension": ".py",
   "mimetype": "text/x-python",
   "name": "python",
   "nbconvert_exporter": "python",
   "pygments_lexer": "ipython2",
   "version": "2.7.14"
  }
 },
 "nbformat": 4,
 "nbformat_minor": 2
}
