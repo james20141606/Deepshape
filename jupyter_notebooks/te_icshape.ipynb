{
 "cells": [
  {
   "cell_type": "code",
   "execution_count": 1,
   "metadata": {},
   "outputs": [
    {
     "name": "stdout",
     "output_type": "stream",
     "text": [
      "Populating the interactive namespace from numpy and matplotlib\n"
     ]
    }
   ],
   "source": [
    "%pylab inline"
   ]
  },
  {
   "cell_type": "code",
   "execution_count": 2,
   "metadata": {},
   "outputs": [
    {
     "name": "stdout",
     "output_type": "stream",
     "text": [
      "/Share/home/shibinbin/projects/Deepfold2\n"
     ]
    }
   ],
   "source": [
    "cd .."
   ]
  },
  {
   "cell_type": "code",
   "execution_count": 4,
   "metadata": {},
   "outputs": [
    {
     "name": "stderr",
     "output_type": "stream",
     "text": [
      "/dev/shm/shibinbin/anaconda2/lib/python2.7/site-packages/numexpr/cpuinfo.py:42: UserWarning: [Errno 2] No such file or directory\n",
      "  warnings.warn(str(e), UserWarning, stacklevel=stacklevel)\n"
     ]
    }
   ],
   "source": [
    "import h5py\n",
    "import pandas as pd"
   ]
  },
  {
   "cell_type": "code",
   "execution_count": 11,
   "metadata": {},
   "outputs": [],
   "source": [
    "te_num_with_icshape = {}\n",
    "for dataset in ('Lu_2016_invitro.hg38', 'Spitale_2015_invitro.mm10'):\n",
    "    with h5py.File('output/TE/%s/TE_transcript_separate.hmmalign.reactivities'%dataset, 'r') as f:\n",
    "        te_num_with_icshape[dataset] = {}\n",
    "        for te_type in f.keys():\n",
    "            te_num_with_icshape[dataset][te_type] = f[te_type + '/seq_names'].shape[0]\n",
    "    pd.Series(te_num_with_icshape[dataset]).to_csv(\n",
    "        'output/TE/%s/TE_transcript_separate.hmmalign.reactivities.te_num'%dataset, sep='\\t', header=False)"
   ]
  },
  {
   "cell_type": "code",
   "execution_count": 7,
   "metadata": {},
   "outputs": [
    {
     "data": {
      "text/plain": [
       "AluJb        6\n",
       "MER5A        6\n",
       "MIR          6\n",
       "MIRc         8\n",
       "MamSINE1     6\n",
       "U1          16\n",
       "U6          26\n",
       "dtype: int64"
      ]
     },
     "execution_count": 7,
     "metadata": {},
     "output_type": "execute_result"
    }
   ],
   "source": [
    "pd.Series(te_num_with_icshape['Lu_2016_invitro.hg38']).to_csv('')"
   ]
  },
  {
   "cell_type": "code",
   "execution_count": 8,
   "metadata": {},
   "outputs": [
    {
     "data": {
      "text/plain": [
       "7SLRNA            7\n",
       "AmnSINE1          7\n",
       "B1F              71\n",
       "B1F1             19\n",
       "B1F2             26\n",
       "B1_Mm            53\n",
       "B1_Mur1          50\n",
       "B1_Mur2          52\n",
       "B1_Mur3          38\n",
       "B1_Mur4          40\n",
       "B1_Mus1         112\n",
       "B1_Mus2         122\n",
       "B2_Mm1a          48\n",
       "B2_Mm1t          38\n",
       "B2_Mm2          114\n",
       "B3              114\n",
       "B3A              52\n",
       "B4               29\n",
       "B4A              32\n",
       "BC1_Mm           13\n",
       "ID2              11\n",
       "ID4              52\n",
       "ID_B1           132\n",
       "L2               17\n",
       "L3               21\n",
       "LSU-rRNA_Hsa      6\n",
       "MER20             5\n",
       "MER34B-int        6\n",
       "MER5A             7\n",
       "MIR              24\n",
       "               ... \n",
       "MLT1D            12\n",
       "MMETn-int         5\n",
       "MMSAT4          223\n",
       "MT2B             22\n",
       "MTA_Mm            9\n",
       "MTC               5\n",
       "MTD               9\n",
       "ORR1A2            5\n",
       "ORR1A4            6\n",
       "PB1              28\n",
       "PB1D10          114\n",
       "PB1D11           35\n",
       "PB1D7            45\n",
       "PB1D9            89\n",
       "RLTR17B_Mm       20\n",
       "RLTR18B           5\n",
       "RLTR19-int        5\n",
       "RLTR1B-int        5\n",
       "RLTR20A4          9\n",
       "RLTR20C1_MM       8\n",
       "RLTR25B           5\n",
       "RLTR31D_MM        5\n",
       "RLTR45-int        5\n",
       "RMER4A            5\n",
       "RSINE1           95\n",
       "U1                8\n",
       "U2               11\n",
       "URR1A             5\n",
       "URR1B            12\n",
       "X6B_LINE          5\n",
       "Length: 63, dtype: int64"
      ]
     },
     "execution_count": 8,
     "metadata": {},
     "output_type": "execute_result"
    }
   ],
   "source": [
    "pd.Series(te_num_with_icshape['Spitale_2015_invitro.mm10'])"
   ]
  },
  {
   "cell_type": "code",
   "execution_count": null,
   "metadata": {
    "collapsed": true
   },
   "outputs": [],
   "source": []
  }
 ],
 "metadata": {
  "kernelspec": {
   "display_name": "Python 2",
   "language": "python",
   "name": "python2"
  },
  "language_info": {
   "codemirror_mode": {
    "name": "ipython",
    "version": 2
   },
   "file_extension": ".py",
   "mimetype": "text/x-python",
   "name": "python",
   "nbconvert_exporter": "python",
   "pygments_lexer": "ipython2",
   "version": "2.7.13"
  }
 },
 "nbformat": 4,
 "nbformat_minor": 2
}
