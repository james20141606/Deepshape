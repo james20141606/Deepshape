{
 "cells": [
  {
   "cell_type": "code",
   "execution_count": 1,
   "metadata": {},
   "outputs": [
    {
     "name": "stdout",
     "output_type": "stream",
     "text": [
      "Populating the interactive namespace from numpy and matplotlib\n"
     ]
    }
   ],
   "source": [
    "%pylab inline"
   ]
  },
  {
   "cell_type": "code",
   "execution_count": 6,
   "metadata": {},
   "outputs": [],
   "source": [
    "from sklearn.datasets import make_classification\n",
    "from sklearn.model_selection import train_test_split\n",
    "from sklearn.metrics import roc_auc_score, accuracy_score\n",
    "import keras\n",
    "from keras.models import Sequential\n",
    "from keras.layers import Input\n",
    "from keras.layers.core import Dense, Dropout, Activation, Flatten, Lambda, Reshape\n",
    "from keras.layers.merge import Multiply\n",
    "from keras.models import Model\n",
    "from keras.layers.merge import Concatenate, Add\n",
    "from keras.layers.convolutional import Conv1D, Conv2D\n",
    "from keras.layers.pooling import MaxPooling1D, MaxPooling2D, GlobalMaxPooling1D, GlobalMaxPooling2D, AveragePooling1D\n",
    "from keras.layers.convolutional import UpSampling1D, UpSampling2D\n",
    "from keras.regularizers import l2, l1, l1_l2\n",
    "from keras.optimizers import Adam, RMSprop\n",
    "from keras.layers.normalization import BatchNormalization\n",
    "from keras.layers.wrappers import Bidirectional\n",
    "from keras.layers.recurrent import LSTM\n",
    "from keras import backend as K\n",
    "\n",
    "def set_keras_num_threads(n_threads):\n",
    "    from keras import backend as K\n",
    "    import tensorflow as tf\n",
    "    config = tf.ConfigProto()\n",
    "    config.gpu_options.allow_growth = True\n",
    "    config.intra_op_parallelism_threads = n_threads\n",
    "    config.inter_op_parallelism_threads = n_threads\n",
    "    K.set_session(tf.Session(config=config))\n",
    "    \n",
    "set_keras_num_threads(2)\n",
    "\n",
    "import tensorflow as tf\n",
    "import h5py"
   ]
  },
  {
   "cell_type": "code",
   "execution_count": 101,
   "metadata": {},
   "outputs": [],
   "source": [
    "with h5py.File('synthetic_motifs.h5', 'r') as f:\n",
    "    X = f['X'][:]\n",
    "    y = f['y'][:]\n",
    "    positions = f['positions'][:]\n",
    "    pwm = f['pwm'][:]\n",
    "    motif_length = pwm.shape[1]\n",
    "    window_size = X.shape[1]\n",
    "    positions_pos = positions[y == 1]\n",
    "    X_pos = X[y == 1]\n",
    "    X_neg = X[y == 0]\n",
    "    X_motif = np.empty((X_pos.shape[0], pwm.shape[1], X_pos.shape[2]), dtype=np.float32)\n",
    "    for i in range(X_pos.shape[0]):\n",
    "        X_motif[i] = X_pos[i, positions_pos[i]:(positions_pos[i] + motif_length)]"
   ]
  },
  {
   "cell_type": "code",
   "execution_count": 310,
   "metadata": {},
   "outputs": [
    {
     "data": {
      "text/plain": [
       "array([-31.50484621, -16.21829114, -25.6659655 , -13.34580662,\n",
       "       -31.02309954, -31.33767362, -27.57428071, -29.39283959,\n",
       "       -37.27717336, -26.35125428])"
      ]
     },
     "execution_count": 310,
     "metadata": {},
     "output_type": "execute_result"
    }
   ],
   "source": [
    "def categorical_crossentropy_numpy(y_true, y_pred):\n",
    "    n_classes = y_pred.shape[-1]\n",
    "    return np.sum(np.sum(np.log(y_pred)*(y_true.astype(np.bool)), axis=2), axis=1)\n",
    "\n",
    "def categorical_accuracy_numpy(y_true, y_pred):\n",
    "    is_equal = np.argmax(y_true, axis=-1) == np.argmax(y_pred, axis=-1).astype(np.float32)\n",
    "    return np.mean(is_equal, axis=1)\n",
    "\n",
    "def pwm_logL(pwm, X):\n",
    "    logL = categorical_crossentropy_numpy(X, np.repeat(pwm.T[np.newaxis, :, :], X.shape[0], axis=0))\n",
    "    return logL\n",
    "\n",
    "pwm_logL(pwm, X_rand[:10])"
   ]
  },
  {
   "cell_type": "code",
   "execution_count": 226,
   "metadata": {},
   "outputs": [],
   "source": [
    "n_pos = X_motif.shape[0]\n",
    "n_neg = n_pos\n",
    "logL_pos = categorical_crossentropy_numpy(X_motif, np.repeat(pwm.T[np.newaxis, :, :], n_pos, axis=0))\n",
    "y_pos = np.ones(n_pos, dtype=np.int32)\n",
    "X_rand = np.random.randint(X_motif.shape[2], size=(n_pos, X_motif.shape[1]))\n",
    "X_rand = (X_rand[:, :, np.newaxis] == np.arange(X_motif.shape[2])[np.newaxis, np.newaxis, :]).astype(np.int32)\n",
    "logL_neg = categorical_crossentropy_numpy(X_rand, np.repeat(pwm.T[np.newaxis, :, :], n_neg, axis=0))\n",
    "y_neg = np.zeros(n_neg, dtype=np.int32)"
   ]
  },
  {
   "cell_type": "code",
   "execution_count": 306,
   "metadata": {},
   "outputs": [
    {
     "data": {
      "text/plain": [
       "array([-28.156076, -16.614714, -34.988773, ..., -39.89257 , -36.466244,\n",
       "       -39.816475], dtype=float32)"
      ]
     },
     "execution_count": 306,
     "metadata": {},
     "output_type": "execute_result"
    }
   ],
   "source": [
    "logL_neg"
   ]
  },
  {
   "cell_type": "code",
   "execution_count": 227,
   "metadata": {},
   "outputs": [
    {
     "data": {
      "text/plain": [
       "0.9872579749999999"
      ]
     },
     "execution_count": 227,
     "metadata": {},
     "output_type": "execute_result"
    }
   ],
   "source": [
    "roc_auc_score(np.concatenate([y_pos, y_neg]), np.concatenate([logL_pos, logL_neg]))"
   ]
  },
  {
   "cell_type": "code",
   "execution_count": 300,
   "metadata": {},
   "outputs": [
    {
     "name": "stdout",
     "output_type": "stream",
     "text": [
      "__________________________________________________________________________________________________\n",
      "Layer (type)                    Output Shape         Param #     Connected to                     \n",
      "==================================================================================================\n",
      "input (InputLayer)              (None, 10, 4)        0                                            \n",
      "__________________________________________________________________________________________________\n",
      "flatten (Flatten)               (None, 40)           0           input[0][0]                      \n",
      "__________________________________________________________________________________________________\n",
      "encoder_dense1 (Dense)          (None, 128)          5248        flatten[0][0]                    \n",
      "__________________________________________________________________________________________________\n",
      "encoder_dense2 (Dense)          (None, 64)           8256        encoder_dense1[0][0]             \n",
      "__________________________________________________________________________________________________\n",
      "latent_params (Dense)           (None, 8)            520         encoder_dense2[0][0]             \n",
      "__________________________________________________________________________________________________\n",
      "latent_logstdd (Lambda)         (None, 4)            0           latent_params[0][0]              \n",
      "__________________________________________________________________________________________________\n",
      "standard_sampler (Lambda)       (None, 20, 4)        0           input[0][0]                      \n",
      "__________________________________________________________________________________________________\n",
      "latent_mean (Lambda)            (None, 4)            0           latent_params[0][0]              \n",
      "__________________________________________________________________________________________________\n",
      "latent_std (Lambda)             (None, 4)            0           latent_logstdd[0][0]             \n",
      "__________________________________________________________________________________________________\n",
      "latent_sampler (Lambda)         (None, 20, 4)        0           standard_sampler[0][0]           \n",
      "                                                                 latent_mean[0][0]                \n",
      "                                                                 latent_std[0][0]                 \n",
      "__________________________________________________________________________________________________\n",
      "latent (Lambda)                 (None, 4)            0           latent_sampler[0][0]             \n",
      "__________________________________________________________________________________________________\n",
      "decoder_dense1 (Dense)          (None, 64)           320         latent[0][0]                     \n",
      "__________________________________________________________________________________________________\n",
      "decoder_dense2 (Dense)          (None, 128)          8320        decoder_dense1[0][0]             \n",
      "__________________________________________________________________________________________________\n",
      "decoder_dense3 (Dense)          (None, 40)           5160        decoder_dense2[0][0]             \n",
      "__________________________________________________________________________________________________\n",
      "decoder_reshape (Reshape)       (None, 10, 4)        0           decoder_dense3[0][0]             \n",
      "__________________________________________________________________________________________________\n",
      "output_softmax (Lambda)         (None, 10, 4)        0           decoder_reshape[0][0]            \n",
      "__________________________________________________________________________________________________\n",
      "output_mean (Lambda)            (None, 10, 4)        0           output_softmax[0][0]             \n",
      "==================================================================================================\n",
      "Total params: 27,824\n",
      "Trainable params: 27,824\n",
      "Non-trainable params: 0\n",
      "__________________________________________________________________________________________________\n"
     ]
    }
   ],
   "source": [
    "def random_multinomial(p):\n",
    "    '''Draw a sample from multinomial distributions\n",
    "    Args:\n",
    "        p: multinomial probabilities. The last dimension is the label.\n",
    "    Returns:\n",
    "        Samples drawn from each distribution in one-hot encoding.\n",
    "    '''\n",
    "    p_cum = np.cumsum(p, axis=-1)\n",
    "    n_classes = p.shape[-1]\n",
    "    q = np.random.uniform(size=p.shape)\n",
    "    X_labels = np.argmax(q < p_cum, axis=-1)\n",
    "    X = (np.expand_dims(X_labels, axis=-1) == np.arange(n_classes).reshape([1]*(len(p.shape) - 1) + [-1])).astype(np.int32)\n",
    "    return X\n",
    "\n",
    "def batch_generator(X, batch_size=25):\n",
    "    '''Create a iterator that generates batches\n",
    "    '''\n",
    "    n_samples = X.shape[0]\n",
    "    for i in range(n_samples//batch_size):\n",
    "        yield X[(i*batch_size):((i + 1)*batch_size)]\n",
    "    n_remains = n_samples%batch_size\n",
    "    if n_remains > 0:\n",
    "        yield X[-n_remains:]\n",
    "        \n",
    "def conv_network(input_layer):\n",
    "    output = Conv1D(64, 8, padding='same')(input_layer)\n",
    "    output = Activation('relu')(output)\n",
    "    output = MaxPooling1D(2)(output)\n",
    "    output = Conv1D(64, 4, padding='same')(output)\n",
    "    output = Activation('relu')(output)\n",
    "    output = MaxPooling1D(2)(output)\n",
    "    output = Flatten()(output)\n",
    "    return output\n",
    "\n",
    "def deconv_network(input_layer):\n",
    "    output = UpSampling1D(2)(input_layer)\n",
    "    output = Conv1D(64, 4, padding='same')(output)\n",
    "    output = Activation('relu')(output)\n",
    "    output = UpSampling1D(2)(output)\n",
    "    output = Conv1D(64, 8, padding='same')(output)\n",
    "    output = Activation('relu')(output)\n",
    "    output = Conv1D(4, 1, padding='same')(output)\n",
    "    output = Lambda(lambda x: K.softmax(x, axis=2), name='output_softmax')(output)\n",
    "    #output = Dense(64, kernel_regularizer=l2(0.0001))(output)\n",
    "    return output\n",
    "    \n",
    "def sparse_autoencoder(window_size=128, n_channels=4, n_sampler=10, latent_size=2):\n",
    "    input_layer = Input(shape=(window_size, n_channels))\n",
    "    conv_out = conv_network(input_layer)\n",
    "    latent = Dense(latent_size, name='latent')(conv_out)\n",
    "    decoder_input = Dense(window_size//4*n_channels, activation='relu', name='latent_dense')(latent)\n",
    "    decoder_input = Reshape((window_size//4, n_channels), name='latent_reshape')(decoder_input)\n",
    "    output = deconv_network(decoder_input)\n",
    "    model = Model(inputs=[input_layer], outputs=[output])\n",
    "    return model\n",
    "\n",
    "def sparse_autoencoder2(window_size=128, n_channels=4, latent_size=2):\n",
    "    '''Encoders and decoders and multi-layer fully-connected networks.\n",
    "    Input are motif instances.\n",
    "    '''\n",
    "    input_layer = Input(shape=(window_size, n_channels), name='input')\n",
    "    encoder = Flatten(name='flatten')(input_layer)\n",
    "    encoder = Dense(128, activation='relu', name='encoder_dense1')(encoder)\n",
    "    encoder = Dense(64,  activation='relu', name='encoder_dense2')(encoder)\n",
    "    latent = Dense(latent_size, activation='relu', name='latent')(encoder)\n",
    "    decoder = Dense(64, activation='relu', name='decoder_dense1')(latent)\n",
    "    decoder = Dense(128, activation='relu', name='decoder_dense2')(decoder)\n",
    "    decoder = Dense(window_size*n_channels, name='decoder_dense3')(decoder)\n",
    "    decoder = Reshape((window_size, n_channels), name='decoder_reshape')(decoder)\n",
    "    decoder = Lambda(lambda x: K.softmax(x, axis=2), name='output_softmax')(decoder)\n",
    "    model = Model(inputs=[input_layer], outputs=[decoder])\n",
    "    return model\n",
    "    \n",
    "def variational_autoencoder(window_size=128, n_channels=4, n_sampler=10, latent_size=2):\n",
    "    input_layer = Input(shape=(window_size, n_channels))\n",
    "    conv_out = conv_network(input_layer)\n",
    "    \n",
    "    latent_params = Dense(latent_size*2, name='latent_params')(conv_out)\n",
    "    latent_mean = Lambda(lambda x: K.expand_dims(x[:latent_size], axis=1), name='latent_mean')(latent_params)\n",
    "    latent_logstd = Lambda(lambda x: K.expand_dims(x[latent_size:], axis=1), name='latent_logsd')(latent_params)\n",
    "    latent_var = Lambda(lambda x: K.square(K.exp(x)), name='latent_std')(latent_logstd)\n",
    "    standard_sampler = Lambda(lambda x: K.random_normal((K.shape(x)[0], latent_size)),\n",
    "                              name='standard_sampler')(input_layer)\n",
    "    latent_sampler = Lambda(lambda x: x[0]*x[2] + x[1], \n",
    "                            name='latent_sampler')([standard_sampler, latent_mean, latent_std])\n",
    "    latent = Lamda(lambda x: K.reshape((-1, latent_size)), name='latent')(latent_sampler)\n",
    "    \n",
    "    decoder_input = Dense(window_size//4*n_channels, name='latent_dense')(latent)\n",
    "    decoder_input = Reshape((window_size//4, n_channels), name='latent_reshape')(decoder_input)\n",
    "    output = deconv_network(decoder_input)\n",
    "\n",
    "    \n",
    "class VariationalAutoencoder2(object):\n",
    "    def __init__(self, window_size=128, n_channels=4, n_sampler=20, latent_size=2):\n",
    "        '''Encoders and decoders and multi-layer fully-connected networks.\n",
    "        Input are motif instances.\n",
    "        '''\n",
    "        input_layer = Input(shape=(window_size, n_channels), name='input')\n",
    "        encoder = Flatten(name='flatten')(input_layer)\n",
    "        encoder = Dense(128, activation='relu', name='encoder_dense1')(encoder)\n",
    "        encoder = Dense(64,  activation='relu', name='encoder_dense2')(encoder)\n",
    "\n",
    "        latent_params = Dense(latent_size*2, name='latent_params')(encoder)\n",
    "        latent_mean = Lambda(lambda x: x[:, :latent_size], name='latent_mean')(latent_params)\n",
    "        latent_logstd = Lambda(lambda x: x[:, latent_size:], name='latent_logstdd')(latent_params)\n",
    "        latent_std = Lambda(lambda x: K.exp(x), name='latent_std')(latent_logstd)\n",
    "        latent_var = Lambda(lambda x: K.square(x), name='latent_var')(latent_std)\n",
    "        standard_sampler = Lambda(lambda x: K.random_normal((K.shape(x)[0], n_sampler, latent_size)),\n",
    "                                  name='standard_sampler')(input_layer)\n",
    "        latent_sampler = Lambda(lambda x: x[0]*K.expand_dims(x[2], axis=1) + K.expand_dims(x[1], axis=1), \n",
    "                                name='latent_sampler')([standard_sampler, latent_mean, latent_std])\n",
    "        latent = Lambda(lambda x: K.reshape(x, (-1, latent_size)), name='latent')(latent_sampler)\n",
    "\n",
    "        decoder = Dense(64, activation='relu', name='decoder_dense1')(latent)\n",
    "        decoder = Dense(128, activation='relu', name='decoder_dense2')(decoder)\n",
    "        decoder = Dense(window_size*n_channels, name='decoder_dense3')(decoder)\n",
    "        decoder = Reshape((window_size, n_channels), name='decoder_reshape')(decoder)\n",
    "        decoder = Lambda(lambda x: K.softmax(x, axis=-1), name='output_softmax')(decoder)\n",
    "        decoder = Lambda(lambda x: K.mean(K.reshape(x, (-1, n_sampler, window_size, n_channels)), axis=1),\n",
    "                         name='output_mean')(decoder)\n",
    "\n",
    "        def kl_loss(y_true, y_pred):\n",
    "            KL = 0.5*K.sum(latent_var + K.square(latent_mean) - 1 - K.log(latent_var), axis=1)\n",
    "            return KL\n",
    "        \n",
    "        def nll_loss(y_true, y_pred):\n",
    "            y_true = K.reshape(y_true, (-1, n_channels))\n",
    "            y_pred = K.reshape(y_pred, (-1, n_channels))\n",
    "            NLL = K.categorical_crossentropy(y_true, y_pred)\n",
    "            NLL = K.sum(K.reshape(NLL, (-1, window_size)), axis=1)\n",
    "            return NLL\n",
    "            \n",
    "        def vae_loss(y_true, y_pred):\n",
    "            return nll_loss(y_true, y_pred) + kl_loss(y_true, y_pred)    \n",
    "\n",
    "        ll_input = Input(shape=(window_size, n_channels), name='ll_input')\n",
    "        ll = -nll_loss(ll_input, decoder)\n",
    "        model = Model(inputs=[input_layer], outputs=[decoder])\n",
    "        model.compile(loss=vae_loss,\n",
    "                      metrics=['categorical_accuracy', kl_loss, nll_loss],\n",
    "                      optimizer='Adam')\n",
    "        \n",
    "        self.latent_size = latent_size\n",
    "        self.window_size = window_size\n",
    "        self.n_channels = n_channels\n",
    "        self.n_sampler = n_sampler\n",
    "        \n",
    "        self.ll_function = K.function([ll_input, latent_sampler], [ll])\n",
    "        # returns multinomial probabilities\n",
    "        self.sample_function = K.function([latent], [decoder])\n",
    "        \n",
    "        self.input_layer = input_layer\n",
    "        self.model = model\n",
    "        self.latent_mean = latent_mean\n",
    "        self.latent_std = latent_std\n",
    "        self.latent_params = latent_params\n",
    "        self.latent_sampler = latent_sampler\n",
    "        self.decoder = decoder\n",
    "    \n",
    "    def logL(self, X, n_sampler=20, batch_size = 100):\n",
    "        ll_values = []\n",
    "        for X_batch in batch_generator(X, batch_size=batch_size):\n",
    "            sampler_batch = np.random.normal(size=(X_batch.shape[0], n_sampler, self.latent_size))\n",
    "            ll_values.append(self.ll_function([X_batch, sampler_batch])[0])\n",
    "        return np.concatenate(ll_values)\n",
    "\n",
    "    def sample(self, size=1, batch_size = 100):\n",
    "        X = []\n",
    "        for indices in batch_generator(np.arange(size), batch_size=batch_size):\n",
    "            sampler_batch = np.random.normal(size=(indices.shape[0], self.latent_size))\n",
    "            p = self.sample_function([sampler_batch])[0]\n",
    "            X.append(random_multinomial(p))\n",
    "        X = np.concatenate(X, axis=0)\n",
    "        return X\n",
    "\n",
    "#sparse_model = sparse_autoencoder(window_size, latent_size=128)\n",
    "#sparse_model.compile(loss='categorical_crossentropy', metrics=['categorical_accuracy'], optimizer='Adam')\n",
    "#sparse_model.summary()\n",
    "\n",
    "#sparse_model2 = sparse_autoencoder2(motif_length, latent_size=3)\n",
    "#sparse_model2.compile(loss='categorical_crossentropy', metrics=['categorical_accuracy'], optimizer='Adam')\n",
    "#sparse_model2.summary()\n",
    "vae_model2 = VariationalAutoencoder2(motif_length, latent_size=4)\n",
    "vae_model2.model.summary()"
   ]
  },
  {
   "cell_type": "code",
   "execution_count": 304,
   "metadata": {},
   "outputs": [],
   "source": [
    "vae_samples = vae_model2.sample(size=100)"
   ]
  },
  {
   "cell_type": "code",
   "execution_count": 305,
   "metadata": {},
   "outputs": [
    {
     "data": {
      "text/plain": [
       "array([ -7.016315,  -8.379493,  -6.37033 ,  -4.72492 , -10.511507],\n",
       "      dtype=float32)"
      ]
     },
     "execution_count": 305,
     "metadata": {},
     "output_type": "execute_result"
    }
   ],
   "source": [
    "vae_model2.logL(vae_samples)"
   ]
  },
  {
   "cell_type": "code",
   "execution_count": 311,
   "metadata": {},
   "outputs": [
    {
     "data": {
      "text/plain": [
       "array([ -6.63342797,  -9.9420617 , -10.41156909,  -8.10008117,\n",
       "       -14.54659177])"
      ]
     },
     "execution_count": 311,
     "metadata": {},
     "output_type": "execute_result"
    }
   ],
   "source": [
    "pwm_logL(pwm, vae_samples)"
   ]
  },
  {
   "cell_type": "code",
   "execution_count": 271,
   "metadata": {},
   "outputs": [],
   "source": [
    "logL_pos = vae_model2.logL(X_motif)\n",
    "logL_neg = vae_model2.logL(X_rand)"
   ]
  },
  {
   "cell_type": "code",
   "execution_count": 275,
   "metadata": {},
   "outputs": [
    {
     "data": {
      "text/plain": [
       "0.9957775799999999"
      ]
     },
     "execution_count": 275,
     "metadata": {},
     "output_type": "execute_result"
    }
   ],
   "source": [
    "roc_auc_score(np.concatenate([np.ones(logL_pos.shape[0]), np.zeros(logL_neg.shape[0])]),\n",
    "                             np.concatenate([logL_pos, logL_neg]))"
   ]
  },
  {
   "cell_type": "code",
   "execution_count": 248,
   "metadata": {},
   "outputs": [
    {
     "name": "stdout",
     "output_type": "stream",
     "text": [
      "Epoch 1/10\n",
      "10000/10000 [==============================] - 1s 63us/step - loss: 0.1510 - categorical_accuracy: 0.9400\n",
      "Epoch 2/10\n",
      "10000/10000 [==============================] - 1s 63us/step - loss: 0.1557 - categorical_accuracy: 0.9384\n",
      "Epoch 3/10\n",
      "10000/10000 [==============================] - 1s 63us/step - loss: 0.1508 - categorical_accuracy: 0.9403\n",
      "Epoch 4/10\n",
      "10000/10000 [==============================] - 1s 62us/step - loss: 0.1514 - categorical_accuracy: 0.9404\n",
      "Epoch 5/10\n",
      "10000/10000 [==============================] - 1s 62us/step - loss: 0.1492 - categorical_accuracy: 0.9417\n",
      "Epoch 6/10\n",
      "10000/10000 [==============================] - 1s 63us/step - loss: 0.1538 - categorical_accuracy: 0.9395\n",
      "Epoch 7/10\n",
      "10000/10000 [==============================] - 1s 62us/step - loss: 0.1498 - categorical_accuracy: 0.9413\n",
      "Epoch 8/10\n",
      "10000/10000 [==============================] - 1s 64us/step - loss: 0.1511 - categorical_accuracy: 0.9407\n",
      "Epoch 9/10\n",
      "10000/10000 [==============================] - 1s 63us/step - loss: 0.1483 - categorical_accuracy: 0.9418\n",
      "Epoch 10/10\n",
      "10000/10000 [==============================] - 1s 63us/step - loss: 0.1502 - categorical_accuracy: 0.9411\n"
     ]
    },
    {
     "data": {
      "text/plain": [
       "<keras.callbacks.History at 0x7f23c45b3fd0>"
      ]
     },
     "execution_count": 248,
     "metadata": {},
     "output_type": "execute_result"
    }
   ],
   "source": [
    "sparse_model2.fit(X_motif, X_motif, batch_size=50, epochs=10)"
   ]
  },
  {
   "cell_type": "code",
   "execution_count": 302,
   "metadata": {},
   "outputs": [
    {
     "name": "stdout",
     "output_type": "stream",
     "text": [
      "Epoch 1/20\n",
      "10000/10000 [==============================] - 3s 329us/step - loss: 8.4021 - categorical_accuracy: 0.6637 - kl_loss: 0.3215 - nll_loss: 8.0806\n",
      "Epoch 2/20\n",
      "10000/10000 [==============================] - 1s 82us/step - loss: 7.0407 - categorical_accuracy: 0.7321 - kl_loss: 0.7110 - nll_loss: 6.3297\n",
      "Epoch 3/20\n",
      "10000/10000 [==============================] - 1s 80us/step - loss: 6.7943 - categorical_accuracy: 0.7367 - kl_loss: 0.8405 - nll_loss: 5.9538\n",
      "Epoch 4/20\n",
      "10000/10000 [==============================] - 1s 81us/step - loss: 6.6931 - categorical_accuracy: 0.7392 - kl_loss: 0.9036 - nll_loss: 5.7894\n",
      "Epoch 5/20\n",
      "10000/10000 [==============================] - 1s 81us/step - loss: 6.6352 - categorical_accuracy: 0.7405 - kl_loss: 0.9463 - nll_loss: 5.6889\n",
      "Epoch 6/20\n",
      "10000/10000 [==============================] - 1s 80us/step - loss: 6.6016 - categorical_accuracy: 0.7412 - kl_loss: 0.9662 - nll_loss: 5.6354\n",
      "Epoch 7/20\n",
      "10000/10000 [==============================] - 1s 81us/step - loss: 6.5943 - categorical_accuracy: 0.7411 - kl_loss: 0.9926 - nll_loss: 5.6017\n",
      "Epoch 8/20\n",
      "10000/10000 [==============================] - 1s 80us/step - loss: 6.5801 - categorical_accuracy: 0.7413 - kl_loss: 1.0030 - nll_loss: 5.5771\n",
      "Epoch 9/20\n",
      "10000/10000 [==============================] - 1s 80us/step - loss: 6.5725 - categorical_accuracy: 0.7414 - kl_loss: 1.0061 - nll_loss: 5.5664\n",
      "Epoch 10/20\n",
      "10000/10000 [==============================] - 1s 80us/step - loss: 6.5625 - categorical_accuracy: 0.7413 - kl_loss: 1.0124 - nll_loss: 5.5501\n",
      "Epoch 11/20\n",
      "10000/10000 [==============================] - 1s 80us/step - loss: 6.5453 - categorical_accuracy: 0.7436 - kl_loss: 1.0173 - nll_loss: 5.5280\n",
      "Epoch 12/20\n",
      "10000/10000 [==============================] - 1s 79us/step - loss: 6.5285 - categorical_accuracy: 0.7416 - kl_loss: 1.0345 - nll_loss: 5.4940\n",
      "Epoch 13/20\n",
      "10000/10000 [==============================] - 1s 80us/step - loss: 6.5191 - categorical_accuracy: 0.7423 - kl_loss: 1.0534 - nll_loss: 5.4657\n",
      "Epoch 14/20\n",
      "10000/10000 [==============================] - 1s 79us/step - loss: 6.4916 - categorical_accuracy: 0.7454 - kl_loss: 1.0657 - nll_loss: 5.4258\n",
      "Epoch 15/20\n",
      "10000/10000 [==============================] - 1s 82us/step - loss: 6.4852 - categorical_accuracy: 0.7452 - kl_loss: 1.0922 - nll_loss: 5.3929\n",
      "Epoch 16/20\n",
      "10000/10000 [==============================] - 1s 82us/step - loss: 6.4704 - categorical_accuracy: 0.7479 - kl_loss: 1.1128 - nll_loss: 5.3576\n",
      "Epoch 17/20\n",
      "10000/10000 [==============================] - 1s 81us/step - loss: 6.4484 - categorical_accuracy: 0.7491 - kl_loss: 1.1292 - nll_loss: 5.3192\n",
      "Epoch 18/20\n",
      "10000/10000 [==============================] - 1s 80us/step - loss: 6.4446 - categorical_accuracy: 0.7508 - kl_loss: 1.1466 - nll_loss: 5.2980\n",
      "Epoch 19/20\n",
      "10000/10000 [==============================] - 1s 80us/step - loss: 6.4361 - categorical_accuracy: 0.7501 - kl_loss: 1.1578 - nll_loss: 5.2784\n",
      "Epoch 20/20\n",
      "10000/10000 [==============================] - 1s 81us/step - loss: 6.4256 - categorical_accuracy: 0.7518 - kl_loss: 1.1567 - nll_loss: 5.2689\n"
     ]
    },
    {
     "data": {
      "text/plain": [
       "<keras.callbacks.History at 0x7f23c1375198>"
      ]
     },
     "execution_count": 302,
     "metadata": {},
     "output_type": "execute_result"
    }
   ],
   "source": [
    "vae_model2.model.fit(X_motif, X_motif, batch_size=50, epochs=20)"
   ]
  },
  {
   "cell_type": "code",
   "execution_count": 194,
   "metadata": {},
   "outputs": [],
   "source": [
    "get_latent_params = K.function([vae_model2.input_layer], [vae_model2.latent_params])\n",
    "latent_params_values = get_latent_params([X_motif[:1000]])[0]"
   ]
  },
  {
   "cell_type": "code",
   "execution_count": 202,
   "metadata": {},
   "outputs": [
    {
     "data": {
      "text/plain": [
       "(array([ 3.,  1.,  0.,  4.,  2.,  1.,  4.,  2.,  3., 21., 31., 36., 39.,\n",
       "        59., 42., 34., 22., 13., 11., 18., 21.,  4., 19., 30., 55., 60.,\n",
       "        58., 67., 70., 29., 25., 11., 11.,  3.,  1.,  3.,  0.,  2.,  4.,\n",
       "        23., 15., 31., 33., 21., 21., 20.,  9.,  3.,  3.,  2.]),\n",
       " array([-1.12599087, -1.09213012, -1.05826937, -1.02440862, -0.99054788,\n",
       "        -0.95668713, -0.92282638, -0.88896563, -0.85510489, -0.82124414,\n",
       "        -0.78738339, -0.75352264, -0.71966189, -0.68580115, -0.6519404 ,\n",
       "        -0.61807965, -0.5842189 , -0.55035815, -0.51649741, -0.48263666,\n",
       "        -0.44877591, -0.41491516, -0.38105442, -0.34719367, -0.31333292,\n",
       "        -0.27947217, -0.24561142, -0.21175068, -0.17788993, -0.14402918,\n",
       "        -0.11016843, -0.07630769, -0.04244694, -0.00858619,  0.02527456,\n",
       "         0.05913531,  0.09299605,  0.1268568 ,  0.16071755,  0.1945783 ,\n",
       "         0.22843904,  0.26229979,  0.29616054,  0.33002129,  0.36388204,\n",
       "         0.39774278,  0.43160353,  0.46546428,  0.49932503,  0.53318578,\n",
       "         0.56704652]),\n",
       " <a list of 50 Patch objects>)"
      ]
     },
     "execution_count": 202,
     "metadata": {},
     "output_type": "execute_result"
    },
    {
     "data": {
      "image/png": "[encoded data removed]",
      "text/plain": [
       "<matplotlib.figure.Figure at 0x7f23c5b35588>"
      ]
     },
     "metadata": {},
     "output_type": "display_data"
    }
   ],
   "source": [
    "hist(latent_params_values[:, 5], bins=50)"
   ]
  },
  {
   "cell_type": "code",
   "execution_count": 40,
   "metadata": {},
   "outputs": [
    {
     "data": {
      "image/png": "[encoded data removed]",
      "text/plain": [
       "<matplotlib.figure.Figure at 0x7f23d80b0668>"
      ]
     },
     "metadata": {},
     "output_type": "display_data"
    }
   ],
   "source": [
    "def plot_onehot(X):\n",
    "    X = np.swapaxes(X, 1, 2).reshape((-1, X.shape[1]))\n",
    "    fig, ax = plt.subplots(figsize=(10, 6))\n",
    "    ax.pcolor(X, cmap=cm.Greys)\n",
    "plot_onehot(X_pos[:10])"
   ]
  },
  {
   "cell_type": "code",
   "execution_count": 88,
   "metadata": {},
   "outputs": [
    {
     "data": {
      "image/png": "[encoded data removed]",
      "text/plain": [
       "<matplotlib.figure.Figure at 0x7f23d7b01438>"
      ]
     },
     "metadata": {},
     "output_type": "display_data"
    }
   ],
   "source": [
    "X_pred = sparse_model.predict(X_pos[:10])\n",
    "X_pred_onehot = (X_pred >= np.max(X_pred, axis=-1, keepdims=True)).astype(np.float32)\n",
    "plot_onehot(X_pred_onehot[:10])"
   ]
  },
  {
   "cell_type": "code",
   "execution_count": 96,
   "metadata": {},
   "outputs": [
    {
     "data": {
      "image/png": "[encoded data removed]",
      "text/plain": [
       "<matplotlib.figure.Figure at 0x7f23cfcc3208>"
      ]
     },
     "metadata": {},
     "output_type": "display_data"
    }
   ],
   "source": [
    "plot_onehot((X_pred_onehot[:10] != X[:10]).astype(np.float32))"
   ]
  },
  {
   "cell_type": "code",
   "execution_count": 105,
   "metadata": {},
   "outputs": [
    {
     "data": {
      "image/png": "[encoded data removed]",
      "text/plain": [
       "<matplotlib.figure.Figure at 0x7f23cfcc60f0>"
      ]
     },
     "metadata": {},
     "output_type": "display_data"
    }
   ],
   "source": [
    "plot_onehot(X_motif[:10])"
   ]
  },
  {
   "cell_type": "code",
   "execution_count": 314,
   "metadata": {},
   "outputs": [
    {
     "data": {
      "text/plain": [
       "<tf.Tensor 'latent_params_46/BiasAdd:0' shape=(?, 8) dtype=float32>"
      ]
     },
     "execution_count": 314,
     "metadata": {},
     "output_type": "execute_result"
    }
   ],
   "source": [
    "vae_model2.latent_params"
   ]
  },
  {
   "cell_type": "code",
   "execution_count": 322,
   "metadata": {},
   "outputs": [
    {
     "data": {
      "text/plain": [
       "array([[1., 1., 1., 1.],\n",
       "       [1., 1., 0., 1.],\n",
       "       [1., 0., 1., 0.],\n",
       "       [1., 1., 1., 1.],\n",
       "       [0., 1., 1., 1.],\n",
       "       [0., 0., 1., 1.],\n",
       "       [0., 1., 1., 0.],\n",
       "       [1., 1., 1., 1.],\n",
       "       [1., 1., 1., 1.],\n",
       "       [1., 0., 1., 1.]], dtype=float32)"
      ]
     },
     "execution_count": 322,
     "metadata": {},
     "output_type": "execute_result"
    }
   ],
   "source": [
    "def keras_random_binomial(shape, p=0.0, dtype=None, seed=None):\n",
    "    return K.eval(K.random_binomial(shape, p, dtype, seed))\n",
    "keras_random_binomial([10, 4], p=0.75)"
   ]
  },
  {
   "cell_type": "code",
   "execution_count": 315,
   "metadata": {},
   "outputs": [],
   "source": [
    "K.eval?"
   ]
  },
  {
   "cell_type": "code",
   "execution_count": 320,
   "metadata": {},
   "outputs": [
    {
     "data": {
      "text/plain": [
       "array([[1., 0., 0., 0.],\n",
       "       [1., 0., 0., 0.],\n",
       "       [1., 1., 0., 0.]], dtype=float32)"
      ]
     },
     "execution_count": 320,
     "metadata": {},
     "output_type": "execute_result"
    }
   ],
   "source": [
    "K.eval(K.random_binomial([3, 4], p=0.5))"
   ]
  },
  {
   "cell_type": "code",
   "execution_count": 369,
   "metadata": {},
   "outputs": [
    {
     "name": "stdout",
     "output_type": "stream",
     "text": [
      "Epoch 1/10\n",
      "10000/10000 [==============================] - 4s 360us/step - loss: 272.6247\n",
      "Epoch 2/10\n",
      "10000/10000 [==============================] - 1s 79us/step - loss: 4.8446\n",
      "Epoch 3/10\n",
      "10000/10000 [==============================] - 1s 78us/step - loss: 4.8645\n",
      "Epoch 4/10\n",
      "10000/10000 [==============================] - 1s 77us/step - loss: 4.7294\n",
      "Epoch 5/10\n",
      "10000/10000 [==============================] - 1s 76us/step - loss: 4.2588\n",
      "Epoch 6/10\n",
      "10000/10000 [==============================] - 1s 76us/step - loss: 4.1643\n",
      "Epoch 7/10\n",
      "10000/10000 [==============================] - 1s 77us/step - loss: 4.1975\n",
      "Epoch 8/10\n",
      "10000/10000 [==============================] - 1s 77us/step - loss: 4.4201\n",
      "Epoch 9/10\n",
      "10000/10000 [==============================] - 1s 77us/step - loss: 4.4430\n",
      "Epoch 10/10\n",
      "10000/10000 [==============================] - 1s 76us/step - loss: 4.5866\n"
     ]
    },
    {
     "data": {
      "text/plain": [
       "<keras.callbacks.History at 0x7f23bb088fd0>"
      ]
     },
     "execution_count": 369,
     "metadata": {},
     "output_type": "execute_result"
    }
   ],
   "source": [
    "def oneclass_network(window_size=128, n_channels=4):\n",
    "    input_layer = Input(shape=(window_size, n_channels))\n",
    "    output = Flatten(name='flatten')(input_layer)\n",
    "    #output = Dense(64, activation='relu', kernel_regularizer=l1_l2(0.5, 0.5), name='dense1')(output)\n",
    "    #output = Dense(64, activation='relu', kernel_regularizer=l1_l2(0.5, 0.5), name='dense2')(output)\n",
    "    output = Dense(1, activation='sigmoid', kernel_regularizer=l1_l2(1e2, 1e2), name='dense3')(output)\n",
    "    model = Model(inputs=[input_layer], outputs=[output])\n",
    "    \n",
    "    def nll_loss(y_true, y_pred):\n",
    "        return -K.mean(y_pred)\n",
    "    \n",
    "    model.compile(loss=nll_loss, optimizer='Adam')\n",
    "    return model\n",
    "\n",
    "oneclass_model = oneclass_network(window_size=X.shape[1], n_channels=X.shape[2])\n",
    "oneclass_model.fit(X_pos, np.zeros((X_pos.shape[0], 1)), batch_size=25, epochs=10)"
   ]
  },
  {
   "cell_type": "code",
   "execution_count": 370,
   "metadata": {},
   "outputs": [
    {
     "data": {
      "text/plain": [
       "array([[0.95063215],\n",
       "       [0.9506677 ],\n",
       "       [0.95058906],\n",
       "       [0.950588  ],\n",
       "       [0.95062935],\n",
       "       [0.95065355],\n",
       "       [0.95071423],\n",
       "       [0.95065796],\n",
       "       [0.95060617],\n",
       "       [0.95061564]], dtype=float32)"
      ]
     },
     "execution_count": 370,
     "metadata": {},
     "output_type": "execute_result"
    }
   ],
   "source": [
    "oneclass_model.predict(X_pos[:10])"
   ]
  },
  {
   "cell_type": "code",
   "execution_count": 337,
   "metadata": {},
   "outputs": [],
   "source": [
    "l1_l2?"
   ]
  },
  {
   "cell_type": "code",
   "execution_count": null,
   "metadata": {},
   "outputs": [],
   "source": []
  }
 ],
 "metadata": {
  "kernelspec": {
   "display_name": "Python 3",
   "language": "python",
   "name": "python3"
  },
  "language_info": {
   "codemirror_mode": {
    "name": "ipython",
    "version": 3
   },
   "file_extension": ".py",
   "mimetype": "text/x-python",
   "name": "python",
   "nbconvert_exporter": "python",
   "pygments_lexer": "ipython3",
   "version": "3.6.4"
  },
  "latex_envs": {
   "LaTeX_envs_menu_present": true,
   "autoclose": false,
   "autocomplete": true,
   "bibliofile": "biblio.bib",
   "cite_by": "apalike",
   "current_citInitial": 1,
   "eqLabelWithNumbers": true,
   "eqNumInitial": 1,
   "hotkeys": {
    "equation": "Ctrl-E",
    "itemize": "Ctrl-I"
   },
   "labels_anchors": false,
   "latex_user_defs": false,
   "report_style_numbering": false,
   "user_envs_cfg": false
  }
 },
 "nbformat": 4,
 "nbformat_minor": 2
}
