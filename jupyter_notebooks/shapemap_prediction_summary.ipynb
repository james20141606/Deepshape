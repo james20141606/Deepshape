{
 "cells": [
  {
   "cell_type": "code",
   "execution_count": 1,
   "metadata": {},
   "outputs": [
    {
     "name": "stdout",
     "output_type": "stream",
     "text": [
      "Populating the interactive namespace from numpy and matplotlib\n"
     ]
    }
   ],
   "source": [
    "%pylab inline"
   ]
  },
  {
   "cell_type": "code",
   "execution_count": 2,
   "metadata": {},
   "outputs": [
    {
     "name": "stdout",
     "output_type": "stream",
     "text": [
      "/Share/home/shibinbin/projects/Deepfold2\n"
     ]
    }
   ],
   "source": [
    "cd .."
   ]
  },
  {
   "cell_type": "code",
   "execution_count": 3,
   "metadata": {},
   "outputs": [],
   "source": [
    "import pandas as pd"
   ]
  },
  {
   "cell_type": "code",
   "execution_count": 20,
   "metadata": {},
   "outputs": [],
   "source": [
    "datasets = [\"Cell_2018_cellfree_SHAPE\",\n",
    "            \"Cell_2018_incell_SHAPE\",\n",
    "            \"Cell_2018_kasugamycin_SHAPE\"]"
   ]
  },
  {
   "cell_type": "code",
   "execution_count": 5,
   "metadata": {},
   "outputs": [
    {
     "data": {
      "text/html": [
       "<div>\n",
       "<style scoped>\n",
       "    .dataframe tbody tr th:only-of-type {\n",
       "        vertical-align: middle;\n",
       "    }\n",
       "\n",
       "    .dataframe tbody tr th {\n",
       "        vertical-align: top;\n",
       "    }\n",
       "\n",
       "    .dataframe thead th {\n",
       "        text-align: right;\n",
       "    }\n",
       "</style>\n",
       "<table border=\"1\" class=\"dataframe\">\n",
       "  <thead>\n",
       "    <tr style=\"text-align: right;\">\n",
       "      <th></th>\n",
       "      <th>accuracy</th>\n",
       "      <th>binarization_method</th>\n",
       "      <th>cv_index</th>\n",
       "      <th>model</th>\n",
       "      <th>roc_auc</th>\n",
       "      <th>window_size</th>\n",
       "    </tr>\n",
       "  </thead>\n",
       "  <tbody>\n",
       "    <tr>\n",
       "      <th>0</th>\n",
       "      <td>0.626002</td>\n",
       "      <td>patteRNA_viterbi</td>\n",
       "      <td>3</td>\n",
       "      <td>mlp1</td>\n",
       "      <td>0.673318</td>\n",
       "      <td>128</td>\n",
       "    </tr>\n",
       "    <tr>\n",
       "      <th>1</th>\n",
       "      <td>0.678072</td>\n",
       "      <td>percentile_5</td>\n",
       "      <td>3</td>\n",
       "      <td>basic</td>\n",
       "      <td>0.750844</td>\n",
       "      <td>128</td>\n",
       "    </tr>\n",
       "    <tr>\n",
       "      <th>2</th>\n",
       "      <td>0.679193</td>\n",
       "      <td>percentile_5</td>\n",
       "      <td>1</td>\n",
       "      <td>basic</td>\n",
       "      <td>0.741806</td>\n",
       "      <td>128</td>\n",
       "    </tr>\n",
       "    <tr>\n",
       "      <th>3</th>\n",
       "      <td>0.659376</td>\n",
       "      <td>percentile_20</td>\n",
       "      <td>4</td>\n",
       "      <td>basic</td>\n",
       "      <td>0.713999</td>\n",
       "      <td>128</td>\n",
       "    </tr>\n",
       "    <tr>\n",
       "      <th>4</th>\n",
       "      <td>0.631369</td>\n",
       "      <td>patteRNA_viterbi</td>\n",
       "      <td>0</td>\n",
       "      <td>mlp1</td>\n",
       "      <td>0.678672</td>\n",
       "      <td>128</td>\n",
       "    </tr>\n",
       "  </tbody>\n",
       "</table>\n",
       "</div>"
      ],
      "text/plain": [
       "   accuracy binarization_method  cv_index  model   roc_auc  window_size\n",
       "0  0.626002    patteRNA_viterbi         3   mlp1  0.673318          128\n",
       "1  0.678072        percentile_5         3  basic  0.750844          128\n",
       "2  0.679193        percentile_5         1  basic  0.741806          128\n",
       "3  0.659376       percentile_20         4  basic  0.713999          128\n",
       "4  0.631369    patteRNA_viterbi         0   mlp1  0.678672          128"
      ]
     },
     "execution_count": 5,
     "metadata": {},
     "output_type": "execute_result"
    }
   ],
   "source": [
    "metrics = pd.read_table('output/predict_reactivity/Cell_2018_cellfree_SHAPE/metrics.summary.txt')\n",
    "metrics.head()"
   ]
  },
  {
   "cell_type": "code",
   "execution_count": 17,
   "metadata": {},
   "outputs": [
    {
     "data": {
      "text/plain": [
       "dtype('float64')"
      ]
     },
     "execution_count": 17,
     "metadata": {},
     "output_type": "execute_result"
    }
   ],
   "source": [
    "metrics['accuracy'].dtype"
   ]
  },
  {
   "cell_type": "code",
   "execution_count": 14,
   "metadata": {},
   "outputs": [
    {
     "data": {
      "text/plain": [
       "<pandas.core.groupby.DataFrameGroupBy object at 0x2ab82e317e10>"
      ]
     },
     "execution_count": 14,
     "metadata": {},
     "output_type": "execute_result"
    }
   ],
   "source": [
    "metrics.groupby(['binarization_method', 'model', 'window_size'], as_index=False)"
   ]
  },
  {
   "cell_type": "code",
   "execution_count": 36,
   "metadata": {},
   "outputs": [],
   "source": [
    "for dataset in datasets:\n",
    "    metrics = pd.read_table('output/predict_reactivity/{}/metrics.summary.txt'.format(dataset))\n",
    "    metrics_mean = metrics.groupby(['binarization_method', 'model', 'window_size'], as_index=False).mean()\n",
    "    #metrics_std = metrics.groupby(['binarization_method', 'model', 'window_size'], as_index=False)\n",
    "    metrics_mean = metrics_mean.sort_values(['roc_auc', 'accuracy'], ascending=False).head(10)\n",
    "    metrics_mean = metrics_mean.loc[:, ['model', 'binarization_method', 'window_size', 'roc_auc', 'accuracy']]\n",
    "    metrics_mean.to_csv('output/predict_reactivity/{}/metrics.top.txt'.format(dataset), sep='\\t', index=False)"
   ]
  },
  {
   "cell_type": "code",
   "execution_count": 8,
   "metadata": {},
   "outputs": [],
   "source": [
    "metrics_by_rna = pd.read_table('output/predict_reactivity/model_RNAs_domains/metrics_by_rna.summary.txt')\n",
    "metrics_by_rna_best = metrics_by_rna.groupby(['dataset',  'model', 'name']).mean()\n",
    "metrics_by_rna_best = metrics_by_rna.sort_values(['roc_auc'], ascending=False)\n",
    "metrics_by_rna_best.groupby(['dataset']).head(1)\n",
    "metrics_by_rna_best = metrics_by_rna_best.loc[:, ['dataset', 'model', 'binarization_method', 'window_size', 'roc_auc', 'accuracy']]\n",
    "metrics_by_rna_best.to_csv('output/predict_reactivity/model_RNAs_domains/metrics.best.txt', sep='\\t', index=False)"
   ]
  },
  {
   "cell_type": "code",
   "execution_count": 20,
   "metadata": {},
   "outputs": [
    {
     "data": {
      "text/html": [
       "<div>\n",
       "<style scoped>\n",
       "    .dataframe tbody tr th:only-of-type {\n",
       "        vertical-align: middle;\n",
       "    }\n",
       "\n",
       "    .dataframe tbody tr th {\n",
       "        vertical-align: top;\n",
       "    }\n",
       "\n",
       "    .dataframe thead th {\n",
       "        text-align: right;\n",
       "    }\n",
       "</style>\n",
       "<table border=\"1\" class=\"dataframe\">\n",
       "  <thead>\n",
       "    <tr style=\"text-align: right;\">\n",
       "      <th></th>\n",
       "      <th>dataset</th>\n",
       "      <th>model</th>\n",
       "      <th>binarization_method</th>\n",
       "      <th>window_size</th>\n",
       "      <th>roc_auc</th>\n",
       "      <th>accuracy</th>\n",
       "    </tr>\n",
       "  </thead>\n",
       "  <tbody>\n",
       "    <tr>\n",
       "      <th>62</th>\n",
       "      <td>Lu_2016_invitro_hg19_longest</td>\n",
       "      <td>mlp1</td>\n",
       "      <td>percentile_5</td>\n",
       "      <td>128</td>\n",
       "      <td>0.677356</td>\n",
       "      <td>0.642050</td>\n",
       "    </tr>\n",
       "    <tr>\n",
       "      <th>66</th>\n",
       "      <td>Lu_2016_invivo_hg19_longest</td>\n",
       "      <td>mlp1</td>\n",
       "      <td>percentile_5</td>\n",
       "      <td>128</td>\n",
       "      <td>0.669726</td>\n",
       "      <td>0.625919</td>\n",
       "    </tr>\n",
       "    <tr>\n",
       "      <th>56</th>\n",
       "      <td>Cell_2018_kasugamycin_SHAPE</td>\n",
       "      <td>resnet1</td>\n",
       "      <td>percentile_10</td>\n",
       "      <td>128</td>\n",
       "      <td>0.620676</td>\n",
       "      <td>0.588756</td>\n",
       "    </tr>\n",
       "    <tr>\n",
       "      <th>24</th>\n",
       "      <td>Cell_2018_incell_SHAPE</td>\n",
       "      <td>basic</td>\n",
       "      <td>percentile_5</td>\n",
       "      <td>128</td>\n",
       "      <td>0.609861</td>\n",
       "      <td>0.585096</td>\n",
       "    </tr>\n",
       "    <tr>\n",
       "      <th>11</th>\n",
       "      <td>Cell_2018_cellfree_SHAPE</td>\n",
       "      <td>mlp1</td>\n",
       "      <td>percentile_10</td>\n",
       "      <td>128</td>\n",
       "      <td>0.588976</td>\n",
       "      <td>0.570928</td>\n",
       "    </tr>\n",
       "  </tbody>\n",
       "</table>\n",
       "</div>"
      ],
      "text/plain": [
       "                         dataset    model binarization_method  window_size  \\\n",
       "62  Lu_2016_invitro_hg19_longest     mlp1        percentile_5          128   \n",
       "66   Lu_2016_invivo_hg19_longest     mlp1        percentile_5          128   \n",
       "56   Cell_2018_kasugamycin_SHAPE  resnet1       percentile_10          128   \n",
       "24        Cell_2018_incell_SHAPE    basic        percentile_5          128   \n",
       "11      Cell_2018_cellfree_SHAPE     mlp1       percentile_10          128   \n",
       "\n",
       "     roc_auc  accuracy  \n",
       "62  0.677356  0.642050  \n",
       "66  0.669726  0.625919  \n",
       "56  0.620676  0.588756  \n",
       "24  0.609861  0.585096  \n",
       "11  0.588976  0.570928  "
      ]
     },
     "execution_count": 20,
     "metadata": {},
     "output_type": "execute_result"
    }
   ],
   "source": [
    "metrics_by_rna_best = metrics_by_rna.groupby(['dataset', 'model', 'binarization_method', 'window_size'], as_index=False).mean()\n",
    "metrics_by_rna_best = metrics_by_rna_best.sort_values(['roc_auc'], ascending=False)\n",
    "metrics_by_rna_best = metrics_by_rna_best.groupby(['dataset',  'window_size']).head(1)\n",
    "metrics_by_rna_best.to_csv('output/predict_reactivity/model_RNAs_domains/metrics.best.txt', sep='\\t', index=False)\n",
    "metrics_by_rna_best"
   ]
  },
  {
   "cell_type": "code",
   "execution_count": 28,
   "metadata": {},
   "outputs": [
    {
     "data": {
      "text/html": [
       "<div>\n",
       "<style scoped>\n",
       "    .dataframe tbody tr th:only-of-type {\n",
       "        vertical-align: middle;\n",
       "    }\n",
       "\n",
       "    .dataframe tbody tr th {\n",
       "        vertical-align: top;\n",
       "    }\n",
       "\n",
       "    .dataframe thead th {\n",
       "        text-align: right;\n",
       "    }\n",
       "</style>\n",
       "<table border=\"1\" class=\"dataframe\">\n",
       "  <thead>\n",
       "    <tr style=\"text-align: right;\">\n",
       "      <th>dataset</th>\n",
       "      <th>Cell_2018_cellfree_SHAPE</th>\n",
       "      <th>Cell_2018_incell_SHAPE</th>\n",
       "      <th>Cell_2018_kasugamycin_SHAPE</th>\n",
       "      <th>Lu_2016_invitro_hg19_longest</th>\n",
       "      <th>Lu_2016_invivo_hg19_longest</th>\n",
       "    </tr>\n",
       "    <tr>\n",
       "      <th>name</th>\n",
       "      <th></th>\n",
       "      <th></th>\n",
       "      <th></th>\n",
       "      <th></th>\n",
       "      <th></th>\n",
       "    </tr>\n",
       "  </thead>\n",
       "  <tbody>\n",
       "    <tr>\n",
       "      <th>16SRRNA-domain1</th>\n",
       "      <td>0.615270</td>\n",
       "      <td>0.659596</td>\n",
       "      <td>0.658822</td>\n",
       "      <td>0.697783</td>\n",
       "      <td>0.695107</td>\n",
       "    </tr>\n",
       "    <tr>\n",
       "      <th>16SRRNA-domain2</th>\n",
       "      <td>0.636388</td>\n",
       "      <td>0.644384</td>\n",
       "      <td>0.662956</td>\n",
       "      <td>0.686043</td>\n",
       "      <td>0.696322</td>\n",
       "    </tr>\n",
       "    <tr>\n",
       "      <th>16SRRNA-domain3</th>\n",
       "      <td>0.603865</td>\n",
       "      <td>0.608092</td>\n",
       "      <td>0.628534</td>\n",
       "      <td>0.669064</td>\n",
       "      <td>0.653506</td>\n",
       "    </tr>\n",
       "    <tr>\n",
       "      <th>16SRRNA-domain4</th>\n",
       "      <td>0.512480</td>\n",
       "      <td>0.510467</td>\n",
       "      <td>0.520330</td>\n",
       "      <td>0.611111</td>\n",
       "      <td>0.596417</td>\n",
       "    </tr>\n",
       "    <tr>\n",
       "      <th>23SRRNA-domain1</th>\n",
       "      <td>0.635199</td>\n",
       "      <td>0.653831</td>\n",
       "      <td>0.669567</td>\n",
       "      <td>0.736753</td>\n",
       "      <td>0.715683</td>\n",
       "    </tr>\n",
       "    <tr>\n",
       "      <th>23SRRNA-domain2</th>\n",
       "      <td>0.628971</td>\n",
       "      <td>0.642034</td>\n",
       "      <td>0.660225</td>\n",
       "      <td>0.717116</td>\n",
       "      <td>0.695752</td>\n",
       "    </tr>\n",
       "    <tr>\n",
       "      <th>23SRRNA-domain3</th>\n",
       "      <td>0.648543</td>\n",
       "      <td>0.674461</td>\n",
       "      <td>0.664656</td>\n",
       "      <td>0.682663</td>\n",
       "      <td>0.677127</td>\n",
       "    </tr>\n",
       "    <tr>\n",
       "      <th>23SRRNA-domain4</th>\n",
       "      <td>0.679234</td>\n",
       "      <td>0.688365</td>\n",
       "      <td>0.709352</td>\n",
       "      <td>0.731635</td>\n",
       "      <td>0.707452</td>\n",
       "    </tr>\n",
       "    <tr>\n",
       "      <th>23SRRNA-domain5</th>\n",
       "      <td>0.607833</td>\n",
       "      <td>0.605733</td>\n",
       "      <td>0.615294</td>\n",
       "      <td>0.658422</td>\n",
       "      <td>0.639633</td>\n",
       "    </tr>\n",
       "    <tr>\n",
       "      <th>23SRRNA-domain6</th>\n",
       "      <td>0.594677</td>\n",
       "      <td>0.624910</td>\n",
       "      <td>0.617829</td>\n",
       "      <td>0.679535</td>\n",
       "      <td>0.646667</td>\n",
       "    </tr>\n",
       "    <tr>\n",
       "      <th>5SRRNA</th>\n",
       "      <td>0.611736</td>\n",
       "      <td>0.653835</td>\n",
       "      <td>0.679498</td>\n",
       "      <td>0.665081</td>\n",
       "      <td>0.692042</td>\n",
       "    </tr>\n",
       "    <tr>\n",
       "      <th>HCV_domain2</th>\n",
       "      <td>0.490952</td>\n",
       "      <td>0.690952</td>\n",
       "      <td>0.599524</td>\n",
       "      <td>0.645714</td>\n",
       "      <td>0.690952</td>\n",
       "    </tr>\n",
       "    <tr>\n",
       "      <th>TPPribo-ecoli</th>\n",
       "      <td>0.770914</td>\n",
       "      <td>0.718790</td>\n",
       "      <td>0.718790</td>\n",
       "      <td>0.720721</td>\n",
       "      <td>0.711068</td>\n",
       "    </tr>\n",
       "  </tbody>\n",
       "</table>\n",
       "</div>"
      ],
      "text/plain": [
       "dataset          Cell_2018_cellfree_SHAPE  Cell_2018_incell_SHAPE  \\\n",
       "name                                                                \n",
       "16SRRNA-domain1                  0.615270                0.659596   \n",
       "16SRRNA-domain2                  0.636388                0.644384   \n",
       "16SRRNA-domain3                  0.603865                0.608092   \n",
       "16SRRNA-domain4                  0.512480                0.510467   \n",
       "23SRRNA-domain1                  0.635199                0.653831   \n",
       "23SRRNA-domain2                  0.628971                0.642034   \n",
       "23SRRNA-domain3                  0.648543                0.674461   \n",
       "23SRRNA-domain4                  0.679234                0.688365   \n",
       "23SRRNA-domain5                  0.607833                0.605733   \n",
       "23SRRNA-domain6                  0.594677                0.624910   \n",
       "5SRRNA                           0.611736                0.653835   \n",
       "HCV_domain2                      0.490952                0.690952   \n",
       "TPPribo-ecoli                    0.770914                0.718790   \n",
       "\n",
       "dataset          Cell_2018_kasugamycin_SHAPE  Lu_2016_invitro_hg19_longest  \\\n",
       "name                                                                         \n",
       "16SRRNA-domain1                     0.658822                      0.697783   \n",
       "16SRRNA-domain2                     0.662956                      0.686043   \n",
       "16SRRNA-domain3                     0.628534                      0.669064   \n",
       "16SRRNA-domain4                     0.520330                      0.611111   \n",
       "23SRRNA-domain1                     0.669567                      0.736753   \n",
       "23SRRNA-domain2                     0.660225                      0.717116   \n",
       "23SRRNA-domain3                     0.664656                      0.682663   \n",
       "23SRRNA-domain4                     0.709352                      0.731635   \n",
       "23SRRNA-domain5                     0.615294                      0.658422   \n",
       "23SRRNA-domain6                     0.617829                      0.679535   \n",
       "5SRRNA                              0.679498                      0.665081   \n",
       "HCV_domain2                         0.599524                      0.645714   \n",
       "TPPribo-ecoli                       0.718790                      0.720721   \n",
       "\n",
       "dataset          Lu_2016_invivo_hg19_longest  \n",
       "name                                          \n",
       "16SRRNA-domain1                     0.695107  \n",
       "16SRRNA-domain2                     0.696322  \n",
       "16SRRNA-domain3                     0.653506  \n",
       "16SRRNA-domain4                     0.596417  \n",
       "23SRRNA-domain1                     0.715683  \n",
       "23SRRNA-domain2                     0.695752  \n",
       "23SRRNA-domain3                     0.677127  \n",
       "23SRRNA-domain4                     0.707452  \n",
       "23SRRNA-domain5                     0.639633  \n",
       "23SRRNA-domain6                     0.646667  \n",
       "5SRRNA                              0.692042  \n",
       "HCV_domain2                         0.690952  \n",
       "TPPribo-ecoli                       0.711068  "
      ]
     },
     "execution_count": 28,
     "metadata": {},
     "output_type": "execute_result"
    }
   ],
   "source": [
    "metrics_by_rna_best = metrics_by_rna.sort_values(['roc_auc'], ascending=False)\n",
    "metrics_by_rna_best = metrics_by_rna_best.groupby(['dataset', 'name'],\n",
    "                                             as_index=False).head(1)\n",
    "metrics_by_rna_table = metrics_by_rna_best.pivot_table(columns='dataset', index='name', values='roc_auc')\n",
    "metrics_by_rna_table.to_csv('output/predict_reactivity/model_RNAs_domains/metrics_table.best.txt',\n",
    "                            sep='\\t')\n",
    "metrics_by_rna_table"
   ]
  },
  {
   "cell_type": "code",
   "execution_count": null,
   "metadata": {},
   "outputs": [],
   "source": []
  }
 ],
 "metadata": {
  "kernelspec": {
   "display_name": "Python 3",
   "language": "python",
   "name": "python3"
  },
  "language_info": {
   "codemirror_mode": {
    "name": "ipython",
    "version": 3
   },
   "file_extension": ".py",
   "mimetype": "text/x-python",
   "name": "python",
   "nbconvert_exporter": "python",
   "pygments_lexer": "ipython3",
   "version": "3.6.4"
  },
  "latex_envs": {
   "LaTeX_envs_menu_present": true,
   "autoclose": false,
   "autocomplete": true,
   "bibliofile": "biblio.bib",
   "cite_by": "apalike",
   "current_citInitial": 1,
   "eqLabelWithNumbers": true,
   "eqNumInitial": 1,
   "hotkeys": {
    "equation": "Ctrl-E",
    "itemize": "Ctrl-I"
   },
   "labels_anchors": false,
   "latex_user_defs": false,
   "report_style_numbering": false,
   "user_envs_cfg": false
  }
 },
 "nbformat": 4,
 "nbformat_minor": 2
}
